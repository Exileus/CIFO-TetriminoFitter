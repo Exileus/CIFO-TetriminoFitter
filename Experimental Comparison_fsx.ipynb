{
 "cells": [
  {
   "cell_type": "markdown",
   "id": "7b0e15bc",
   "metadata": {},
   "source": [
    "### Experimental Comparison Notebook"
   ]
  },
  {
   "cell_type": "code",
   "execution_count": 1,
   "id": "b3db914b",
   "metadata": {},
   "outputs": [],
   "source": [
    "# Imports\n",
    "import numpy as np\n",
    "import plotly.graph_objects as go\n",
    "import plotly.express as px\n",
    "import pandas as pd\n",
    "from tetris_main import *\n",
    "from utils import *\n",
    "import random\n",
    "from library.genetic_algorithm import gao\n",
    "import os, time, copy, pickle"
   ]
  },
  {
   "cell_type": "code",
   "execution_count": null,
   "id": "0185f08f-04ef-4248-b83e-6f6d1997b0f6",
   "metadata": {},
   "outputs": [],
   "source": [
    "plotly.re"
   ]
  },
  {
   "cell_type": "markdown",
   "id": "4c39a8e6",
   "metadata": {},
   "source": [
    "We would like to retain:\n",
    "* a) Universal Parameters. Grid shape, pieces list, pop_size, elites,iterations, generations.\n",
    "* b) Configuration Parameters\n",
    "* c) Results of ABF\n",
    "* d) SR Ratio Results\n",
    "* e) one example of the fitness and representation of the best individual achieved"
   ]
  },
  {
   "cell_type": "code",
   "execution_count": 2,
   "id": "87e32f77",
   "metadata": {},
   "outputs": [],
   "source": [
    "# Set the path to save this information to.\n",
    "dir_path = os.path.join(os.getcwd(),\"comparison_results\",\"0\")\n",
    "timestamp = time.time()"
   ]
  },
  {
   "cell_type": "markdown",
   "id": "a59a9f4c",
   "metadata": {},
   "source": [
    "##### Parameter Setting"
   ]
  },
  {
   "cell_type": "code",
   "execution_count": 17,
   "id": "dca3240c",
   "metadata": {},
   "outputs": [
    {
     "name": "stdout",
     "output_type": "stream",
     "text": [
      "4\n"
     ]
    }
   ],
   "source": [
    "# Set the parameters here for the configurations to compare, then run the entire notebook!\n",
    "\n",
    "# Option for a medium sized grid, with 9 pieces.\n",
    "grid_shape = (8,12)\n",
    "max_fitness = grid_shape[0] * grid_shape[1]\n",
    "pieces_list = pieces_generator(grid_shape, rotation=False)\n",
    "\n",
    "# Parameters for GA. These are the parameters that must be the same for this type of comparison.\n",
    "# (According to the booklet)\n",
    "pop_size = 20\n",
    "n_elites = 2\n",
    "iterations = 30  # The number of runs | iterations.\n",
    "generations = 100\n",
    "\n",
    "# These are the parameters that correspond and differentiate configurations to test.\n",
    "\n",
    "# What GA configs to test.\n",
    "GA_configs_list = []\n",
    "\n",
    "counter = 0\n",
    "for sel_type in [\"tournament\", \"fps\"]:\n",
    "    for co_type in [\"pmx\", \"cycle\"]:\n",
    "        for p_co in [1.0]:\n",
    "            for mut_type in [\"swap\"]:\n",
    "                for p_mut in [0.4]:\n",
    "                    for n_mut in [1]:\n",
    "                        for p_rot in [0.25]:\n",
    "                            for p_adpt in [0.5]:\n",
    "                                GA_configs_list.append(\n",
    "                                    {\n",
    "                                        \"name\": f\"{counter}_{sel_type}_{co_type}[{p_co}]_{mut_type}[{p_mut},{n_mut}]_rot[{p_rot}]_adpt[{p_adpt}]\",\n",
    "                                        \"params\": {\n",
    "                                            \"generations\": generations,\n",
    "                                            \"selection_type\": sel_type,\n",
    "                                            \"tournament_size\": 20,\n",
    "                                            \"crossover_type\": co_type,\n",
    "                                            \"p_crossover\": p_co,\n",
    "                                            \"mutation_type\": mut_type,\n",
    "                                            \"p_mutation\": p_mut,\n",
    "                                            \"n_mutations\": n_mut,\n",
    "                                            \"p_rot_mut\": p_rot,\n",
    "                                            \"p_adoption\": p_adpt,\n",
    "                                            \"hc_hardstop\": 0,\n",
    "                                        },\n",
    "                                    }\n",
    "                                )\n",
    "                                counter += 1\n",
    "# This is optional setting, since the default will be zero for all.\n",
    "rotations = [\"0\" for i in range(len(pieces_list))]\n",
    "print(len(GA_configs_list))"
   ]
  },
  {
   "cell_type": "markdown",
   "id": "65931ace",
   "metadata": {},
   "source": [
    "---\n",
    "##### Initial Visualization"
   ]
  },
  {
   "cell_type": "code",
   "execution_count": 18,
   "id": "c6ba0d2d",
   "metadata": {},
   "outputs": [
    {
     "data": {
      "application/vnd.plotly.v1+json": {
       "config": {
        "plotlyServerURL": "https://plot.ly"
       },
       "data": [
        {
         "marker": {
          "size": 20,
          "symbol": "square"
         },
         "mode": "markers",
         "type": "scatter",
         "x": [
          0,
          0,
          1,
          1
         ],
         "y": [
          0,
          1,
          0,
          1
         ]
        },
        {
         "marker": {
          "size": 20,
          "symbol": "square"
         },
         "mode": "markers",
         "type": "scatter",
         "x": [
          3,
          3,
          2,
          4
         ],
         "y": [
          0,
          1,
          1,
          1
         ]
        },
        {
         "marker": {
          "size": 20,
          "symbol": "square"
         },
         "mode": "markers",
         "type": "scatter",
         "x": [
          6,
          6,
          5,
          7
         ],
         "y": [
          0,
          1,
          1,
          1
         ]
        },
        {
         "marker": {
          "size": 20,
          "symbol": "square"
         },
         "mode": "markers",
         "type": "scatter",
         "x": [
          8,
          8,
          9,
          9
         ],
         "y": [
          0,
          1,
          0,
          1
         ]
        },
        {
         "marker": {
          "size": 20,
          "symbol": "square"
         },
         "mode": "markers",
         "type": "scatter",
         "x": [
          10,
          10,
          9,
          11
         ],
         "y": [
          1,
          2,
          2,
          2
         ]
        },
        {
         "marker": {
          "size": 20,
          "symbol": "square"
         },
         "mode": "markers",
         "type": "scatter",
         "x": [
          0,
          0,
          0,
          0
         ],
         "y": [
          2,
          3,
          4,
          5
         ]
        },
        {
         "marker": {
          "size": 20,
          "symbol": "square"
         },
         "mode": "markers",
         "type": "scatter",
         "x": [
          2,
          2,
          3,
          1
         ],
         "y": [
          2,
          3,
          3,
          2
         ]
        },
        {
         "marker": {
          "size": 20,
          "symbol": "square"
         },
         "mode": "markers",
         "type": "scatter",
         "x": [
          4,
          4,
          4,
          5
         ],
         "y": [
          2,
          3,
          4,
          4
         ]
        },
        {
         "marker": {
          "size": 20,
          "symbol": "square"
         },
         "mode": "markers",
         "type": "scatter",
         "x": [
          6,
          6,
          5,
          7
         ],
         "y": [
          2,
          3,
          3,
          3
         ]
        },
        {
         "marker": {
          "size": 20,
          "symbol": "square"
         },
         "mode": "markers",
         "type": "scatter",
         "x": [
          8,
          8,
          9,
          9
         ],
         "y": [
          3,
          4,
          3,
          4
         ]
        },
        {
         "marker": {
          "size": 20,
          "symbol": "square"
         },
         "mode": "markers",
         "type": "scatter",
         "x": [
          2,
          2,
          1,
          3
         ],
         "y": [
          4,
          5,
          5,
          5
         ]
        },
        {
         "marker": {
          "size": 20,
          "symbol": "square"
         },
         "mode": "markers",
         "type": "scatter",
         "x": [
          6,
          6,
          5,
          7
         ],
         "y": [
          4,
          5,
          5,
          5
         ]
        },
        {
         "marker": {
          "size": 20,
          "symbol": "square"
         },
         "mode": "markers",
         "type": "scatter",
         "x": [
          10,
          10,
          10,
          9
         ],
         "y": [
          3,
          4,
          5,
          5
         ]
        },
        {
         "marker": {
          "size": 20,
          "symbol": "square"
         },
         "mode": "markers",
         "type": "scatter",
         "x": [
          4,
          4,
          3,
          5
         ],
         "y": [
          5,
          6,
          6,
          6
         ]
        },
        {
         "marker": {
          "size": 20,
          "symbol": "square"
         },
         "mode": "markers",
         "type": "scatter",
         "x": [
          11,
          11,
          11,
          11
         ],
         "y": [
          3,
          4,
          5,
          6
         ]
        },
        {
         "marker": {
          "size": 20,
          "symbol": "square"
         },
         "mode": "markers",
         "type": "scatter",
         "x": [
          8,
          8,
          7,
          9
         ],
         "y": [
          5,
          6,
          6,
          6
         ]
        },
        {
         "marker": {
          "size": 20,
          "symbol": "square"
         },
         "mode": "markers",
         "type": "scatter",
         "x": [
          0,
          0,
          1,
          1
         ],
         "y": [
          6,
          7,
          6,
          7
         ]
        },
        {
         "marker": {
          "size": 20,
          "symbol": "square"
         },
         "mode": "markers",
         "type": "scatter",
         "x": [
          6,
          6,
          5,
          7
         ],
         "y": [
          6,
          7,
          7,
          7
         ]
        },
        {
         "marker": {
          "size": 20,
          "symbol": "square"
         },
         "mode": "markers",
         "type": "scatter",
         "x": [
          10,
          10,
          9,
          11
         ],
         "y": [
          6,
          7,
          7,
          7
         ]
        }
       ],
       "layout": {
        "height": 600,
        "margin": {
         "b": 0,
         "l": 0,
         "r": 0,
         "t": 80
        },
        "showlegend": false,
        "template": {
         "data": {
          "bar": [
           {
            "error_x": {
             "color": "#2a3f5f"
            },
            "error_y": {
             "color": "#2a3f5f"
            },
            "marker": {
             "line": {
              "color": "#E5ECF6",
              "width": 0.5
             }
            },
            "type": "bar"
           }
          ],
          "barpolar": [
           {
            "marker": {
             "line": {
              "color": "#E5ECF6",
              "width": 0.5
             }
            },
            "type": "barpolar"
           }
          ],
          "carpet": [
           {
            "aaxis": {
             "endlinecolor": "#2a3f5f",
             "gridcolor": "white",
             "linecolor": "white",
             "minorgridcolor": "white",
             "startlinecolor": "#2a3f5f"
            },
            "baxis": {
             "endlinecolor": "#2a3f5f",
             "gridcolor": "white",
             "linecolor": "white",
             "minorgridcolor": "white",
             "startlinecolor": "#2a3f5f"
            },
            "type": "carpet"
           }
          ],
          "choropleth": [
           {
            "colorbar": {
             "outlinewidth": 0,
             "ticks": ""
            },
            "type": "choropleth"
           }
          ],
          "contour": [
           {
            "colorbar": {
             "outlinewidth": 0,
             "ticks": ""
            },
            "colorscale": [
             [
              0,
              "#0d0887"
             ],
             [
              0.1111111111111111,
              "#46039f"
             ],
             [
              0.2222222222222222,
              "#7201a8"
             ],
             [
              0.3333333333333333,
              "#9c179e"
             ],
             [
              0.4444444444444444,
              "#bd3786"
             ],
             [
              0.5555555555555556,
              "#d8576b"
             ],
             [
              0.6666666666666666,
              "#ed7953"
             ],
             [
              0.7777777777777778,
              "#fb9f3a"
             ],
             [
              0.8888888888888888,
              "#fdca26"
             ],
             [
              1,
              "#f0f921"
             ]
            ],
            "type": "contour"
           }
          ],
          "contourcarpet": [
           {
            "colorbar": {
             "outlinewidth": 0,
             "ticks": ""
            },
            "type": "contourcarpet"
           }
          ],
          "heatmap": [
           {
            "colorbar": {
             "outlinewidth": 0,
             "ticks": ""
            },
            "colorscale": [
             [
              0,
              "#0d0887"
             ],
             [
              0.1111111111111111,
              "#46039f"
             ],
             [
              0.2222222222222222,
              "#7201a8"
             ],
             [
              0.3333333333333333,
              "#9c179e"
             ],
             [
              0.4444444444444444,
              "#bd3786"
             ],
             [
              0.5555555555555556,
              "#d8576b"
             ],
             [
              0.6666666666666666,
              "#ed7953"
             ],
             [
              0.7777777777777778,
              "#fb9f3a"
             ],
             [
              0.8888888888888888,
              "#fdca26"
             ],
             [
              1,
              "#f0f921"
             ]
            ],
            "type": "heatmap"
           }
          ],
          "heatmapgl": [
           {
            "colorbar": {
             "outlinewidth": 0,
             "ticks": ""
            },
            "colorscale": [
             [
              0,
              "#0d0887"
             ],
             [
              0.1111111111111111,
              "#46039f"
             ],
             [
              0.2222222222222222,
              "#7201a8"
             ],
             [
              0.3333333333333333,
              "#9c179e"
             ],
             [
              0.4444444444444444,
              "#bd3786"
             ],
             [
              0.5555555555555556,
              "#d8576b"
             ],
             [
              0.6666666666666666,
              "#ed7953"
             ],
             [
              0.7777777777777778,
              "#fb9f3a"
             ],
             [
              0.8888888888888888,
              "#fdca26"
             ],
             [
              1,
              "#f0f921"
             ]
            ],
            "type": "heatmapgl"
           }
          ],
          "histogram": [
           {
            "marker": {
             "colorbar": {
              "outlinewidth": 0,
              "ticks": ""
             }
            },
            "type": "histogram"
           }
          ],
          "histogram2d": [
           {
            "colorbar": {
             "outlinewidth": 0,
             "ticks": ""
            },
            "colorscale": [
             [
              0,
              "#0d0887"
             ],
             [
              0.1111111111111111,
              "#46039f"
             ],
             [
              0.2222222222222222,
              "#7201a8"
             ],
             [
              0.3333333333333333,
              "#9c179e"
             ],
             [
              0.4444444444444444,
              "#bd3786"
             ],
             [
              0.5555555555555556,
              "#d8576b"
             ],
             [
              0.6666666666666666,
              "#ed7953"
             ],
             [
              0.7777777777777778,
              "#fb9f3a"
             ],
             [
              0.8888888888888888,
              "#fdca26"
             ],
             [
              1,
              "#f0f921"
             ]
            ],
            "type": "histogram2d"
           }
          ],
          "histogram2dcontour": [
           {
            "colorbar": {
             "outlinewidth": 0,
             "ticks": ""
            },
            "colorscale": [
             [
              0,
              "#0d0887"
             ],
             [
              0.1111111111111111,
              "#46039f"
             ],
             [
              0.2222222222222222,
              "#7201a8"
             ],
             [
              0.3333333333333333,
              "#9c179e"
             ],
             [
              0.4444444444444444,
              "#bd3786"
             ],
             [
              0.5555555555555556,
              "#d8576b"
             ],
             [
              0.6666666666666666,
              "#ed7953"
             ],
             [
              0.7777777777777778,
              "#fb9f3a"
             ],
             [
              0.8888888888888888,
              "#fdca26"
             ],
             [
              1,
              "#f0f921"
             ]
            ],
            "type": "histogram2dcontour"
           }
          ],
          "mesh3d": [
           {
            "colorbar": {
             "outlinewidth": 0,
             "ticks": ""
            },
            "type": "mesh3d"
           }
          ],
          "parcoords": [
           {
            "line": {
             "colorbar": {
              "outlinewidth": 0,
              "ticks": ""
             }
            },
            "type": "parcoords"
           }
          ],
          "pie": [
           {
            "automargin": true,
            "type": "pie"
           }
          ],
          "scatter": [
           {
            "marker": {
             "colorbar": {
              "outlinewidth": 0,
              "ticks": ""
             }
            },
            "type": "scatter"
           }
          ],
          "scatter3d": [
           {
            "line": {
             "colorbar": {
              "outlinewidth": 0,
              "ticks": ""
             }
            },
            "marker": {
             "colorbar": {
              "outlinewidth": 0,
              "ticks": ""
             }
            },
            "type": "scatter3d"
           }
          ],
          "scattercarpet": [
           {
            "marker": {
             "colorbar": {
              "outlinewidth": 0,
              "ticks": ""
             }
            },
            "type": "scattercarpet"
           }
          ],
          "scattergeo": [
           {
            "marker": {
             "colorbar": {
              "outlinewidth": 0,
              "ticks": ""
             }
            },
            "type": "scattergeo"
           }
          ],
          "scattergl": [
           {
            "marker": {
             "colorbar": {
              "outlinewidth": 0,
              "ticks": ""
             }
            },
            "type": "scattergl"
           }
          ],
          "scattermapbox": [
           {
            "marker": {
             "colorbar": {
              "outlinewidth": 0,
              "ticks": ""
             }
            },
            "type": "scattermapbox"
           }
          ],
          "scatterpolar": [
           {
            "marker": {
             "colorbar": {
              "outlinewidth": 0,
              "ticks": ""
             }
            },
            "type": "scatterpolar"
           }
          ],
          "scatterpolargl": [
           {
            "marker": {
             "colorbar": {
              "outlinewidth": 0,
              "ticks": ""
             }
            },
            "type": "scatterpolargl"
           }
          ],
          "scatterternary": [
           {
            "marker": {
             "colorbar": {
              "outlinewidth": 0,
              "ticks": ""
             }
            },
            "type": "scatterternary"
           }
          ],
          "surface": [
           {
            "colorbar": {
             "outlinewidth": 0,
             "ticks": ""
            },
            "colorscale": [
             [
              0,
              "#0d0887"
             ],
             [
              0.1111111111111111,
              "#46039f"
             ],
             [
              0.2222222222222222,
              "#7201a8"
             ],
             [
              0.3333333333333333,
              "#9c179e"
             ],
             [
              0.4444444444444444,
              "#bd3786"
             ],
             [
              0.5555555555555556,
              "#d8576b"
             ],
             [
              0.6666666666666666,
              "#ed7953"
             ],
             [
              0.7777777777777778,
              "#fb9f3a"
             ],
             [
              0.8888888888888888,
              "#fdca26"
             ],
             [
              1,
              "#f0f921"
             ]
            ],
            "type": "surface"
           }
          ],
          "table": [
           {
            "cells": {
             "fill": {
              "color": "#EBF0F8"
             },
             "line": {
              "color": "white"
             }
            },
            "header": {
             "fill": {
              "color": "#C8D4E3"
             },
             "line": {
              "color": "white"
             }
            },
            "type": "table"
           }
          ]
         },
         "layout": {
          "annotationdefaults": {
           "arrowcolor": "#2a3f5f",
           "arrowhead": 0,
           "arrowwidth": 1
          },
          "autotypenumbers": "strict",
          "coloraxis": {
           "colorbar": {
            "outlinewidth": 0,
            "ticks": ""
           }
          },
          "colorscale": {
           "diverging": [
            [
             0,
             "#8e0152"
            ],
            [
             0.1,
             "#c51b7d"
            ],
            [
             0.2,
             "#de77ae"
            ],
            [
             0.3,
             "#f1b6da"
            ],
            [
             0.4,
             "#fde0ef"
            ],
            [
             0.5,
             "#f7f7f7"
            ],
            [
             0.6,
             "#e6f5d0"
            ],
            [
             0.7,
             "#b8e186"
            ],
            [
             0.8,
             "#7fbc41"
            ],
            [
             0.9,
             "#4d9221"
            ],
            [
             1,
             "#276419"
            ]
           ],
           "sequential": [
            [
             0,
             "#0d0887"
            ],
            [
             0.1111111111111111,
             "#46039f"
            ],
            [
             0.2222222222222222,
             "#7201a8"
            ],
            [
             0.3333333333333333,
             "#9c179e"
            ],
            [
             0.4444444444444444,
             "#bd3786"
            ],
            [
             0.5555555555555556,
             "#d8576b"
            ],
            [
             0.6666666666666666,
             "#ed7953"
            ],
            [
             0.7777777777777778,
             "#fb9f3a"
            ],
            [
             0.8888888888888888,
             "#fdca26"
            ],
            [
             1,
             "#f0f921"
            ]
           ],
           "sequentialminus": [
            [
             0,
             "#0d0887"
            ],
            [
             0.1111111111111111,
             "#46039f"
            ],
            [
             0.2222222222222222,
             "#7201a8"
            ],
            [
             0.3333333333333333,
             "#9c179e"
            ],
            [
             0.4444444444444444,
             "#bd3786"
            ],
            [
             0.5555555555555556,
             "#d8576b"
            ],
            [
             0.6666666666666666,
             "#ed7953"
            ],
            [
             0.7777777777777778,
             "#fb9f3a"
            ],
            [
             0.8888888888888888,
             "#fdca26"
            ],
            [
             1,
             "#f0f921"
            ]
           ]
          },
          "colorway": [
           "#636efa",
           "#EF553B",
           "#00cc96",
           "#ab63fa",
           "#FFA15A",
           "#19d3f3",
           "#FF6692",
           "#B6E880",
           "#FF97FF",
           "#FECB52"
          ],
          "font": {
           "color": "#2a3f5f"
          },
          "geo": {
           "bgcolor": "white",
           "lakecolor": "white",
           "landcolor": "#E5ECF6",
           "showlakes": true,
           "showland": true,
           "subunitcolor": "white"
          },
          "hoverlabel": {
           "align": "left"
          },
          "hovermode": "closest",
          "mapbox": {
           "style": "light"
          },
          "paper_bgcolor": "white",
          "plot_bgcolor": "#E5ECF6",
          "polar": {
           "angularaxis": {
            "gridcolor": "white",
            "linecolor": "white",
            "ticks": ""
           },
           "bgcolor": "#E5ECF6",
           "radialaxis": {
            "gridcolor": "white",
            "linecolor": "white",
            "ticks": ""
           }
          },
          "scene": {
           "xaxis": {
            "backgroundcolor": "#E5ECF6",
            "gridcolor": "white",
            "gridwidth": 2,
            "linecolor": "white",
            "showbackground": true,
            "ticks": "",
            "zerolinecolor": "white"
           },
           "yaxis": {
            "backgroundcolor": "#E5ECF6",
            "gridcolor": "white",
            "gridwidth": 2,
            "linecolor": "white",
            "showbackground": true,
            "ticks": "",
            "zerolinecolor": "white"
           },
           "zaxis": {
            "backgroundcolor": "#E5ECF6",
            "gridcolor": "white",
            "gridwidth": 2,
            "linecolor": "white",
            "showbackground": true,
            "ticks": "",
            "zerolinecolor": "white"
           }
          },
          "shapedefaults": {
           "line": {
            "color": "#2a3f5f"
           }
          },
          "ternary": {
           "aaxis": {
            "gridcolor": "white",
            "linecolor": "white",
            "ticks": ""
           },
           "baxis": {
            "gridcolor": "white",
            "linecolor": "white",
            "ticks": ""
           },
           "bgcolor": "#E5ECF6",
           "caxis": {
            "gridcolor": "white",
            "linecolor": "white",
            "ticks": ""
           }
          },
          "title": {
           "x": 0.05
          },
          "xaxis": {
           "automargin": true,
           "gridcolor": "white",
           "linecolor": "white",
           "ticks": "",
           "title": {
            "standoff": 15
           },
           "zerolinecolor": "white",
           "zerolinewidth": 2
          },
          "yaxis": {
           "automargin": true,
           "gridcolor": "white",
           "linecolor": "white",
           "ticks": "",
           "title": {
            "standoff": 15
           },
           "zerolinecolor": "white",
           "zerolinewidth": 2
          }
         }
        },
        "title": {
         "text": "<b>Fitness:</b> 0/9600<br><b>Pieces used:</b> 19/24"
        },
        "width": 600,
        "xaxis": {
         "fixedrange": true,
         "range": [
          -0.5,
          11.5
         ],
         "showticklabels": false
        },
        "yaxis": {
         "range": [
          7.5,
          -0.5
         ],
         "showticklabels": false,
         "tickfont": {
          "size": 12
         }
        }
       }
      }
     },
     "metadata": {},
     "output_type": "display_data"
    }
   ],
   "source": [
    "# This cell just makes an initial visualization of the grid and pieces.\n",
    "\n",
    "# This will generate the individual automatically for the just the initial visualization.\n",
    "vis_individual = [x+y for x,y in list(zip(pieces_list,rotations))]\n",
    "\n",
    "grid, pieces_coordinates = tetrimino_fitter(vis_individual, grid_shape)\n",
    "plot_grid(\n",
    "    ind_fitness = 0,\n",
    "    grid=grid,\n",
    "    pieces_coordinates=pieces_coordinates,\n",
    "    save_html_name= None,\n",
    "    save_png_name= None,\n",
    "    marker_size= 20,\n",
    "    width= 600,\n",
    "    height= 600\n",
    ")"
   ]
  },
  {
   "cell_type": "markdown",
   "id": "629bb4f2",
   "metadata": {},
   "source": [
    "---\n",
    "#### GA algorithm runs"
   ]
  },
  {
   "cell_type": "code",
   "execution_count": 19,
   "id": "fe4a8c06",
   "metadata": {},
   "outputs": [],
   "source": [
    "# Initialize a dict where we store fitness history for each run.\n",
    "fitness_dict = {}\n",
    "# Initialize a dict for ABF for configs tested.\n",
    "ABF_dict = {}\n",
    "\n",
    "# Initialize a list to hold the collection of the best individuals.\n",
    "best_individuals = {config[\"name\"]:[] for config in GA_configs_list}"
   ]
  },
  {
   "cell_type": "code",
   "execution_count": 20,
   "id": "b3d25e5e",
   "metadata": {},
   "outputs": [
    {
     "name": "stdout",
     "output_type": "stream",
     "text": [
      "initializing individuals\n",
      "[0.0%] config: 0_tournament_pmx[1.0]_swap[0.4,1]_rot[0.25]_adpt[0.5]\n",
      "Run: 0 - 1 - 2 - 3 - 4 - 5 - 6 - 7 - 8 - 9 - 10 - 11 - 12 - 13 - 14 - 15 - 16 - 17 - 18 - 19 - 20 - 21 - 22 - 23 - 24 - 25 - 26 - 27 - 28 - 29 - \n",
      "[25.0%] config: 1_tournament_cycle[1.0]_swap[0.4,1]_rot[0.25]_adpt[0.5]\n",
      "Run: 0 - 1 - 2 - 3 - 4 - 5 - 6 - 7 - 8 - 9 - 10 - 11 - 12 - 13 - 14 - 15 - 16 - 17 - 18 - 19 - 20 - 21 - 22 - 23 - 24 - 25 - 26 - 27 - 28 - 29 - \n",
      "[50.0%] config: 2_fps_pmx[1.0]_swap[0.4,1]_rot[0.25]_adpt[0.5]\n",
      "Run: 0 - 1 - 2 - 3 - 4 - 5 - 6 - 7 - 8 - 9 - 10 - 11 - 12 - 13 - 14 - 15 - 16 - 17 - 18 - 19 - 20 - 21 - 22 - 23 - 24 - 25 - 26 - 27 - 28 - 29 - \n",
      "[75.0%] config: 3_fps_cycle[1.0]_swap[0.4,1]_rot[0.25]_adpt[0.5]\n",
      "Run: 0 - 1 - 2 - 3 - 4 - 5 - 6 - 7 - 8 - 9 - 10 - 11 - 12 - 13 - 14 - 15 - 16 - 17 - 18 - 19 - 20 - 21 - 22 - 23 - 24 - 25 - 26 - 27 - 28 - 29 - \n"
     ]
    }
   ],
   "source": [
    "print(f\"initializing individuals\")\n",
    "# For each run, have a specific population in all configs\n",
    "individuals_iters = [\n",
    "    [\n",
    "        generate_individual(pieces_list, grid_shape, hc_hardstop=0)\n",
    "        for i in range(pop_size)\n",
    "    ]\n",
    "    for _ in range(iterations)\n",
    "]\n",
    "for i, GA_config in enumerate(GA_configs_list):\n",
    "    print(f\"[{i/len(GA_configs_list)*100}%] config: {GA_config['name']}\")\n",
    "    print(\"Run:\", end=\" \")\n",
    "    for iteration in range(iterations):\n",
    "        # Initialize individuals and the population.\n",
    "        print(f\"{iteration}\", end=\" - \")\n",
    "        pop = Population(\n",
    "            copy.deepcopy(individuals_iters[iteration]), \"max\", n_elites, pieces_list, grid_shape\n",
    "        )\n",
    "        gao.GAO(\n",
    "            pop, verbose=False, **GA_config[\"params\"],\n",
    "        )\n",
    "        # save fitness history each iteration.\n",
    "        fitness_dict[iteration] = pop.fitness_history\n",
    "\n",
    "        # Save the best individual of the iteration. With this construction, they will be easy to find later.\n",
    "        best_individuals[GA_config[\"name\"]].append(pop.elites[0])\n",
    "    print()\n",
    "    # Build a dataframe / table with fitness per generation.\n",
    "    df = pd.DataFrame(fitness_dict)\n",
    "\n",
    "    # Record the Average Best Fitness in the respective dict.\n",
    "    ABF_dict[GA_config[\"name\"]] = df.mean(axis=1)\n",
    "\n"
   ]
  },
  {
   "cell_type": "markdown",
   "id": "4ca52650",
   "metadata": {},
   "source": [
    "---\n",
    "#### Average Best Fitness Comparison"
   ]
  },
  {
   "cell_type": "code",
   "execution_count": 21,
   "id": "f39522fc",
   "metadata": {},
   "outputs": [
    {
     "data": {
      "text/plain": [
       "7556"
      ]
     },
     "execution_count": 21,
     "metadata": {},
     "output_type": "execute_result"
    }
   ],
   "source": [
    "ABF_df.min()[0]"
   ]
  },
  {
   "cell_type": "code",
   "execution_count": 22,
   "id": "b7818e80",
   "metadata": {},
   "outputs": [
    {
     "data": {
      "application/vnd.plotly.v1+json": {
       "config": {
        "plotlyServerURL": "https://plot.ly"
       },
       "data": [
        {
         "hovertemplate": "variable=0_tournament_pmx[1.0]_swap[0.4,1]_rot[0.25]_adpt[0.5]<br>Generation=%{x}<br>Fitness=%{y}<extra></extra>",
         "legendgroup": "0_tournament_pmx[1.0]_swap[0.4,1]_rot[0.25]_adpt[0.5]",
         "line": {
          "color": "#636efa",
          "dash": "solid"
         },
         "mode": "lines",
         "name": "0_tournament_pmx[1.0]_swap[0.4,1]_rot[0.25]_adpt[0.5]",
         "orientation": "v",
         "showlegend": true,
         "type": "scatter",
         "x": [
          0,
          1,
          2,
          3,
          4,
          5,
          6,
          7,
          8,
          9,
          10,
          11,
          12,
          13,
          14,
          15,
          16,
          17,
          18,
          19,
          20,
          21,
          22,
          23,
          24,
          25,
          26,
          27,
          28,
          29,
          30,
          31,
          32,
          33,
          34,
          35,
          36,
          37,
          38,
          39,
          40,
          41,
          42,
          43,
          44,
          45,
          46,
          47,
          48,
          49,
          50,
          51,
          52,
          53,
          54,
          55,
          56,
          57,
          58,
          59,
          60,
          61,
          62,
          63,
          64,
          65,
          66,
          67,
          68,
          69,
          70,
          71,
          72,
          73,
          74,
          75,
          76,
          77,
          78,
          79,
          80,
          81,
          82,
          83,
          84,
          85,
          86,
          87,
          88,
          89,
          90,
          91,
          92,
          93,
          94,
          95,
          96,
          97,
          98,
          99
         ],
         "xaxis": "x",
         "y": [
          7253,
          7550,
          7696,
          7875,
          7975,
          8038,
          8056,
          8069,
          8184,
          8258,
          8312,
          8335,
          8340,
          8343,
          8344,
          8346,
          8368,
          8423,
          8448,
          8490,
          8494,
          8494,
          8499,
          8518,
          8544,
          8549,
          8549,
          8552,
          8552,
          8554,
          8558,
          8558,
          8559,
          8559,
          8559,
          8559,
          8560,
          8560,
          8602,
          8602,
          8602,
          8602,
          8606,
          8607,
          8609,
          8613,
          8613,
          8613,
          8613,
          8613,
          8613,
          8616,
          8640,
          8641,
          8641,
          8665,
          8666,
          8666,
          8666,
          8667,
          8670,
          8670,
          8670,
          8672,
          8672,
          8672,
          8692,
          8692,
          8693,
          8693,
          8714,
          8715,
          8715,
          8734,
          8734,
          8734,
          8734,
          8735,
          8735,
          8735,
          8736,
          8736,
          8736,
          8736,
          8736,
          8737,
          8737,
          8737,
          8737,
          8737,
          8737,
          8737,
          8738,
          8741,
          8759,
          8760,
          8760,
          8760,
          8761,
          8762
         ],
         "yaxis": "y"
        },
        {
         "hovertemplate": "variable=1_tournament_cycle[1.0]_swap[0.4,1]_rot[0.25]_adpt[0.5]<br>Generation=%{x}<br>Fitness=%{y}<extra></extra>",
         "legendgroup": "1_tournament_cycle[1.0]_swap[0.4,1]_rot[0.25]_adpt[0.5]",
         "line": {
          "color": "#EF553B",
          "dash": "solid"
         },
         "mode": "lines",
         "name": "1_tournament_cycle[1.0]_swap[0.4,1]_rot[0.25]_adpt[0.5]",
         "orientation": "v",
         "showlegend": true,
         "type": "scatter",
         "x": [
          0,
          1,
          2,
          3,
          4,
          5,
          6,
          7,
          8,
          9,
          10,
          11,
          12,
          13,
          14,
          15,
          16,
          17,
          18,
          19,
          20,
          21,
          22,
          23,
          24,
          25,
          26,
          27,
          28,
          29,
          30,
          31,
          32,
          33,
          34,
          35,
          36,
          37,
          38,
          39,
          40,
          41,
          42,
          43,
          44,
          45,
          46,
          47,
          48,
          49,
          50,
          51,
          52,
          53,
          54,
          55,
          56,
          57,
          58,
          59,
          60,
          61,
          62,
          63,
          64,
          65,
          66,
          67,
          68,
          69,
          70,
          71,
          72,
          73,
          74,
          75,
          76,
          77,
          78,
          79,
          80,
          81,
          82,
          83,
          84,
          85,
          86,
          87,
          88,
          89,
          90,
          91,
          92,
          93,
          94,
          95,
          96,
          97,
          98,
          99
         ],
         "xaxis": "x",
         "y": [
          7253,
          7542,
          7763,
          7885,
          7891,
          7927,
          7995,
          8032,
          8193,
          8249,
          8272,
          8277,
          8372,
          8403,
          8455,
          8456,
          8460,
          8465,
          8472,
          8473,
          8475,
          8475,
          8479,
          8482,
          8485,
          8509,
          8514,
          8515,
          8518,
          8519,
          8544,
          8544,
          8584,
          8585,
          8585,
          8586,
          8588,
          8607,
          8607,
          8610,
          8610,
          8611,
          8614,
          8615,
          8615,
          8616,
          8618,
          8620,
          8620,
          8642,
          8662,
          8680,
          8680,
          8680,
          8680,
          8682,
          8721,
          8741,
          8741,
          8742,
          8743,
          8743,
          8743,
          8743,
          8744,
          8744,
          8744,
          8744,
          8745,
          8746,
          8747,
          8747,
          8747,
          8747,
          8748,
          8748,
          8748,
          8748,
          8748,
          8748,
          8748,
          8750,
          8751,
          8751,
          8751,
          8751,
          8752,
          8754,
          8754,
          8754,
          8756,
          8757,
          8757,
          8757,
          8757,
          8776,
          8776,
          8777,
          8798,
          8798
         ],
         "yaxis": "y"
        },
        {
         "hovertemplate": "variable=2_fps_pmx[1.0]_swap[0.4,1]_rot[0.25]_adpt[0.5]<br>Generation=%{x}<br>Fitness=%{y}<extra></extra>",
         "legendgroup": "2_fps_pmx[1.0]_swap[0.4,1]_rot[0.25]_adpt[0.5]",
         "line": {
          "color": "#00cc96",
          "dash": "solid"
         },
         "mode": "lines",
         "name": "2_fps_pmx[1.0]_swap[0.4,1]_rot[0.25]_adpt[0.5]",
         "orientation": "v",
         "showlegend": true,
         "type": "scatter",
         "x": [
          0,
          1,
          2,
          3,
          4,
          5,
          6,
          7,
          8,
          9,
          10,
          11,
          12,
          13,
          14,
          15,
          16,
          17,
          18,
          19,
          20,
          21,
          22,
          23,
          24,
          25,
          26,
          27,
          28,
          29,
          30,
          31,
          32,
          33,
          34,
          35,
          36,
          37,
          38,
          39,
          40,
          41,
          42,
          43,
          44,
          45,
          46,
          47,
          48,
          49,
          50,
          51,
          52,
          53,
          54,
          55,
          56,
          57,
          58,
          59,
          60,
          61,
          62,
          63,
          64,
          65,
          66,
          67,
          68,
          69,
          70,
          71,
          72,
          73,
          74,
          75,
          76,
          77,
          78,
          79,
          80,
          81,
          82,
          83,
          84,
          85,
          86,
          87,
          88,
          89,
          90,
          91,
          92,
          93,
          94,
          95,
          96,
          97,
          98,
          99
         ],
         "xaxis": "x",
         "y": [
          7253,
          7472,
          7682,
          7810,
          7854,
          7867,
          7875,
          7898,
          7987,
          8047,
          8050,
          8058,
          8089,
          8092,
          8139,
          8164,
          8167,
          8167,
          8168,
          8168,
          8173,
          8175,
          8206,
          8232,
          8232,
          8256,
          8261,
          8282,
          8285,
          8286,
          8312,
          8312,
          8312,
          8312,
          8336,
          8336,
          8338,
          8338,
          8341,
          8343,
          8387,
          8390,
          8394,
          8394,
          8394,
          8394,
          8394,
          8394,
          8394,
          8395,
          8395,
          8395,
          8425,
          8425,
          8426,
          8426,
          8426,
          8427,
          8453,
          8455,
          8458,
          8482,
          8484,
          8484,
          8485,
          8485,
          8485,
          8485,
          8485,
          8485,
          8485,
          8485,
          8491,
          8491,
          8491,
          8495,
          8495,
          8496,
          8496,
          8496,
          8499,
          8500,
          8500,
          8501,
          8501,
          8501,
          8501,
          8501,
          8501,
          8501,
          8501,
          8501,
          8501,
          8508,
          8508,
          8508,
          8511,
          8511,
          8511,
          8511
         ],
         "yaxis": "y"
        },
        {
         "hovertemplate": "variable=3_fps_cycle[1.0]_swap[0.4,1]_rot[0.25]_adpt[0.5]<br>Generation=%{x}<br>Fitness=%{y}<extra></extra>",
         "legendgroup": "3_fps_cycle[1.0]_swap[0.4,1]_rot[0.25]_adpt[0.5]",
         "line": {
          "color": "#ab63fa",
          "dash": "solid"
         },
         "mode": "lines",
         "name": "3_fps_cycle[1.0]_swap[0.4,1]_rot[0.25]_adpt[0.5]",
         "orientation": "v",
         "showlegend": true,
         "type": "scatter",
         "x": [
          0,
          1,
          2,
          3,
          4,
          5,
          6,
          7,
          8,
          9,
          10,
          11,
          12,
          13,
          14,
          15,
          16,
          17,
          18,
          19,
          20,
          21,
          22,
          23,
          24,
          25,
          26,
          27,
          28,
          29,
          30,
          31,
          32,
          33,
          34,
          35,
          36,
          37,
          38,
          39,
          40,
          41,
          42,
          43,
          44,
          45,
          46,
          47,
          48,
          49,
          50,
          51,
          52,
          53,
          54,
          55,
          56,
          57,
          58,
          59,
          60,
          61,
          62,
          63,
          64,
          65,
          66,
          67,
          68,
          69,
          70,
          71,
          72,
          73,
          74,
          75,
          76,
          77,
          78,
          79,
          80,
          81,
          82,
          83,
          84,
          85,
          86,
          87,
          88,
          89,
          90,
          91,
          92,
          93,
          94,
          95,
          96,
          97,
          98,
          99
         ],
         "xaxis": "x",
         "y": [
          7253,
          7449,
          7632,
          7712,
          7753,
          7792,
          7801,
          7808,
          7813,
          7818,
          7881,
          7881,
          7930,
          7932,
          7957,
          8012,
          8019,
          8020,
          8020,
          8122,
          8122,
          8204,
          8233,
          8234,
          8263,
          8283,
          8309,
          8331,
          8350,
          8378,
          8378,
          8378,
          8378,
          8382,
          8386,
          8388,
          8388,
          8388,
          8390,
          8391,
          8416,
          8420,
          8420,
          8420,
          8421,
          8425,
          8425,
          8425,
          8426,
          8427,
          8427,
          8427,
          8435,
          8435,
          8435,
          8435,
          8435,
          8435,
          8435,
          8436,
          8440,
          8444,
          8444,
          8448,
          8448,
          8449,
          8450,
          8450,
          8450,
          8450,
          8450,
          8450,
          8451,
          8451,
          8451,
          8453,
          8453,
          8453,
          8453,
          8456,
          8456,
          8457,
          8460,
          8460,
          8461,
          8461,
          8487,
          8487,
          8489,
          8491,
          8491,
          8491,
          8491,
          8491,
          8491,
          8491,
          8491,
          8494,
          8494,
          8494
         ],
         "yaxis": "y"
        }
       ],
       "layout": {
        "height": 400,
        "legend": {
         "title": {
          "text": "variable"
         },
         "tracegroupgap": 0
        },
        "margin": {
         "b": 0,
         "l": 60,
         "r": 40,
         "t": 40
        },
        "template": {
         "data": {
          "bar": [
           {
            "error_x": {
             "color": "#2a3f5f"
            },
            "error_y": {
             "color": "#2a3f5f"
            },
            "marker": {
             "line": {
              "color": "#E5ECF6",
              "width": 0.5
             }
            },
            "type": "bar"
           }
          ],
          "barpolar": [
           {
            "marker": {
             "line": {
              "color": "#E5ECF6",
              "width": 0.5
             }
            },
            "type": "barpolar"
           }
          ],
          "carpet": [
           {
            "aaxis": {
             "endlinecolor": "#2a3f5f",
             "gridcolor": "white",
             "linecolor": "white",
             "minorgridcolor": "white",
             "startlinecolor": "#2a3f5f"
            },
            "baxis": {
             "endlinecolor": "#2a3f5f",
             "gridcolor": "white",
             "linecolor": "white",
             "minorgridcolor": "white",
             "startlinecolor": "#2a3f5f"
            },
            "type": "carpet"
           }
          ],
          "choropleth": [
           {
            "colorbar": {
             "outlinewidth": 0,
             "ticks": ""
            },
            "type": "choropleth"
           }
          ],
          "contour": [
           {
            "colorbar": {
             "outlinewidth": 0,
             "ticks": ""
            },
            "colorscale": [
             [
              0,
              "#0d0887"
             ],
             [
              0.1111111111111111,
              "#46039f"
             ],
             [
              0.2222222222222222,
              "#7201a8"
             ],
             [
              0.3333333333333333,
              "#9c179e"
             ],
             [
              0.4444444444444444,
              "#bd3786"
             ],
             [
              0.5555555555555556,
              "#d8576b"
             ],
             [
              0.6666666666666666,
              "#ed7953"
             ],
             [
              0.7777777777777778,
              "#fb9f3a"
             ],
             [
              0.8888888888888888,
              "#fdca26"
             ],
             [
              1,
              "#f0f921"
             ]
            ],
            "type": "contour"
           }
          ],
          "contourcarpet": [
           {
            "colorbar": {
             "outlinewidth": 0,
             "ticks": ""
            },
            "type": "contourcarpet"
           }
          ],
          "heatmap": [
           {
            "colorbar": {
             "outlinewidth": 0,
             "ticks": ""
            },
            "colorscale": [
             [
              0,
              "#0d0887"
             ],
             [
              0.1111111111111111,
              "#46039f"
             ],
             [
              0.2222222222222222,
              "#7201a8"
             ],
             [
              0.3333333333333333,
              "#9c179e"
             ],
             [
              0.4444444444444444,
              "#bd3786"
             ],
             [
              0.5555555555555556,
              "#d8576b"
             ],
             [
              0.6666666666666666,
              "#ed7953"
             ],
             [
              0.7777777777777778,
              "#fb9f3a"
             ],
             [
              0.8888888888888888,
              "#fdca26"
             ],
             [
              1,
              "#f0f921"
             ]
            ],
            "type": "heatmap"
           }
          ],
          "heatmapgl": [
           {
            "colorbar": {
             "outlinewidth": 0,
             "ticks": ""
            },
            "colorscale": [
             [
              0,
              "#0d0887"
             ],
             [
              0.1111111111111111,
              "#46039f"
             ],
             [
              0.2222222222222222,
              "#7201a8"
             ],
             [
              0.3333333333333333,
              "#9c179e"
             ],
             [
              0.4444444444444444,
              "#bd3786"
             ],
             [
              0.5555555555555556,
              "#d8576b"
             ],
             [
              0.6666666666666666,
              "#ed7953"
             ],
             [
              0.7777777777777778,
              "#fb9f3a"
             ],
             [
              0.8888888888888888,
              "#fdca26"
             ],
             [
              1,
              "#f0f921"
             ]
            ],
            "type": "heatmapgl"
           }
          ],
          "histogram": [
           {
            "marker": {
             "colorbar": {
              "outlinewidth": 0,
              "ticks": ""
             }
            },
            "type": "histogram"
           }
          ],
          "histogram2d": [
           {
            "colorbar": {
             "outlinewidth": 0,
             "ticks": ""
            },
            "colorscale": [
             [
              0,
              "#0d0887"
             ],
             [
              0.1111111111111111,
              "#46039f"
             ],
             [
              0.2222222222222222,
              "#7201a8"
             ],
             [
              0.3333333333333333,
              "#9c179e"
             ],
             [
              0.4444444444444444,
              "#bd3786"
             ],
             [
              0.5555555555555556,
              "#d8576b"
             ],
             [
              0.6666666666666666,
              "#ed7953"
             ],
             [
              0.7777777777777778,
              "#fb9f3a"
             ],
             [
              0.8888888888888888,
              "#fdca26"
             ],
             [
              1,
              "#f0f921"
             ]
            ],
            "type": "histogram2d"
           }
          ],
          "histogram2dcontour": [
           {
            "colorbar": {
             "outlinewidth": 0,
             "ticks": ""
            },
            "colorscale": [
             [
              0,
              "#0d0887"
             ],
             [
              0.1111111111111111,
              "#46039f"
             ],
             [
              0.2222222222222222,
              "#7201a8"
             ],
             [
              0.3333333333333333,
              "#9c179e"
             ],
             [
              0.4444444444444444,
              "#bd3786"
             ],
             [
              0.5555555555555556,
              "#d8576b"
             ],
             [
              0.6666666666666666,
              "#ed7953"
             ],
             [
              0.7777777777777778,
              "#fb9f3a"
             ],
             [
              0.8888888888888888,
              "#fdca26"
             ],
             [
              1,
              "#f0f921"
             ]
            ],
            "type": "histogram2dcontour"
           }
          ],
          "mesh3d": [
           {
            "colorbar": {
             "outlinewidth": 0,
             "ticks": ""
            },
            "type": "mesh3d"
           }
          ],
          "parcoords": [
           {
            "line": {
             "colorbar": {
              "outlinewidth": 0,
              "ticks": ""
             }
            },
            "type": "parcoords"
           }
          ],
          "pie": [
           {
            "automargin": true,
            "type": "pie"
           }
          ],
          "scatter": [
           {
            "marker": {
             "colorbar": {
              "outlinewidth": 0,
              "ticks": ""
             }
            },
            "type": "scatter"
           }
          ],
          "scatter3d": [
           {
            "line": {
             "colorbar": {
              "outlinewidth": 0,
              "ticks": ""
             }
            },
            "marker": {
             "colorbar": {
              "outlinewidth": 0,
              "ticks": ""
             }
            },
            "type": "scatter3d"
           }
          ],
          "scattercarpet": [
           {
            "marker": {
             "colorbar": {
              "outlinewidth": 0,
              "ticks": ""
             }
            },
            "type": "scattercarpet"
           }
          ],
          "scattergeo": [
           {
            "marker": {
             "colorbar": {
              "outlinewidth": 0,
              "ticks": ""
             }
            },
            "type": "scattergeo"
           }
          ],
          "scattergl": [
           {
            "marker": {
             "colorbar": {
              "outlinewidth": 0,
              "ticks": ""
             }
            },
            "type": "scattergl"
           }
          ],
          "scattermapbox": [
           {
            "marker": {
             "colorbar": {
              "outlinewidth": 0,
              "ticks": ""
             }
            },
            "type": "scattermapbox"
           }
          ],
          "scatterpolar": [
           {
            "marker": {
             "colorbar": {
              "outlinewidth": 0,
              "ticks": ""
             }
            },
            "type": "scatterpolar"
           }
          ],
          "scatterpolargl": [
           {
            "marker": {
             "colorbar": {
              "outlinewidth": 0,
              "ticks": ""
             }
            },
            "type": "scatterpolargl"
           }
          ],
          "scatterternary": [
           {
            "marker": {
             "colorbar": {
              "outlinewidth": 0,
              "ticks": ""
             }
            },
            "type": "scatterternary"
           }
          ],
          "surface": [
           {
            "colorbar": {
             "outlinewidth": 0,
             "ticks": ""
            },
            "colorscale": [
             [
              0,
              "#0d0887"
             ],
             [
              0.1111111111111111,
              "#46039f"
             ],
             [
              0.2222222222222222,
              "#7201a8"
             ],
             [
              0.3333333333333333,
              "#9c179e"
             ],
             [
              0.4444444444444444,
              "#bd3786"
             ],
             [
              0.5555555555555556,
              "#d8576b"
             ],
             [
              0.6666666666666666,
              "#ed7953"
             ],
             [
              0.7777777777777778,
              "#fb9f3a"
             ],
             [
              0.8888888888888888,
              "#fdca26"
             ],
             [
              1,
              "#f0f921"
             ]
            ],
            "type": "surface"
           }
          ],
          "table": [
           {
            "cells": {
             "fill": {
              "color": "#EBF0F8"
             },
             "line": {
              "color": "white"
             }
            },
            "header": {
             "fill": {
              "color": "#C8D4E3"
             },
             "line": {
              "color": "white"
             }
            },
            "type": "table"
           }
          ]
         },
         "layout": {
          "annotationdefaults": {
           "arrowcolor": "#2a3f5f",
           "arrowhead": 0,
           "arrowwidth": 1
          },
          "autotypenumbers": "strict",
          "coloraxis": {
           "colorbar": {
            "outlinewidth": 0,
            "ticks": ""
           }
          },
          "colorscale": {
           "diverging": [
            [
             0,
             "#8e0152"
            ],
            [
             0.1,
             "#c51b7d"
            ],
            [
             0.2,
             "#de77ae"
            ],
            [
             0.3,
             "#f1b6da"
            ],
            [
             0.4,
             "#fde0ef"
            ],
            [
             0.5,
             "#f7f7f7"
            ],
            [
             0.6,
             "#e6f5d0"
            ],
            [
             0.7,
             "#b8e186"
            ],
            [
             0.8,
             "#7fbc41"
            ],
            [
             0.9,
             "#4d9221"
            ],
            [
             1,
             "#276419"
            ]
           ],
           "sequential": [
            [
             0,
             "#0d0887"
            ],
            [
             0.1111111111111111,
             "#46039f"
            ],
            [
             0.2222222222222222,
             "#7201a8"
            ],
            [
             0.3333333333333333,
             "#9c179e"
            ],
            [
             0.4444444444444444,
             "#bd3786"
            ],
            [
             0.5555555555555556,
             "#d8576b"
            ],
            [
             0.6666666666666666,
             "#ed7953"
            ],
            [
             0.7777777777777778,
             "#fb9f3a"
            ],
            [
             0.8888888888888888,
             "#fdca26"
            ],
            [
             1,
             "#f0f921"
            ]
           ],
           "sequentialminus": [
            [
             0,
             "#0d0887"
            ],
            [
             0.1111111111111111,
             "#46039f"
            ],
            [
             0.2222222222222222,
             "#7201a8"
            ],
            [
             0.3333333333333333,
             "#9c179e"
            ],
            [
             0.4444444444444444,
             "#bd3786"
            ],
            [
             0.5555555555555556,
             "#d8576b"
            ],
            [
             0.6666666666666666,
             "#ed7953"
            ],
            [
             0.7777777777777778,
             "#fb9f3a"
            ],
            [
             0.8888888888888888,
             "#fdca26"
            ],
            [
             1,
             "#f0f921"
            ]
           ]
          },
          "colorway": [
           "#636efa",
           "#EF553B",
           "#00cc96",
           "#ab63fa",
           "#FFA15A",
           "#19d3f3",
           "#FF6692",
           "#B6E880",
           "#FF97FF",
           "#FECB52"
          ],
          "font": {
           "color": "#2a3f5f"
          },
          "geo": {
           "bgcolor": "white",
           "lakecolor": "white",
           "landcolor": "#E5ECF6",
           "showlakes": true,
           "showland": true,
           "subunitcolor": "white"
          },
          "hoverlabel": {
           "align": "left"
          },
          "hovermode": "closest",
          "mapbox": {
           "style": "light"
          },
          "paper_bgcolor": "white",
          "plot_bgcolor": "#E5ECF6",
          "polar": {
           "angularaxis": {
            "gridcolor": "white",
            "linecolor": "white",
            "ticks": ""
           },
           "bgcolor": "#E5ECF6",
           "radialaxis": {
            "gridcolor": "white",
            "linecolor": "white",
            "ticks": ""
           }
          },
          "scene": {
           "xaxis": {
            "backgroundcolor": "#E5ECF6",
            "gridcolor": "white",
            "gridwidth": 2,
            "linecolor": "white",
            "showbackground": true,
            "ticks": "",
            "zerolinecolor": "white"
           },
           "yaxis": {
            "backgroundcolor": "#E5ECF6",
            "gridcolor": "white",
            "gridwidth": 2,
            "linecolor": "white",
            "showbackground": true,
            "ticks": "",
            "zerolinecolor": "white"
           },
           "zaxis": {
            "backgroundcolor": "#E5ECF6",
            "gridcolor": "white",
            "gridwidth": 2,
            "linecolor": "white",
            "showbackground": true,
            "ticks": "",
            "zerolinecolor": "white"
           }
          },
          "shapedefaults": {
           "line": {
            "color": "#2a3f5f"
           }
          },
          "ternary": {
           "aaxis": {
            "gridcolor": "white",
            "linecolor": "white",
            "ticks": ""
           },
           "baxis": {
            "gridcolor": "white",
            "linecolor": "white",
            "ticks": ""
           },
           "bgcolor": "#E5ECF6",
           "caxis": {
            "gridcolor": "white",
            "linecolor": "white",
            "ticks": ""
           }
          },
          "title": {
           "x": 0.05
          },
          "xaxis": {
           "automargin": true,
           "gridcolor": "white",
           "linecolor": "white",
           "ticks": "",
           "title": {
            "standoff": 15
           },
           "zerolinecolor": "white",
           "zerolinewidth": 2
          },
          "yaxis": {
           "automargin": true,
           "gridcolor": "white",
           "linecolor": "white",
           "ticks": "",
           "title": {
            "standoff": 15
           },
           "zerolinecolor": "white",
           "zerolinewidth": 2
          }
         }
        },
        "title": {
         "text": "Max Fitness: 9600"
        },
        "width": 800,
        "xaxis": {
         "anchor": "y",
         "domain": [
          0,
          1
         ],
         "title": {
          "text": "Generation"
         }
        },
        "yaxis": {
         "anchor": "x",
         "domain": [
          0,
          1
         ],
         "range": [
          7253,
          9600
         ],
         "tickformat": "0",
         "title": {
          "text": "Fitness"
         }
        }
       }
      }
     },
     "metadata": {},
     "output_type": "display_data"
    }
   ],
   "source": [
    "# Output a DF with the ABF comparison. \n",
    "timestamp = time.time()\n",
    "ABF_df = np.round(pd.DataFrame(ABF_dict)).astype(int)\n",
    "# ABF_df.to_csv(dir_path)\n",
    "plot_fitness(ABF_df, f\"configs/final_abf_graph_{timestamp}\", width=800, height=400, max_fitness=grid.size * 100)"
   ]
  },
  {
   "cell_type": "code",
   "execution_count": 23,
   "id": "b5ef832c",
   "metadata": {},
   "outputs": [],
   "source": [
    "master_dict = {\n",
    "    \"general\": {\n",
    "        \"pop_size\": pop_size,\n",
    "        \"generations\": generations,\n",
    "        \"grid_shape\": grid_shape,\n",
    "        \"iterations\": iterations,\n",
    "        \"pieces_list\": pieces_list,\n",
    "    },\n",
    "    **{config[\"name\"]: config for config in GA_configs_list},\n",
    "}\n",
    "master_dict[\"general\"][\"ABF_df\"] = ABF_df\n",
    "\n",
    "for k, v in best_individuals.items():\n",
    "    master_dict[k][\"best_individuals\"] = v\n",
    "\n",
    "with open(f\"configs/fsx_master_dict{timestamp}.pkl\", \"wb\") as f:\n",
    "    pickle.dump(master_dict, f)"
   ]
  },
  {
   "cell_type": "markdown",
   "id": "a09561f6",
   "metadata": {},
   "source": [
    "---\n",
    "#### Successful Runs / Performed Runs"
   ]
  },
  {
   "cell_type": "code",
   "execution_count": 24,
   "id": "ee80bfe5",
   "metadata": {},
   "outputs": [
    {
     "name": "stdout",
     "output_type": "stream",
     "text": [
      "The max possible fitness was 9600.\n",
      "The best fitness achieved was 9166.\n",
      "Total runs: 30\n",
      "Ratio of Successful Runs / Performed Runs:\n",
      "0_tournament_pmx[1.0]_swap[0.4,1]_rot[0.25]_adpt[0.5]      0.0\n",
      "1_tournament_cycle[1.0]_swap[0.4,1]_rot[0.25]_adpt[0.5]    0.0\n",
      "2_fps_pmx[1.0]_swap[0.4,1]_rot[0.25]_adpt[0.5]             0.0\n",
      "3_fps_cycle[1.0]_swap[0.4,1]_rot[0.25]_adpt[0.5]           0.0\n",
      "dtype: float64\n",
      "Max fitness not achieved. Using the same ratio for best fitness.\n",
      "0_tournament_pmx[1.0]_swap[0.4,1]_rot[0.25]_adpt[0.5]      0.03\n",
      "1_tournament_cycle[1.0]_swap[0.4,1]_rot[0.25]_adpt[0.5]    0.03\n",
      "2_fps_pmx[1.0]_swap[0.4,1]_rot[0.25]_adpt[0.5]             0.00\n",
      "3_fps_cycle[1.0]_swap[0.4,1]_rot[0.25]_adpt[0.5]           0.00\n",
      "dtype: float64\n"
     ]
    }
   ],
   "source": [
    "# Output a DF with the best individuals per run and configuration.\n",
    "best_ind_df = pd.DataFrame(best_individuals)\n",
    "\n",
    "# The same DF with the fitness values only.\n",
    "best_ind_df_fit = best_ind_df.applymap(lambda x:x.fitness).astype(int)\n",
    "\n",
    "# Register max possible fitness, as well as best fitness achieved.\n",
    "max_fitness = int(np.sum(grid.size*100))\n",
    "best_fitness = max(best_ind_df_fit.max())\n",
    "print(f\"The max possible fitness was {max_fitness}.\\nThe best fitness achieved was {best_fitness}.\")\n",
    "\n",
    "# Print the SR / PR ratio to 2 decimals.\n",
    "print(f\"Total runs: {iterations}\\nRatio of Successful Runs / Performed Runs:\")\n",
    "# Pandas count function counts for each column (skipping NAs) and outputs a series, which is useful for this purpose.\n",
    "print(np.round(best_ind_df[best_ind_df_fit==max_fitness].count()/iterations,2))\n",
    "if max_fitness != best_fitness:\n",
    "    print(\"Max fitness not achieved. Using the same ratio for best fitness.\")\n",
    "    print(np.round(best_ind_df[best_ind_df_fit==best_fitness].count()/iterations,2))"
   ]
  },
  {
   "cell_type": "code",
   "execution_count": 25,
   "id": "47f50c55",
   "metadata": {},
   "outputs": [],
   "source": [
    "# This is a pandas way of getting the best indidividuals for visualization.\n",
    "best_inds = best_ind_df[best_ind_df_fit==best_fitness]\n",
    "\n",
    "# Transform it into lists, skipping Nones.\n",
    "best_inds = best_inds.apply(lambda x:x.dropna().to_list())"
   ]
  },
  {
   "cell_type": "markdown",
   "id": "958975f2",
   "metadata": {},
   "source": [
    "---\n",
    "#### Visualize an example of the best individual."
   ]
  },
  {
   "cell_type": "code",
   "execution_count": 26,
   "id": "15bd0c14",
   "metadata": {},
   "outputs": [
    {
     "data": {
      "application/vnd.plotly.v1+json": {
       "config": {
        "plotlyServerURL": "https://plot.ly"
       },
       "data": [
        {
         "marker": {
          "size": 25,
          "symbol": "square"
         },
         "mode": "markers",
         "type": "scatter",
         "x": [
          1,
          1,
          2,
          0
         ],
         "y": [
          1,
          0,
          0,
          0
         ]
        },
        {
         "marker": {
          "size": 25,
          "symbol": "square"
         },
         "mode": "markers",
         "type": "scatter",
         "x": [
          5,
          4,
          3,
          3
         ],
         "y": [
          0,
          0,
          0,
          1
         ]
        },
        {
         "marker": {
          "size": 25,
          "symbol": "square"
         },
         "mode": "markers",
         "type": "scatter",
         "x": [
          5,
          6,
          6,
          6
         ],
         "y": [
          1,
          1,
          2,
          0
         ]
        },
        {
         "marker": {
          "size": 25,
          "symbol": "square"
         },
         "mode": "markers",
         "type": "scatter",
         "x": [
          7,
          8,
          9,
          9
         ],
         "y": [
          0,
          0,
          0,
          1
         ]
        },
        {
         "marker": {
          "size": 25,
          "symbol": "square"
         },
         "mode": "markers",
         "type": "scatter",
         "x": [
          10,
          10,
          10,
          10
         ],
         "y": [
          3,
          2,
          1,
          0
         ]
        },
        {
         "marker": {
          "size": 25,
          "symbol": "square"
         },
         "mode": "markers",
         "type": "scatter",
         "x": [
          8,
          7,
          8,
          7
         ],
         "y": [
          1,
          1,
          2,
          2
         ]
        },
        {
         "marker": {
          "size": 25,
          "symbol": "square"
         },
         "mode": "markers",
         "type": "scatter",
         "x": [
          1,
          2,
          2,
          2
         ],
         "y": [
          2,
          2,
          3,
          1
         ]
        },
        {
         "marker": {
          "size": 25,
          "symbol": "square"
         },
         "mode": "markers",
         "type": "scatter",
         "x": [
          4,
          4,
          3,
          5
         ],
         "y": [
          1,
          2,
          2,
          2
         ]
        },
        {
         "marker": {
          "size": 25,
          "symbol": "square"
         },
         "mode": "markers",
         "type": "scatter",
         "x": [
          0,
          0,
          0,
          1
         ],
         "y": [
          1,
          2,
          3,
          3
         ]
        },
        {
         "marker": {
          "size": 25,
          "symbol": "square"
         },
         "mode": "markers",
         "type": "scatter",
         "x": [
          4,
          4,
          5,
          3
         ],
         "y": [
          4,
          3,
          3,
          3
         ]
        },
        {
         "marker": {
          "size": 25,
          "symbol": "square"
         },
         "mode": "markers",
         "type": "scatter",
         "x": [
          8,
          9,
          9,
          9
         ],
         "y": [
          3,
          3,
          4,
          2
         ]
        },
        {
         "marker": {
          "size": 25,
          "symbol": "square"
         },
         "mode": "markers",
         "type": "scatter",
         "x": [
          1,
          1,
          2,
          0
         ],
         "y": [
          5,
          4,
          4,
          4
         ]
        },
        {
         "marker": {
          "size": 25,
          "symbol": "square"
         },
         "mode": "markers",
         "type": "scatter",
         "x": [
          7,
          6,
          7,
          6
         ],
         "y": [
          3,
          3,
          4,
          4
         ]
        },
        {
         "marker": {
          "size": 25,
          "symbol": "square"
         },
         "mode": "markers",
         "type": "scatter",
         "x": [
          4,
          3,
          3,
          3
         ],
         "y": [
          5,
          5,
          4,
          6
         ]
        },
        {
         "marker": {
          "size": 25,
          "symbol": "square"
         },
         "mode": "markers",
         "type": "scatter",
         "x": [
          11,
          11,
          11,
          11
         ],
         "y": [
          3,
          2,
          1,
          0
         ]
        },
        {
         "marker": {
          "size": 25,
          "symbol": "square"
         },
         "mode": "markers",
         "type": "scatter",
         "x": [
          7,
          8,
          8,
          7
         ],
         "y": [
          5,
          5,
          4,
          6
         ]
        },
        {
         "marker": {
          "size": 25,
          "symbol": "square"
         },
         "mode": "markers",
         "type": "scatter",
         "x": [
          5,
          5,
          5,
          4
         ],
         "y": [
          4,
          5,
          6,
          6
         ]
        },
        {
         "marker": {
          "size": 25,
          "symbol": "square"
         },
         "mode": "markers",
         "type": "scatter",
         "x": [
          10,
          10,
          11,
          11
         ],
         "y": [
          4,
          5,
          4,
          5
         ]
        },
        {
         "marker": {
          "size": 25,
          "symbol": "square"
         },
         "mode": "markers",
         "type": "scatter",
         "x": [
          1,
          0,
          0,
          0
         ],
         "y": [
          6,
          6,
          5,
          7
         ]
        },
        {
         "marker": {
          "size": 25,
          "symbol": "square"
         },
         "mode": "markers",
         "type": "scatter",
         "x": [
          2,
          2,
          2,
          1
         ],
         "y": [
          5,
          6,
          7,
          7
         ]
        },
        {
         "marker": {
          "size": 25,
          "symbol": "square"
         },
         "mode": "markers",
         "type": "scatter",
         "x": [
          9,
          9,
          8,
          8
         ],
         "y": [
          7,
          6,
          7,
          6
         ]
        },
        {
         "marker": {
          "size": 25,
          "symbol": "square"
         },
         "mode": "markers",
         "type": "scatter",
         "x": [
          3,
          4,
          5,
          6
         ],
         "y": [
          7,
          7,
          7,
          7
         ]
        },
        {
         "marker": {
          "size": 25,
          "symbol": "square"
         },
         "mode": "markers",
         "type": "scatter",
         "x": [
          11,
          11,
          10,
          10
         ],
         "y": [
          7,
          6,
          7,
          6
         ]
        }
       ],
       "layout": {
        "height": 800,
        "margin": {
         "b": 0,
         "l": 0,
         "r": 0,
         "t": 80
        },
        "showlegend": false,
        "template": {
         "data": {
          "bar": [
           {
            "error_x": {
             "color": "#2a3f5f"
            },
            "error_y": {
             "color": "#2a3f5f"
            },
            "marker": {
             "line": {
              "color": "#E5ECF6",
              "width": 0.5
             }
            },
            "type": "bar"
           }
          ],
          "barpolar": [
           {
            "marker": {
             "line": {
              "color": "#E5ECF6",
              "width": 0.5
             }
            },
            "type": "barpolar"
           }
          ],
          "carpet": [
           {
            "aaxis": {
             "endlinecolor": "#2a3f5f",
             "gridcolor": "white",
             "linecolor": "white",
             "minorgridcolor": "white",
             "startlinecolor": "#2a3f5f"
            },
            "baxis": {
             "endlinecolor": "#2a3f5f",
             "gridcolor": "white",
             "linecolor": "white",
             "minorgridcolor": "white",
             "startlinecolor": "#2a3f5f"
            },
            "type": "carpet"
           }
          ],
          "choropleth": [
           {
            "colorbar": {
             "outlinewidth": 0,
             "ticks": ""
            },
            "type": "choropleth"
           }
          ],
          "contour": [
           {
            "colorbar": {
             "outlinewidth": 0,
             "ticks": ""
            },
            "colorscale": [
             [
              0,
              "#0d0887"
             ],
             [
              0.1111111111111111,
              "#46039f"
             ],
             [
              0.2222222222222222,
              "#7201a8"
             ],
             [
              0.3333333333333333,
              "#9c179e"
             ],
             [
              0.4444444444444444,
              "#bd3786"
             ],
             [
              0.5555555555555556,
              "#d8576b"
             ],
             [
              0.6666666666666666,
              "#ed7953"
             ],
             [
              0.7777777777777778,
              "#fb9f3a"
             ],
             [
              0.8888888888888888,
              "#fdca26"
             ],
             [
              1,
              "#f0f921"
             ]
            ],
            "type": "contour"
           }
          ],
          "contourcarpet": [
           {
            "colorbar": {
             "outlinewidth": 0,
             "ticks": ""
            },
            "type": "contourcarpet"
           }
          ],
          "heatmap": [
           {
            "colorbar": {
             "outlinewidth": 0,
             "ticks": ""
            },
            "colorscale": [
             [
              0,
              "#0d0887"
             ],
             [
              0.1111111111111111,
              "#46039f"
             ],
             [
              0.2222222222222222,
              "#7201a8"
             ],
             [
              0.3333333333333333,
              "#9c179e"
             ],
             [
              0.4444444444444444,
              "#bd3786"
             ],
             [
              0.5555555555555556,
              "#d8576b"
             ],
             [
              0.6666666666666666,
              "#ed7953"
             ],
             [
              0.7777777777777778,
              "#fb9f3a"
             ],
             [
              0.8888888888888888,
              "#fdca26"
             ],
             [
              1,
              "#f0f921"
             ]
            ],
            "type": "heatmap"
           }
          ],
          "heatmapgl": [
           {
            "colorbar": {
             "outlinewidth": 0,
             "ticks": ""
            },
            "colorscale": [
             [
              0,
              "#0d0887"
             ],
             [
              0.1111111111111111,
              "#46039f"
             ],
             [
              0.2222222222222222,
              "#7201a8"
             ],
             [
              0.3333333333333333,
              "#9c179e"
             ],
             [
              0.4444444444444444,
              "#bd3786"
             ],
             [
              0.5555555555555556,
              "#d8576b"
             ],
             [
              0.6666666666666666,
              "#ed7953"
             ],
             [
              0.7777777777777778,
              "#fb9f3a"
             ],
             [
              0.8888888888888888,
              "#fdca26"
             ],
             [
              1,
              "#f0f921"
             ]
            ],
            "type": "heatmapgl"
           }
          ],
          "histogram": [
           {
            "marker": {
             "colorbar": {
              "outlinewidth": 0,
              "ticks": ""
             }
            },
            "type": "histogram"
           }
          ],
          "histogram2d": [
           {
            "colorbar": {
             "outlinewidth": 0,
             "ticks": ""
            },
            "colorscale": [
             [
              0,
              "#0d0887"
             ],
             [
              0.1111111111111111,
              "#46039f"
             ],
             [
              0.2222222222222222,
              "#7201a8"
             ],
             [
              0.3333333333333333,
              "#9c179e"
             ],
             [
              0.4444444444444444,
              "#bd3786"
             ],
             [
              0.5555555555555556,
              "#d8576b"
             ],
             [
              0.6666666666666666,
              "#ed7953"
             ],
             [
              0.7777777777777778,
              "#fb9f3a"
             ],
             [
              0.8888888888888888,
              "#fdca26"
             ],
             [
              1,
              "#f0f921"
             ]
            ],
            "type": "histogram2d"
           }
          ],
          "histogram2dcontour": [
           {
            "colorbar": {
             "outlinewidth": 0,
             "ticks": ""
            },
            "colorscale": [
             [
              0,
              "#0d0887"
             ],
             [
              0.1111111111111111,
              "#46039f"
             ],
             [
              0.2222222222222222,
              "#7201a8"
             ],
             [
              0.3333333333333333,
              "#9c179e"
             ],
             [
              0.4444444444444444,
              "#bd3786"
             ],
             [
              0.5555555555555556,
              "#d8576b"
             ],
             [
              0.6666666666666666,
              "#ed7953"
             ],
             [
              0.7777777777777778,
              "#fb9f3a"
             ],
             [
              0.8888888888888888,
              "#fdca26"
             ],
             [
              1,
              "#f0f921"
             ]
            ],
            "type": "histogram2dcontour"
           }
          ],
          "mesh3d": [
           {
            "colorbar": {
             "outlinewidth": 0,
             "ticks": ""
            },
            "type": "mesh3d"
           }
          ],
          "parcoords": [
           {
            "line": {
             "colorbar": {
              "outlinewidth": 0,
              "ticks": ""
             }
            },
            "type": "parcoords"
           }
          ],
          "pie": [
           {
            "automargin": true,
            "type": "pie"
           }
          ],
          "scatter": [
           {
            "marker": {
             "colorbar": {
              "outlinewidth": 0,
              "ticks": ""
             }
            },
            "type": "scatter"
           }
          ],
          "scatter3d": [
           {
            "line": {
             "colorbar": {
              "outlinewidth": 0,
              "ticks": ""
             }
            },
            "marker": {
             "colorbar": {
              "outlinewidth": 0,
              "ticks": ""
             }
            },
            "type": "scatter3d"
           }
          ],
          "scattercarpet": [
           {
            "marker": {
             "colorbar": {
              "outlinewidth": 0,
              "ticks": ""
             }
            },
            "type": "scattercarpet"
           }
          ],
          "scattergeo": [
           {
            "marker": {
             "colorbar": {
              "outlinewidth": 0,
              "ticks": ""
             }
            },
            "type": "scattergeo"
           }
          ],
          "scattergl": [
           {
            "marker": {
             "colorbar": {
              "outlinewidth": 0,
              "ticks": ""
             }
            },
            "type": "scattergl"
           }
          ],
          "scattermapbox": [
           {
            "marker": {
             "colorbar": {
              "outlinewidth": 0,
              "ticks": ""
             }
            },
            "type": "scattermapbox"
           }
          ],
          "scatterpolar": [
           {
            "marker": {
             "colorbar": {
              "outlinewidth": 0,
              "ticks": ""
             }
            },
            "type": "scatterpolar"
           }
          ],
          "scatterpolargl": [
           {
            "marker": {
             "colorbar": {
              "outlinewidth": 0,
              "ticks": ""
             }
            },
            "type": "scatterpolargl"
           }
          ],
          "scatterternary": [
           {
            "marker": {
             "colorbar": {
              "outlinewidth": 0,
              "ticks": ""
             }
            },
            "type": "scatterternary"
           }
          ],
          "surface": [
           {
            "colorbar": {
             "outlinewidth": 0,
             "ticks": ""
            },
            "colorscale": [
             [
              0,
              "#0d0887"
             ],
             [
              0.1111111111111111,
              "#46039f"
             ],
             [
              0.2222222222222222,
              "#7201a8"
             ],
             [
              0.3333333333333333,
              "#9c179e"
             ],
             [
              0.4444444444444444,
              "#bd3786"
             ],
             [
              0.5555555555555556,
              "#d8576b"
             ],
             [
              0.6666666666666666,
              "#ed7953"
             ],
             [
              0.7777777777777778,
              "#fb9f3a"
             ],
             [
              0.8888888888888888,
              "#fdca26"
             ],
             [
              1,
              "#f0f921"
             ]
            ],
            "type": "surface"
           }
          ],
          "table": [
           {
            "cells": {
             "fill": {
              "color": "#EBF0F8"
             },
             "line": {
              "color": "white"
             }
            },
            "header": {
             "fill": {
              "color": "#C8D4E3"
             },
             "line": {
              "color": "white"
             }
            },
            "type": "table"
           }
          ]
         },
         "layout": {
          "annotationdefaults": {
           "arrowcolor": "#2a3f5f",
           "arrowhead": 0,
           "arrowwidth": 1
          },
          "autotypenumbers": "strict",
          "coloraxis": {
           "colorbar": {
            "outlinewidth": 0,
            "ticks": ""
           }
          },
          "colorscale": {
           "diverging": [
            [
             0,
             "#8e0152"
            ],
            [
             0.1,
             "#c51b7d"
            ],
            [
             0.2,
             "#de77ae"
            ],
            [
             0.3,
             "#f1b6da"
            ],
            [
             0.4,
             "#fde0ef"
            ],
            [
             0.5,
             "#f7f7f7"
            ],
            [
             0.6,
             "#e6f5d0"
            ],
            [
             0.7,
             "#b8e186"
            ],
            [
             0.8,
             "#7fbc41"
            ],
            [
             0.9,
             "#4d9221"
            ],
            [
             1,
             "#276419"
            ]
           ],
           "sequential": [
            [
             0,
             "#0d0887"
            ],
            [
             0.1111111111111111,
             "#46039f"
            ],
            [
             0.2222222222222222,
             "#7201a8"
            ],
            [
             0.3333333333333333,
             "#9c179e"
            ],
            [
             0.4444444444444444,
             "#bd3786"
            ],
            [
             0.5555555555555556,
             "#d8576b"
            ],
            [
             0.6666666666666666,
             "#ed7953"
            ],
            [
             0.7777777777777778,
             "#fb9f3a"
            ],
            [
             0.8888888888888888,
             "#fdca26"
            ],
            [
             1,
             "#f0f921"
            ]
           ],
           "sequentialminus": [
            [
             0,
             "#0d0887"
            ],
            [
             0.1111111111111111,
             "#46039f"
            ],
            [
             0.2222222222222222,
             "#7201a8"
            ],
            [
             0.3333333333333333,
             "#9c179e"
            ],
            [
             0.4444444444444444,
             "#bd3786"
            ],
            [
             0.5555555555555556,
             "#d8576b"
            ],
            [
             0.6666666666666666,
             "#ed7953"
            ],
            [
             0.7777777777777778,
             "#fb9f3a"
            ],
            [
             0.8888888888888888,
             "#fdca26"
            ],
            [
             1,
             "#f0f921"
            ]
           ]
          },
          "colorway": [
           "#636efa",
           "#EF553B",
           "#00cc96",
           "#ab63fa",
           "#FFA15A",
           "#19d3f3",
           "#FF6692",
           "#B6E880",
           "#FF97FF",
           "#FECB52"
          ],
          "font": {
           "color": "#2a3f5f"
          },
          "geo": {
           "bgcolor": "white",
           "lakecolor": "white",
           "landcolor": "#E5ECF6",
           "showlakes": true,
           "showland": true,
           "subunitcolor": "white"
          },
          "hoverlabel": {
           "align": "left"
          },
          "hovermode": "closest",
          "mapbox": {
           "style": "light"
          },
          "paper_bgcolor": "white",
          "plot_bgcolor": "#E5ECF6",
          "polar": {
           "angularaxis": {
            "gridcolor": "white",
            "linecolor": "white",
            "ticks": ""
           },
           "bgcolor": "#E5ECF6",
           "radialaxis": {
            "gridcolor": "white",
            "linecolor": "white",
            "ticks": ""
           }
          },
          "scene": {
           "xaxis": {
            "backgroundcolor": "#E5ECF6",
            "gridcolor": "white",
            "gridwidth": 2,
            "linecolor": "white",
            "showbackground": true,
            "ticks": "",
            "zerolinecolor": "white"
           },
           "yaxis": {
            "backgroundcolor": "#E5ECF6",
            "gridcolor": "white",
            "gridwidth": 2,
            "linecolor": "white",
            "showbackground": true,
            "ticks": "",
            "zerolinecolor": "white"
           },
           "zaxis": {
            "backgroundcolor": "#E5ECF6",
            "gridcolor": "white",
            "gridwidth": 2,
            "linecolor": "white",
            "showbackground": true,
            "ticks": "",
            "zerolinecolor": "white"
           }
          },
          "shapedefaults": {
           "line": {
            "color": "#2a3f5f"
           }
          },
          "ternary": {
           "aaxis": {
            "gridcolor": "white",
            "linecolor": "white",
            "ticks": ""
           },
           "baxis": {
            "gridcolor": "white",
            "linecolor": "white",
            "ticks": ""
           },
           "bgcolor": "#E5ECF6",
           "caxis": {
            "gridcolor": "white",
            "linecolor": "white",
            "ticks": ""
           }
          },
          "title": {
           "x": 0.05
          },
          "xaxis": {
           "automargin": true,
           "gridcolor": "white",
           "linecolor": "white",
           "ticks": "",
           "title": {
            "standoff": 15
           },
           "zerolinecolor": "white",
           "zerolinewidth": 2
          },
          "yaxis": {
           "automargin": true,
           "gridcolor": "white",
           "linecolor": "white",
           "ticks": "",
           "title": {
            "standoff": 15
           },
           "zerolinecolor": "white",
           "zerolinewidth": 2
          }
         }
        },
        "title": {
         "text": "<b>Fitness:</b> 9166/9600<br><b>Pieces used:</b> 23/24"
        },
        "width": 800,
        "xaxis": {
         "fixedrange": true,
         "range": [
          -0.5,
          11.5
         ],
         "showticklabels": false
        },
        "yaxis": {
         "range": [
          7.5,
          -0.5
         ],
         "showticklabels": false,
         "tickfont": {
          "size": 12
         }
        }
       }
      }
     },
     "metadata": {},
     "output_type": "display_data"
    }
   ],
   "source": [
    "# The first element of those lists will be as good as any other element.\n",
    "for k, v in best_individuals.items():\n",
    "    for i in v:\n",
    "        if i.fitness == best_fitness:\n",
    "            best_ind = i\n",
    "            break\n",
    "        \n",
    "grid, pieces_coordinates = tetrimino_fitter(best_ind.representation, grid_shape)\n",
    "\n",
    "plot_grid(\n",
    "    ind_fitness=best_ind.fitness,\n",
    "    grid=grid,\n",
    "    pieces_coordinates=pieces_coordinates,\n",
    "    save_html_name= None,\n",
    "    # save_png_name= f\"graphs/best_rep_{time.time()}\",\n",
    "    marker_size= 25,\n",
    "    width= 800,\n",
    "    height= 800\n",
    ")"
   ]
  },
  {
   "cell_type": "markdown",
   "id": "8e515961",
   "metadata": {},
   "source": [
    "---\n",
    "#### Information Logging"
   ]
  },
  {
   "cell_type": "code",
   "execution_count": 27,
   "id": "6519d983",
   "metadata": {},
   "outputs": [],
   "source": [
    "# Cell for logging all the information.\n",
    "filename = f\"configs/parameters_{timestamp}.txt\"\n",
    "file1 = open(filename,\"a+\")\n",
    "\n",
    "toFile = \"grid_shape = \" + str(grid_shape) + \"\\n\"\n",
    "toFile += \"pieces_list = \" + str(pieces_list) + \"\\n\\n\"\n",
    "toFile += \"Universal Parameters\\n\" + \"pop_size: \" + str(pop_size) + \"\\n\"\n",
    "toFile += \"n_elites: \" + str(n_elites) + \"\\n\" + \"iterations: \" + str(iterations) + \"\\n\"\n",
    "toFile += \"generations: \" + str(generations) + \"\\n\"\n",
    "toFile += \"\\nConfig Parameters:\\n\"\n",
    "\n",
    "for GA_config in GA_configs_list:\n",
    "    toFile+= \"Name: \" + str(GA_config[\"name\"]) + \"\\n{\"\n",
    "    for param in GA_config[\"params\"].keys():\n",
    "        toFile += str(param) + \": \" + str(GA_config[\"params\"][param]) + \", \"\n",
    "    toFile += \"}\\n\\n\"\n",
    "\n",
    "file1.write(toFile)\n",
    "file1.close()"
   ]
  },
  {
   "cell_type": "code",
   "execution_count": 28,
   "id": "38dcf6c0",
   "metadata": {},
   "outputs": [],
   "source": [
    "# Cell for logging the SR information.\n",
    "filename = f\"configs/SR_ratio_{timestamp}.txt\"\n",
    "file2 = open(filename,\"a+\")\n",
    "\n",
    "toFile = \"SR Ratio Results\\n\\n\"\n",
    "toFile+= f\"The max possible fitness was {max_fitness}.\\nThe best fitness achieved was {best_fitness}.\\n\"\n",
    "toFile+= f\"Total runs: {iterations}\\nRatio of Successful Runs / Performed Runs:\\n\"\n",
    "toFile+= np.round(best_ind_df[best_ind_df_fit==max_fitness].count()/iterations,2).to_string()\n",
    "\n",
    "if max_fitness != best_fitness:\n",
    "    toFile += \"\\nMax fitness not achieved. Using the same ratio for best fitness.\\n\"\n",
    "    toFile += np.round(best_ind_df[best_ind_df_fit==best_fitness].count()/iterations,2).to_string()\n",
    "\n",
    "toFile += f\"\\nOne representative individual of best fitness is: {best_ind.representation}, with {best_ind.fitness} fitness.\"\n",
    "\n",
    "file2.write(toFile)\n",
    "file2.close()"
   ]
  },
  {
   "cell_type": "code",
   "execution_count": 17,
   "id": "a7919bcb",
   "metadata": {},
   "outputs": [],
   "source": [
    "# After it is done, please move all files from 0 directory, as well as the plotly graphs from graphs folder."
   ]
  }
 ],
 "metadata": {
  "interpreter": {
   "hash": "2c4f2e9e15b567a0842db5150f86c99ceb8bc3e0d4f7509559569966cbc05143"
  },
  "kernelspec": {
   "display_name": "Python 3",
   "language": "python",
   "name": "python3"
  },
  "language_info": {
   "codemirror_mode": {
    "name": "ipython",
    "version": 3
   },
   "file_extension": ".py",
   "mimetype": "text/x-python",
   "name": "python",
   "nbconvert_exporter": "python",
   "pygments_lexer": "ipython3",
   "version": "3.9.4"
  }
 },
 "nbformat": 4,
 "nbformat_minor": 5
}
