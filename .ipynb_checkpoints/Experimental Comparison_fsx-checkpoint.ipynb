{
 "cells": [
  {
   "cell_type": "markdown",
   "id": "40b36218",
   "metadata": {},
   "source": [
    "### Experimental Comparison Notebook"
   ]
  },
  {
   "cell_type": "code",
   "execution_count": 58,
   "id": "f9ef69af",
   "metadata": {},
   "outputs": [],
   "source": [
    "# Imports\n",
    "import numpy as np\n",
    "import plotly.graph_objects as go\n",
    "import plotly.express as px\n",
    "import pandas as pd\n",
    "from tetris_main import *\n",
    "from utils import *\n",
    "import random\n",
    "from library.hill_climbing.hc import hill_climb\n",
    "from library.simulated_annealing.sa import simulated_annealing\n",
    "from library.genetic_algorithm import gao\n",
    "import os, time, copy, pickle"
   ]
  },
  {
   "cell_type": "markdown",
   "id": "289b2f65",
   "metadata": {},
   "source": [
    "We would like to retain:\n",
    "* a) Universal Parameters. Grid shape, pieces list, pop_size, elites,iterations, generations.\n",
    "* b) Configuration Parameters\n",
    "* c) Results of ABF\n",
    "* d) SR Ratio Results\n",
    "* e) one example of the fitness and representation of the best individual achieved"
   ]
  },
  {
   "cell_type": "code",
   "execution_count": 113,
   "id": "3ab055dd",
   "metadata": {},
   "outputs": [],
   "source": [
    "# Set the path to save this information to.\n",
    "dir_path = os.path.join(os.getcwd(),\"comparison_results\",\"0\")\n",
    "timestamp = time.time()"
   ]
  },
  {
   "cell_type": "markdown",
   "id": "53b492ea",
   "metadata": {},
   "source": [
    "##### Parameter Setting"
   ]
  },
  {
   "cell_type": "code",
   "execution_count": 225,
   "id": "f17e0eba",
   "metadata": {},
   "outputs": [
    {
     "name": "stdout",
     "output_type": "stream",
     "text": [
      "1\n"
     ]
    }
   ],
   "source": [
    "# Set the parameters here for the configurations to compare, then run the entire notebook!\n",
    "\n",
    "# Option for a medium sized grid, with 9 pieces.\n",
    "grid_shape = (12,12)\n",
    "max_fitness = grid_shape[0] * grid_shape[1]\n",
    "pieces_list = pieces_generator(grid_shape, rotation=False)\n",
    "\n",
    "# Parameters for GA. These are the parameters that must be the same for this type of comparison.\n",
    "# (According to the booklet)\n",
    "pop_size = 100\n",
    "n_elites = 5\n",
    "iterations = 30  # The number of runs | iterations.\n",
    "generations = 100\n",
    "\n",
    "# These are the parameters that correspond and differentiate configurations to test.\n",
    "\n",
    "# What GA configs to test.\n",
    "GA_configs_list = []\n",
    "\n",
    "counter = 0\n",
    "for sel_type in [\"tournament\"]:\n",
    "    for co_type in [\"pmx\"]:\n",
    "        for p_co in [1.0]:\n",
    "            for mut_type in [\"swap\"]:\n",
    "                for p_mut in [0.1]:\n",
    "                    for n_mut in [3]:\n",
    "                        for p_rot in [0.1]:\n",
    "                            for p_adpt in [0.05]:\n",
    "                                GA_configs_list.append(\n",
    "                                    {\n",
    "                                        \"name\": f\"{counter}_{sel_type}_{co_type}[{p_co}]_{mut_type}[{p_mut},{n_mut}]_rot[{p_rot}]_adpt[{p_adpt}]\",\n",
    "                                        \"params\": {\n",
    "                                            \"generations\": generations,\n",
    "                                            \"selection_type\": sel_type,\n",
    "                                            \"tournament_size\": 20,\n",
    "                                            \"crossover_type\": co_type,\n",
    "                                            \"p_crossover\": p_co,\n",
    "                                            \"mutation_type\": mut_type,\n",
    "                                            \"p_mutation\": p_mut,\n",
    "                                            \"n_mutations\": n_mut,\n",
    "                                            \"p_rot_mut\": p_rot,\n",
    "                                            \"p_adoption\": p_adpt,\n",
    "                                            \"hc_hardstop\": 0,\n",
    "                                        },\n",
    "                                    }\n",
    "                                )\n",
    "                                counter += 1\n",
    "# This is optional setting, since the default will be zero for all.\n",
    "rotations = [\"0\" for i in range(len(pieces_list))]\n",
    "print(len(GA_configs_list))"
   ]
  },
  {
   "cell_type": "markdown",
   "id": "e22853af",
   "metadata": {},
   "source": [
    "---\n",
    "##### Initial Visualization"
   ]
  },
  {
   "cell_type": "code",
   "execution_count": 226,
   "id": "2ff39852",
   "metadata": {},
   "outputs": [
    {
     "data": {
      "application/vnd.plotly.v1+json": {
       "config": {
        "plotlyServerURL": "https://plot.ly"
       },
       "data": [
        {
         "marker": {
          "size": 20,
          "symbol": "square"
         },
         "mode": "markers",
         "type": "scatter",
         "x": [
          1,
          1,
          0,
          2
         ],
         "y": [
          0,
          1,
          1,
          0
         ]
        },
        {
         "marker": {
          "size": 20,
          "symbol": "square"
         },
         "mode": "markers",
         "type": "scatter",
         "x": [
          3,
          3,
          3,
          4
         ],
         "y": [
          0,
          1,
          2,
          2
         ]
        },
        {
         "marker": {
          "size": 20,
          "symbol": "square"
         },
         "mode": "markers",
         "type": "scatter",
         "x": [
          6,
          6,
          6,
          5
         ],
         "y": [
          0,
          1,
          2,
          2
         ]
        },
        {
         "marker": {
          "size": 20,
          "symbol": "square"
         },
         "mode": "markers",
         "type": "scatter",
         "x": [
          4,
          4,
          5,
          5
         ],
         "y": [
          0,
          1,
          0,
          1
         ]
        },
        {
         "marker": {
          "size": 20,
          "symbol": "square"
         },
         "mode": "markers",
         "type": "scatter",
         "x": [
          8,
          8,
          9,
          7
         ],
         "y": [
          0,
          1,
          1,
          0
         ]
        },
        {
         "marker": {
          "size": 20,
          "symbol": "square"
         },
         "mode": "markers",
         "type": "scatter",
         "x": [
          10,
          10,
          11,
          9
         ],
         "y": [
          0,
          1,
          1,
          0
         ]
        },
        {
         "marker": {
          "size": 20,
          "symbol": "square"
         },
         "mode": "markers",
         "type": "scatter",
         "x": [
          2,
          2,
          2,
          2
         ],
         "y": [
          1,
          2,
          3,
          4
         ]
        },
        {
         "marker": {
          "size": 20,
          "symbol": "square"
         },
         "mode": "markers",
         "type": "scatter",
         "x": [
          0,
          0,
          1,
          1
         ],
         "y": [
          2,
          3,
          2,
          3
         ]
        },
        {
         "marker": {
          "size": 20,
          "symbol": "square"
         },
         "mode": "markers",
         "type": "scatter",
         "x": [
          7,
          7,
          6,
          8
         ],
         "y": [
          2,
          3,
          3,
          3
         ]
        },
        {
         "marker": {
          "size": 20,
          "symbol": "square"
         },
         "mode": "markers",
         "type": "scatter",
         "x": [
          9,
          9,
          9,
          9
         ],
         "y": [
          2,
          3,
          4,
          5
         ]
        },
        {
         "marker": {
          "size": 20,
          "symbol": "square"
         },
         "mode": "markers",
         "type": "scatter",
         "x": [
          4,
          4,
          3,
          5
         ],
         "y": [
          3,
          4,
          4,
          4
         ]
        },
        {
         "marker": {
          "size": 20,
          "symbol": "square"
         },
         "mode": "markers",
         "type": "scatter",
         "x": [
          11,
          11,
          11,
          10
         ],
         "y": [
          2,
          3,
          4,
          4
         ]
        },
        {
         "marker": {
          "size": 20,
          "symbol": "square"
         },
         "mode": "markers",
         "type": "scatter",
         "x": [
          6,
          6,
          5,
          7
         ],
         "y": [
          4,
          5,
          5,
          4
         ]
        },
        {
         "marker": {
          "size": 20,
          "symbol": "square"
         },
         "mode": "markers",
         "type": "scatter",
         "x": [
          0,
          0,
          0,
          0
         ],
         "y": [
          4,
          5,
          6,
          7
         ]
        },
        {
         "marker": {
          "size": 20,
          "symbol": "square"
         },
         "mode": "markers",
         "type": "scatter",
         "x": [
          1,
          1,
          1,
          1
         ],
         "y": [
          4,
          5,
          6,
          7
         ]
        },
        {
         "marker": {
          "size": 20,
          "symbol": "square"
         },
         "mode": "markers",
         "type": "scatter",
         "x": [
          3,
          3,
          2,
          4
         ],
         "y": [
          5,
          6,
          6,
          5
         ]
        },
        {
         "marker": {
          "size": 20,
          "symbol": "square"
         },
         "mode": "markers",
         "type": "scatter",
         "x": [
          7,
          7,
          8,
          8
         ],
         "y": [
          5,
          6,
          5,
          6
         ]
        },
        {
         "marker": {
          "size": 20,
          "symbol": "square"
         },
         "mode": "markers",
         "type": "scatter",
         "x": [
          10,
          10,
          10,
          10
         ],
         "y": [
          5,
          6,
          7,
          8
         ]
        },
        {
         "marker": {
          "size": 20,
          "symbol": "square"
         },
         "mode": "markers",
         "type": "scatter",
         "x": [
          4,
          4,
          4,
          3
         ],
         "y": [
          6,
          7,
          8,
          8
         ]
        },
        {
         "marker": {
          "size": 20,
          "symbol": "square"
         },
         "mode": "markers",
         "type": "scatter",
         "x": [
          5,
          5,
          5,
          6
         ],
         "y": [
          6,
          7,
          8,
          8
         ]
        },
        {
         "marker": {
          "size": 20,
          "symbol": "square"
         },
         "mode": "markers",
         "type": "scatter",
         "x": [
          11,
          11,
          11,
          11
         ],
         "y": [
          5,
          6,
          7,
          8
         ]
        },
        {
         "marker": {
          "size": 20,
          "symbol": "square"
         },
         "mode": "markers",
         "type": "scatter",
         "x": [
          8,
          8,
          7,
          9
         ],
         "y": [
          7,
          8,
          8,
          8
         ]
        },
        {
         "marker": {
          "size": 20,
          "symbol": "square"
         },
         "mode": "markers",
         "type": "scatter",
         "x": [
          2,
          2,
          2,
          1
         ],
         "y": [
          7,
          8,
          9,
          9
         ]
        },
        {
         "marker": {
          "size": 20,
          "symbol": "square"
         },
         "mode": "markers",
         "type": "scatter",
         "x": [
          4,
          4,
          5,
          3
         ],
         "y": [
          9,
          10,
          10,
          9
         ]
        },
        {
         "marker": {
          "size": 20,
          "symbol": "square"
         },
         "mode": "markers",
         "type": "scatter",
         "x": [
          7,
          7,
          6,
          8
         ],
         "y": [
          9,
          10,
          10,
          9
         ]
        },
        {
         "marker": {
          "size": 20,
          "symbol": "square"
         },
         "mode": "markers",
         "type": "scatter",
         "x": [
          9,
          9,
          9,
          8
         ],
         "y": [
          9,
          10,
          11,
          11
         ]
        },
        {
         "marker": {
          "size": 20,
          "symbol": "square"
         },
         "mode": "markers",
         "type": "scatter",
         "x": [
          0,
          0,
          0,
          1
         ],
         "y": [
          8,
          9,
          10,
          10
         ]
        },
        {
         "marker": {
          "size": 20,
          "symbol": "square"
         },
         "mode": "markers",
         "type": "scatter",
         "x": [
          11,
          11,
          11,
          10
         ],
         "y": [
          9,
          10,
          11,
          11
         ]
        },
        {
         "marker": {
          "size": 20,
          "symbol": "square"
         },
         "mode": "markers",
         "type": "scatter",
         "x": [
          2,
          2,
          1,
          3
         ],
         "y": [
          10,
          11,
          11,
          11
         ]
        }
       ],
       "layout": {
        "height": 600,
        "margin": {
         "b": 0,
         "l": 0,
         "r": 0,
         "t": 80
        },
        "showlegend": false,
        "template": {
         "data": {
          "bar": [
           {
            "error_x": {
             "color": "#2a3f5f"
            },
            "error_y": {
             "color": "#2a3f5f"
            },
            "marker": {
             "line": {
              "color": "#E5ECF6",
              "width": 0.5
             }
            },
            "type": "bar"
           }
          ],
          "barpolar": [
           {
            "marker": {
             "line": {
              "color": "#E5ECF6",
              "width": 0.5
             }
            },
            "type": "barpolar"
           }
          ],
          "carpet": [
           {
            "aaxis": {
             "endlinecolor": "#2a3f5f",
             "gridcolor": "white",
             "linecolor": "white",
             "minorgridcolor": "white",
             "startlinecolor": "#2a3f5f"
            },
            "baxis": {
             "endlinecolor": "#2a3f5f",
             "gridcolor": "white",
             "linecolor": "white",
             "minorgridcolor": "white",
             "startlinecolor": "#2a3f5f"
            },
            "type": "carpet"
           }
          ],
          "choropleth": [
           {
            "colorbar": {
             "outlinewidth": 0,
             "ticks": ""
            },
            "type": "choropleth"
           }
          ],
          "contour": [
           {
            "colorbar": {
             "outlinewidth": 0,
             "ticks": ""
            },
            "colorscale": [
             [
              0,
              "#0d0887"
             ],
             [
              0.1111111111111111,
              "#46039f"
             ],
             [
              0.2222222222222222,
              "#7201a8"
             ],
             [
              0.3333333333333333,
              "#9c179e"
             ],
             [
              0.4444444444444444,
              "#bd3786"
             ],
             [
              0.5555555555555556,
              "#d8576b"
             ],
             [
              0.6666666666666666,
              "#ed7953"
             ],
             [
              0.7777777777777778,
              "#fb9f3a"
             ],
             [
              0.8888888888888888,
              "#fdca26"
             ],
             [
              1,
              "#f0f921"
             ]
            ],
            "type": "contour"
           }
          ],
          "contourcarpet": [
           {
            "colorbar": {
             "outlinewidth": 0,
             "ticks": ""
            },
            "type": "contourcarpet"
           }
          ],
          "heatmap": [
           {
            "colorbar": {
             "outlinewidth": 0,
             "ticks": ""
            },
            "colorscale": [
             [
              0,
              "#0d0887"
             ],
             [
              0.1111111111111111,
              "#46039f"
             ],
             [
              0.2222222222222222,
              "#7201a8"
             ],
             [
              0.3333333333333333,
              "#9c179e"
             ],
             [
              0.4444444444444444,
              "#bd3786"
             ],
             [
              0.5555555555555556,
              "#d8576b"
             ],
             [
              0.6666666666666666,
              "#ed7953"
             ],
             [
              0.7777777777777778,
              "#fb9f3a"
             ],
             [
              0.8888888888888888,
              "#fdca26"
             ],
             [
              1,
              "#f0f921"
             ]
            ],
            "type": "heatmap"
           }
          ],
          "heatmapgl": [
           {
            "colorbar": {
             "outlinewidth": 0,
             "ticks": ""
            },
            "colorscale": [
             [
              0,
              "#0d0887"
             ],
             [
              0.1111111111111111,
              "#46039f"
             ],
             [
              0.2222222222222222,
              "#7201a8"
             ],
             [
              0.3333333333333333,
              "#9c179e"
             ],
             [
              0.4444444444444444,
              "#bd3786"
             ],
             [
              0.5555555555555556,
              "#d8576b"
             ],
             [
              0.6666666666666666,
              "#ed7953"
             ],
             [
              0.7777777777777778,
              "#fb9f3a"
             ],
             [
              0.8888888888888888,
              "#fdca26"
             ],
             [
              1,
              "#f0f921"
             ]
            ],
            "type": "heatmapgl"
           }
          ],
          "histogram": [
           {
            "marker": {
             "colorbar": {
              "outlinewidth": 0,
              "ticks": ""
             }
            },
            "type": "histogram"
           }
          ],
          "histogram2d": [
           {
            "colorbar": {
             "outlinewidth": 0,
             "ticks": ""
            },
            "colorscale": [
             [
              0,
              "#0d0887"
             ],
             [
              0.1111111111111111,
              "#46039f"
             ],
             [
              0.2222222222222222,
              "#7201a8"
             ],
             [
              0.3333333333333333,
              "#9c179e"
             ],
             [
              0.4444444444444444,
              "#bd3786"
             ],
             [
              0.5555555555555556,
              "#d8576b"
             ],
             [
              0.6666666666666666,
              "#ed7953"
             ],
             [
              0.7777777777777778,
              "#fb9f3a"
             ],
             [
              0.8888888888888888,
              "#fdca26"
             ],
             [
              1,
              "#f0f921"
             ]
            ],
            "type": "histogram2d"
           }
          ],
          "histogram2dcontour": [
           {
            "colorbar": {
             "outlinewidth": 0,
             "ticks": ""
            },
            "colorscale": [
             [
              0,
              "#0d0887"
             ],
             [
              0.1111111111111111,
              "#46039f"
             ],
             [
              0.2222222222222222,
              "#7201a8"
             ],
             [
              0.3333333333333333,
              "#9c179e"
             ],
             [
              0.4444444444444444,
              "#bd3786"
             ],
             [
              0.5555555555555556,
              "#d8576b"
             ],
             [
              0.6666666666666666,
              "#ed7953"
             ],
             [
              0.7777777777777778,
              "#fb9f3a"
             ],
             [
              0.8888888888888888,
              "#fdca26"
             ],
             [
              1,
              "#f0f921"
             ]
            ],
            "type": "histogram2dcontour"
           }
          ],
          "mesh3d": [
           {
            "colorbar": {
             "outlinewidth": 0,
             "ticks": ""
            },
            "type": "mesh3d"
           }
          ],
          "parcoords": [
           {
            "line": {
             "colorbar": {
              "outlinewidth": 0,
              "ticks": ""
             }
            },
            "type": "parcoords"
           }
          ],
          "pie": [
           {
            "automargin": true,
            "type": "pie"
           }
          ],
          "scatter": [
           {
            "marker": {
             "colorbar": {
              "outlinewidth": 0,
              "ticks": ""
             }
            },
            "type": "scatter"
           }
          ],
          "scatter3d": [
           {
            "line": {
             "colorbar": {
              "outlinewidth": 0,
              "ticks": ""
             }
            },
            "marker": {
             "colorbar": {
              "outlinewidth": 0,
              "ticks": ""
             }
            },
            "type": "scatter3d"
           }
          ],
          "scattercarpet": [
           {
            "marker": {
             "colorbar": {
              "outlinewidth": 0,
              "ticks": ""
             }
            },
            "type": "scattercarpet"
           }
          ],
          "scattergeo": [
           {
            "marker": {
             "colorbar": {
              "outlinewidth": 0,
              "ticks": ""
             }
            },
            "type": "scattergeo"
           }
          ],
          "scattergl": [
           {
            "marker": {
             "colorbar": {
              "outlinewidth": 0,
              "ticks": ""
             }
            },
            "type": "scattergl"
           }
          ],
          "scattermapbox": [
           {
            "marker": {
             "colorbar": {
              "outlinewidth": 0,
              "ticks": ""
             }
            },
            "type": "scattermapbox"
           }
          ],
          "scatterpolar": [
           {
            "marker": {
             "colorbar": {
              "outlinewidth": 0,
              "ticks": ""
             }
            },
            "type": "scatterpolar"
           }
          ],
          "scatterpolargl": [
           {
            "marker": {
             "colorbar": {
              "outlinewidth": 0,
              "ticks": ""
             }
            },
            "type": "scatterpolargl"
           }
          ],
          "scatterternary": [
           {
            "marker": {
             "colorbar": {
              "outlinewidth": 0,
              "ticks": ""
             }
            },
            "type": "scatterternary"
           }
          ],
          "surface": [
           {
            "colorbar": {
             "outlinewidth": 0,
             "ticks": ""
            },
            "colorscale": [
             [
              0,
              "#0d0887"
             ],
             [
              0.1111111111111111,
              "#46039f"
             ],
             [
              0.2222222222222222,
              "#7201a8"
             ],
             [
              0.3333333333333333,
              "#9c179e"
             ],
             [
              0.4444444444444444,
              "#bd3786"
             ],
             [
              0.5555555555555556,
              "#d8576b"
             ],
             [
              0.6666666666666666,
              "#ed7953"
             ],
             [
              0.7777777777777778,
              "#fb9f3a"
             ],
             [
              0.8888888888888888,
              "#fdca26"
             ],
             [
              1,
              "#f0f921"
             ]
            ],
            "type": "surface"
           }
          ],
          "table": [
           {
            "cells": {
             "fill": {
              "color": "#EBF0F8"
             },
             "line": {
              "color": "white"
             }
            },
            "header": {
             "fill": {
              "color": "#C8D4E3"
             },
             "line": {
              "color": "white"
             }
            },
            "type": "table"
           }
          ]
         },
         "layout": {
          "annotationdefaults": {
           "arrowcolor": "#2a3f5f",
           "arrowhead": 0,
           "arrowwidth": 1
          },
          "autotypenumbers": "strict",
          "coloraxis": {
           "colorbar": {
            "outlinewidth": 0,
            "ticks": ""
           }
          },
          "colorscale": {
           "diverging": [
            [
             0,
             "#8e0152"
            ],
            [
             0.1,
             "#c51b7d"
            ],
            [
             0.2,
             "#de77ae"
            ],
            [
             0.3,
             "#f1b6da"
            ],
            [
             0.4,
             "#fde0ef"
            ],
            [
             0.5,
             "#f7f7f7"
            ],
            [
             0.6,
             "#e6f5d0"
            ],
            [
             0.7,
             "#b8e186"
            ],
            [
             0.8,
             "#7fbc41"
            ],
            [
             0.9,
             "#4d9221"
            ],
            [
             1,
             "#276419"
            ]
           ],
           "sequential": [
            [
             0,
             "#0d0887"
            ],
            [
             0.1111111111111111,
             "#46039f"
            ],
            [
             0.2222222222222222,
             "#7201a8"
            ],
            [
             0.3333333333333333,
             "#9c179e"
            ],
            [
             0.4444444444444444,
             "#bd3786"
            ],
            [
             0.5555555555555556,
             "#d8576b"
            ],
            [
             0.6666666666666666,
             "#ed7953"
            ],
            [
             0.7777777777777778,
             "#fb9f3a"
            ],
            [
             0.8888888888888888,
             "#fdca26"
            ],
            [
             1,
             "#f0f921"
            ]
           ],
           "sequentialminus": [
            [
             0,
             "#0d0887"
            ],
            [
             0.1111111111111111,
             "#46039f"
            ],
            [
             0.2222222222222222,
             "#7201a8"
            ],
            [
             0.3333333333333333,
             "#9c179e"
            ],
            [
             0.4444444444444444,
             "#bd3786"
            ],
            [
             0.5555555555555556,
             "#d8576b"
            ],
            [
             0.6666666666666666,
             "#ed7953"
            ],
            [
             0.7777777777777778,
             "#fb9f3a"
            ],
            [
             0.8888888888888888,
             "#fdca26"
            ],
            [
             1,
             "#f0f921"
            ]
           ]
          },
          "colorway": [
           "#636efa",
           "#EF553B",
           "#00cc96",
           "#ab63fa",
           "#FFA15A",
           "#19d3f3",
           "#FF6692",
           "#B6E880",
           "#FF97FF",
           "#FECB52"
          ],
          "font": {
           "color": "#2a3f5f"
          },
          "geo": {
           "bgcolor": "white",
           "lakecolor": "white",
           "landcolor": "#E5ECF6",
           "showlakes": true,
           "showland": true,
           "subunitcolor": "white"
          },
          "hoverlabel": {
           "align": "left"
          },
          "hovermode": "closest",
          "mapbox": {
           "style": "light"
          },
          "paper_bgcolor": "white",
          "plot_bgcolor": "#E5ECF6",
          "polar": {
           "angularaxis": {
            "gridcolor": "white",
            "linecolor": "white",
            "ticks": ""
           },
           "bgcolor": "#E5ECF6",
           "radialaxis": {
            "gridcolor": "white",
            "linecolor": "white",
            "ticks": ""
           }
          },
          "scene": {
           "xaxis": {
            "backgroundcolor": "#E5ECF6",
            "gridcolor": "white",
            "gridwidth": 2,
            "linecolor": "white",
            "showbackground": true,
            "ticks": "",
            "zerolinecolor": "white"
           },
           "yaxis": {
            "backgroundcolor": "#E5ECF6",
            "gridcolor": "white",
            "gridwidth": 2,
            "linecolor": "white",
            "showbackground": true,
            "ticks": "",
            "zerolinecolor": "white"
           },
           "zaxis": {
            "backgroundcolor": "#E5ECF6",
            "gridcolor": "white",
            "gridwidth": 2,
            "linecolor": "white",
            "showbackground": true,
            "ticks": "",
            "zerolinecolor": "white"
           }
          },
          "shapedefaults": {
           "line": {
            "color": "#2a3f5f"
           }
          },
          "ternary": {
           "aaxis": {
            "gridcolor": "white",
            "linecolor": "white",
            "ticks": ""
           },
           "baxis": {
            "gridcolor": "white",
            "linecolor": "white",
            "ticks": ""
           },
           "bgcolor": "#E5ECF6",
           "caxis": {
            "gridcolor": "white",
            "linecolor": "white",
            "ticks": ""
           }
          },
          "title": {
           "x": 0.05
          },
          "xaxis": {
           "automargin": true,
           "gridcolor": "white",
           "linecolor": "white",
           "ticks": "",
           "title": {
            "standoff": 15
           },
           "zerolinecolor": "white",
           "zerolinewidth": 2
          },
          "yaxis": {
           "automargin": true,
           "gridcolor": "white",
           "linecolor": "white",
           "ticks": "",
           "title": {
            "standoff": 15
           },
           "zerolinecolor": "white",
           "zerolinewidth": 2
          }
         }
        },
        "title": {
         "text": "<b>Fitness:</b> 0/14400<br><b>Pieces used:</b> 29/36"
        },
        "width": 600,
        "xaxis": {
         "fixedrange": true,
         "range": [
          -0.5,
          11.5
         ],
         "showticklabels": false
        },
        "yaxis": {
         "range": [
          11.5,
          -0.5
         ],
         "showticklabels": false,
         "tickfont": {
          "size": 12
         }
        }
       }
      }
     },
     "metadata": {},
     "output_type": "display_data"
    }
   ],
   "source": [
    "# This cell just makes an initial visualization of the grid and pieces.\n",
    "\n",
    "# This will generate the individual automatically for the just the initial visualization.\n",
    "vis_individual = [x+y for x,y in list(zip(pieces_list,rotations))]\n",
    "\n",
    "grid, pieces_coordinates = tetrimino_fitter(vis_individual, grid_shape)\n",
    "plot_grid(\n",
    "    ind_fitness = 0,\n",
    "    grid=grid,\n",
    "    pieces_coordinates=pieces_coordinates,\n",
    "    save_html_name= None,\n",
    "    save_png_name= None,\n",
    "    marker_size= 20,\n",
    "    width= 600,\n",
    "    height= 600\n",
    ")"
   ]
  },
  {
   "cell_type": "markdown",
   "id": "106f0bfb",
   "metadata": {},
   "source": [
    "---\n",
    "#### GA algorithm runs"
   ]
  },
  {
   "cell_type": "code",
   "execution_count": 227,
   "id": "8756b1da",
   "metadata": {},
   "outputs": [],
   "source": [
    "# Initialize a dict where we store fitness history for each run.\n",
    "fitness_dict = {}\n",
    "# Initialize a dict for ABF for configs tested.\n",
    "ABF_dict = {}\n",
    "\n",
    "# Initialize a list to hold the collection of the best individuals.\n",
    "best_individuals = {config[\"name\"]:[] for config in GA_configs_list}"
   ]
  },
  {
   "cell_type": "code",
   "execution_count": 228,
   "id": "b50da0b5",
   "metadata": {
    "scrolled": false
   },
   "outputs": [
    {
     "name": "stdout",
     "output_type": "stream",
     "text": [
      "initializing individuals\n",
      "[0.0%] config: 0_tournament_pmx[1.0]_swap[0.1,3]_rot[0.1]_adpt[0.05]\n",
      "Run: 0 - 1 - 2 - 3 - "
     ]
    },
    {
     "ename": "KeyboardInterrupt",
     "evalue": "",
     "output_type": "error",
     "traceback": [
      "\u001b[0;31m---------------------------------------------------------------------------\u001b[0m",
      "\u001b[0;31mKeyboardInterrupt\u001b[0m                         Traceback (most recent call last)",
      "\u001b[0;32m<ipython-input-228-1ae511485113>\u001b[0m in \u001b[0;36m<module>\u001b[0;34m\u001b[0m\n\u001b[1;32m     17\u001b[0m             \u001b[0mcopy\u001b[0m\u001b[0;34m.\u001b[0m\u001b[0mdeepcopy\u001b[0m\u001b[0;34m(\u001b[0m\u001b[0mindividuals_iters\u001b[0m\u001b[0;34m[\u001b[0m\u001b[0miteration\u001b[0m\u001b[0;34m]\u001b[0m\u001b[0;34m)\u001b[0m\u001b[0;34m,\u001b[0m \u001b[0;34m\"max\"\u001b[0m\u001b[0;34m,\u001b[0m \u001b[0mn_elites\u001b[0m\u001b[0;34m,\u001b[0m \u001b[0mpieces_list\u001b[0m\u001b[0;34m,\u001b[0m \u001b[0mgrid_shape\u001b[0m\u001b[0;34m\u001b[0m\u001b[0;34m\u001b[0m\u001b[0m\n\u001b[1;32m     18\u001b[0m         )\n\u001b[0;32m---> 19\u001b[0;31m         gao.GAO(\n\u001b[0m\u001b[1;32m     20\u001b[0m             \u001b[0mpop\u001b[0m\u001b[0;34m,\u001b[0m \u001b[0mverbose\u001b[0m\u001b[0;34m=\u001b[0m\u001b[0;32mFalse\u001b[0m\u001b[0;34m,\u001b[0m \u001b[0;34m**\u001b[0m\u001b[0mGA_config\u001b[0m\u001b[0;34m[\u001b[0m\u001b[0;34m\"params\"\u001b[0m\u001b[0;34m]\u001b[0m\u001b[0;34m,\u001b[0m\u001b[0;34m\u001b[0m\u001b[0;34m\u001b[0m\u001b[0m\n\u001b[1;32m     21\u001b[0m         )\n",
      "\u001b[0;32m~/nova/spring_21/CIFO/CIFO-TetriminoFitter/library/genetic_algorithm/gao.py\u001b[0m in \u001b[0;36mGAO\u001b[0;34m(pop, generations, selection_type, tournament_size, crossover_type, p_crossover, mutation_type, p_mutation, n_mutations, p_rot_mut, p_adoption, hc_hardstop, verbose)\u001b[0m\n\u001b[1;32m     59\u001b[0m                 \u001b[0;31m# Create individual and get its fitness\u001b[0m\u001b[0;34m\u001b[0m\u001b[0;34m\u001b[0m\u001b[0;34m\u001b[0m\u001b[0m\n\u001b[1;32m     60\u001b[0m                 \u001b[0mi\u001b[0m \u001b[0;34m=\u001b[0m \u001b[0mIndividual\u001b[0m\u001b[0;34m(\u001b[0m\u001b[0mrepresentation\u001b[0m\u001b[0;34m=\u001b[0m\u001b[0mi\u001b[0m\u001b[0;34m)\u001b[0m\u001b[0;34m\u001b[0m\u001b[0;34m\u001b[0m\u001b[0m\n\u001b[0;32m---> 61\u001b[0;31m                 \u001b[0mpop\u001b[0m\u001b[0;34m.\u001b[0m\u001b[0mfitness\u001b[0m\u001b[0;34m(\u001b[0m\u001b[0mi\u001b[0m\u001b[0;34m)\u001b[0m\u001b[0;34m\u001b[0m\u001b[0;34m\u001b[0m\u001b[0m\n\u001b[0m\u001b[1;32m     62\u001b[0m                 \u001b[0;32mif\u001b[0m \u001b[0mlen\u001b[0m\u001b[0;34m(\u001b[0m\u001b[0mpop_prime\u001b[0m\u001b[0;34m)\u001b[0m \u001b[0;34m<\u001b[0m \u001b[0mlen\u001b[0m\u001b[0;34m(\u001b[0m\u001b[0mpop\u001b[0m\u001b[0;34m.\u001b[0m\u001b[0mindividuals\u001b[0m\u001b[0;34m)\u001b[0m\u001b[0;34m:\u001b[0m\u001b[0;34m\u001b[0m\u001b[0;34m\u001b[0m\u001b[0m\n\u001b[1;32m     63\u001b[0m                     \u001b[0mpop_prime\u001b[0m\u001b[0;34m.\u001b[0m\u001b[0mappend\u001b[0m\u001b[0;34m(\u001b[0m\u001b[0mi\u001b[0m\u001b[0;34m)\u001b[0m\u001b[0;34m\u001b[0m\u001b[0;34m\u001b[0m\u001b[0m\n",
      "\u001b[0;32m~/nova/spring_21/CIFO/CIFO-TetriminoFitter/tetris_main.py\u001b[0m in \u001b[0;36mfitness\u001b[0;34m(self, individual)\u001b[0m\n\u001b[1;32m    150\u001b[0m         \u001b[0mrep\u001b[0m \u001b[0;34m=\u001b[0m \u001b[0mindividual\u001b[0m\u001b[0;34m.\u001b[0m\u001b[0mrepresentation\u001b[0m\u001b[0;34m\u001b[0m\u001b[0;34m\u001b[0m\u001b[0m\n\u001b[1;32m    151\u001b[0m         \u001b[0;31m# calculate fitness\u001b[0m\u001b[0;34m\u001b[0m\u001b[0;34m\u001b[0m\u001b[0;34m\u001b[0m\u001b[0m\n\u001b[0;32m--> 152\u001b[0;31m         \u001b[0mgrid\u001b[0m\u001b[0;34m,\u001b[0m \u001b[0m_\u001b[0m \u001b[0;34m=\u001b[0m \u001b[0mtetrimino_fitter\u001b[0m\u001b[0;34m(\u001b[0m\u001b[0mrep\u001b[0m\u001b[0;34m,\u001b[0m \u001b[0mself\u001b[0m\u001b[0;34m.\u001b[0m\u001b[0mgrid_shape\u001b[0m\u001b[0;34m)\u001b[0m\u001b[0;34m\u001b[0m\u001b[0;34m\u001b[0m\u001b[0m\n\u001b[0m\u001b[1;32m    153\u001b[0m         \u001b[0moccupation_fitness\u001b[0m \u001b[0;34m=\u001b[0m \u001b[0mnp\u001b[0m\u001b[0;34m.\u001b[0m\u001b[0msum\u001b[0m\u001b[0;34m(\u001b[0m\u001b[0mgrid\u001b[0m\u001b[0;34m)\u001b[0m \u001b[0;34m*\u001b[0m \u001b[0;36m100\u001b[0m\u001b[0;34m\u001b[0m\u001b[0;34m\u001b[0m\u001b[0m\n\u001b[1;32m    154\u001b[0m         \u001b[0mcompactness_fitness\u001b[0m \u001b[0;34m=\u001b[0m \u001b[0;36m0\u001b[0m\u001b[0;34m\u001b[0m\u001b[0;34m\u001b[0m\u001b[0m\n",
      "\u001b[0;32m~/nova/spring_21/CIFO/CIFO-TetriminoFitter/tetris_main.py\u001b[0m in \u001b[0;36mtetrimino_fitter\u001b[0;34m(pieces, grid_shape, verbose)\u001b[0m\n\u001b[1;32m     61\u001b[0m                 \u001b[0mtest_fit\u001b[0m \u001b[0;34m=\u001b[0m \u001b[0mnp\u001b[0m\u001b[0;34m.\u001b[0m\u001b[0marray\u001b[0m\u001b[0;34m(\u001b[0m\u001b[0;34m[\u001b[0m\u001b[0mgrid\u001b[0m\u001b[0;34m[\u001b[0m\u001b[0mx\u001b[0m\u001b[0;34m,\u001b[0m \u001b[0my\u001b[0m\u001b[0;34m]\u001b[0m \u001b[0;32mfor\u001b[0m \u001b[0mx\u001b[0m\u001b[0;34m,\u001b[0m \u001b[0my\u001b[0m \u001b[0;32min\u001b[0m \u001b[0mp\u001b[0m\u001b[0;34m]\u001b[0m\u001b[0;34m)\u001b[0m\u001b[0;34m\u001b[0m\u001b[0;34m\u001b[0m\u001b[0m\n\u001b[1;32m     62\u001b[0m                 \u001b[0;31m# If the sum is 0, it fits\u001b[0m\u001b[0;34m\u001b[0m\u001b[0;34m\u001b[0m\u001b[0;34m\u001b[0m\u001b[0m\n\u001b[0;32m---> 63\u001b[0;31m                 \u001b[0;32mif\u001b[0m \u001b[0mnp\u001b[0m\u001b[0;34m.\u001b[0m\u001b[0msum\u001b[0m\u001b[0;34m(\u001b[0m\u001b[0mtest_fit\u001b[0m\u001b[0;34m)\u001b[0m \u001b[0;34m==\u001b[0m \u001b[0;36m0\u001b[0m\u001b[0;34m:\u001b[0m\u001b[0;34m\u001b[0m\u001b[0;34m\u001b[0m\u001b[0m\n\u001b[0m\u001b[1;32m     64\u001b[0m                     \u001b[0;31m# Fill up the spaces with 1\u001b[0m\u001b[0;34m\u001b[0m\u001b[0;34m\u001b[0m\u001b[0;34m\u001b[0m\u001b[0m\n\u001b[1;32m     65\u001b[0m                     \u001b[0;32mfor\u001b[0m \u001b[0mx\u001b[0m\u001b[0;34m,\u001b[0m \u001b[0my\u001b[0m \u001b[0;32min\u001b[0m \u001b[0mp\u001b[0m\u001b[0;34m:\u001b[0m\u001b[0;34m\u001b[0m\u001b[0;34m\u001b[0m\u001b[0m\n",
      "\u001b[0;32m<__array_function__ internals>\u001b[0m in \u001b[0;36msum\u001b[0;34m(*args, **kwargs)\u001b[0m\n",
      "\u001b[0;31mKeyboardInterrupt\u001b[0m: "
     ]
    }
   ],
   "source": [
    "print(f\"initializing individuals\")\n",
    "# For each run, have a specific population in all configs\n",
    "individuals_iters = [\n",
    "    [\n",
    "        generate_individual(pieces_list, grid_shape, hc_hardstop=0)\n",
    "        for i in range(pop_size)\n",
    "    ]\n",
    "    for _ in range(iterations)\n",
    "]\n",
    "for i, GA_config in enumerate(GA_configs_list):\n",
    "    print(f\"[{i/len(GA_configs_list)*100}%] config: {GA_config['name']}\")\n",
    "    print(\"Run:\", end=\" \")\n",
    "    for iteration in range(iterations):\n",
    "        # Initialize individuals and the population.\n",
    "        print(f\"{iteration}\", end=\" - \")\n",
    "        pop = Population(\n",
    "            copy.deepcopy(individuals_iters[iteration]), \"max\", n_elites, pieces_list, grid_shape\n",
    "        )\n",
    "        gao.GAO(\n",
    "            pop, verbose=False, **GA_config[\"params\"],\n",
    "        )\n",
    "        # save fitness history each iteration.\n",
    "        fitness_dict[iteration] = pop.fitness_history\n",
    "\n",
    "        # Save the best individual of the iteration. With this construction, they will be easy to find later.\n",
    "        best_individuals[GA_config[\"name\"]].append(pop.elites[0])\n",
    "    print()\n",
    "    # Build a dataframe / table with fitness per generation.\n",
    "    df = pd.DataFrame(fitness_dict)\n",
    "\n",
    "    # Record the Average Best Fitness in the respective dict.\n",
    "    ABF_dict[GA_config[\"name\"]] = df.mean(axis=1)\n",
    "\n"
   ]
  },
  {
   "cell_type": "markdown",
   "id": "6f184862",
   "metadata": {},
   "source": [
    "---\n",
    "#### Average Best Fitness Comparison"
   ]
  },
  {
   "cell_type": "code",
   "execution_count": 223,
   "id": "e60a918c",
   "metadata": {},
   "outputs": [
    {
     "data": {
      "text/plain": [
       "10217"
      ]
     },
     "execution_count": 223,
     "metadata": {},
     "output_type": "execute_result"
    }
   ],
   "source": [
    "ABF_df.min()[0]"
   ]
  },
  {
   "cell_type": "code",
   "execution_count": 224,
   "id": "d9a079e5",
   "metadata": {},
   "outputs": [
    {
     "data": {
      "application/vnd.plotly.v1+json": {
       "config": {
        "plotlyServerURL": "https://plot.ly"
       },
       "data": [
        {
         "hovertemplate": "variable=0_tournament_cycle[1.0]_swap[0.1,1]_rot[0.0]_adpt[0.05]<br>Generation=%{x}<br>Fitness=%{y}<extra></extra>",
         "legendgroup": "0_tournament_cycle[1.0]_swap[0.1,1]_rot[0.0]_adpt[0.05]",
         "line": {
          "color": "#636efa",
          "dash": "solid"
         },
         "mode": "lines",
         "name": "0_tournament_cycle[1.0]_swap[0.1,1]_rot[0.0]_adpt[0.05]",
         "orientation": "v",
         "showlegend": true,
         "type": "scatter",
         "x": [
          0,
          1,
          2,
          3,
          4,
          5,
          6,
          7,
          8,
          9,
          10,
          11,
          12,
          13,
          14,
          15,
          16,
          17,
          18,
          19,
          20,
          21,
          22,
          23,
          24,
          25,
          26,
          27,
          28,
          29,
          30,
          31,
          32,
          33,
          34,
          35,
          36,
          37,
          38,
          39,
          40,
          41,
          42,
          43,
          44,
          45,
          46,
          47,
          48,
          49,
          50,
          51,
          52,
          53,
          54,
          55,
          56,
          57,
          58,
          59,
          60,
          61,
          62,
          63,
          64,
          65,
          66,
          67,
          68,
          69,
          70,
          71,
          72,
          73,
          74,
          75,
          76,
          77,
          78,
          79,
          80,
          81,
          82,
          83,
          84,
          85,
          86,
          87,
          88,
          89,
          90,
          91,
          92,
          93,
          94,
          95,
          96,
          97,
          98,
          99
         ],
         "xaxis": "x",
         "y": [
          10217,
          10235,
          10277,
          10882,
          10882,
          10882,
          10882,
          10888,
          11585,
          11585,
          11585,
          11585,
          11585,
          11585,
          11585,
          11585,
          11585,
          11585,
          11585,
          11585,
          11585,
          11585,
          11585,
          11585,
          11585,
          11585,
          11585,
          11585,
          11585,
          11585,
          11585,
          11585,
          11585,
          11585,
          11585,
          11585,
          11585,
          11585,
          11585,
          11585,
          11585,
          11585,
          11585,
          11585,
          11585,
          11585,
          11585,
          11585,
          11594,
          11594,
          11594,
          11594,
          11594,
          11594,
          11594,
          11594,
          11594,
          11594,
          11594,
          11594,
          11594,
          11594,
          11594,
          11594,
          11594,
          11648,
          11648,
          11648,
          11648,
          11648,
          11648,
          11648,
          11648,
          11648,
          11648,
          11648,
          11650,
          11650,
          11650,
          11650,
          11650,
          11650,
          11650,
          11650,
          11650,
          11650,
          11650,
          11650,
          11650,
          11650,
          11650,
          11650,
          11650,
          11650,
          11650,
          11650,
          11650,
          11650,
          11656,
          11656
         ],
         "yaxis": "y"
        },
        {
         "hovertemplate": "variable=1_tournament_cycle[1.0]_inverted[0.1,1]_rot[0.0]_adpt[0.05]<br>Generation=%{x}<br>Fitness=%{y}<extra></extra>",
         "legendgroup": "1_tournament_cycle[1.0]_inverted[0.1,1]_rot[0.0]_adpt[0.05]",
         "line": {
          "color": "#EF553B",
          "dash": "solid"
         },
         "mode": "lines",
         "name": "1_tournament_cycle[1.0]_inverted[0.1,1]_rot[0.0]_adpt[0.05]",
         "orientation": "v",
         "showlegend": true,
         "type": "scatter",
         "x": [
          0,
          1,
          2,
          3,
          4,
          5,
          6,
          7,
          8,
          9,
          10,
          11,
          12,
          13,
          14,
          15,
          16,
          17,
          18,
          19,
          20,
          21,
          22,
          23,
          24,
          25,
          26,
          27,
          28,
          29,
          30,
          31,
          32,
          33,
          34,
          35,
          36,
          37,
          38,
          39,
          40,
          41,
          42,
          43,
          44,
          45,
          46,
          47,
          48,
          49,
          50,
          51,
          52,
          53,
          54,
          55,
          56,
          57,
          58,
          59,
          60,
          61,
          62,
          63,
          64,
          65,
          66,
          67,
          68,
          69,
          70,
          71,
          72,
          73,
          74,
          75,
          76,
          77,
          78,
          79,
          80,
          81,
          82,
          83,
          84,
          85,
          86,
          87,
          88,
          89,
          90,
          91,
          92,
          93,
          94,
          95,
          96,
          97,
          98,
          99
         ],
         "xaxis": "x",
         "y": [
          10217,
          10217,
          10217,
          10235,
          10235,
          10235,
          10235,
          10235,
          10235,
          10235,
          10235,
          10235,
          10235,
          10235,
          10235,
          10235,
          10235,
          10235,
          10235,
          10241,
          10241,
          10241,
          10251,
          10251,
          10251,
          10251,
          10251,
          10251,
          10251,
          10251,
          10251,
          10251,
          10251,
          10251,
          10251,
          10251,
          10251,
          10251,
          10251,
          10251,
          10251,
          10251,
          10251,
          10251,
          10251,
          10251,
          10883,
          10887,
          10887,
          10887,
          10887,
          10887,
          10887,
          10887,
          10887,
          10887,
          10887,
          10887,
          10887,
          10906,
          10906,
          10906,
          10906,
          10906,
          10906,
          10906,
          10916,
          10916,
          10916,
          10916,
          10916,
          10916,
          10916,
          10916,
          10916,
          10916,
          10916,
          10916,
          10916,
          10955,
          10955,
          10955,
          10955,
          10955,
          10955,
          10955,
          10955,
          10955,
          10955,
          10955,
          10955,
          10955,
          10955,
          10955,
          10955,
          10955,
          10955,
          10955,
          10955,
          10955
         ],
         "yaxis": "y"
        },
        {
         "hovertemplate": "variable=2_tournament_pmx[1.0]_swap[0.1,1]_rot[0.0]_adpt[0.05]<br>Generation=%{x}<br>Fitness=%{y}<extra></extra>",
         "legendgroup": "2_tournament_pmx[1.0]_swap[0.1,1]_rot[0.0]_adpt[0.05]",
         "line": {
          "color": "#00cc96",
          "dash": "solid"
         },
         "mode": "lines",
         "name": "2_tournament_pmx[1.0]_swap[0.1,1]_rot[0.0]_adpt[0.05]",
         "orientation": "v",
         "showlegend": true,
         "type": "scatter",
         "x": [
          0,
          1,
          2,
          3,
          4,
          5,
          6,
          7,
          8,
          9,
          10,
          11,
          12,
          13,
          14,
          15,
          16,
          17,
          18,
          19,
          20,
          21,
          22,
          23,
          24,
          25,
          26,
          27,
          28,
          29,
          30,
          31,
          32,
          33,
          34,
          35,
          36,
          37,
          38,
          39,
          40,
          41,
          42,
          43,
          44,
          45,
          46,
          47,
          48,
          49,
          50,
          51,
          52,
          53,
          54,
          55,
          56,
          57,
          58,
          59,
          60,
          61,
          62,
          63,
          64,
          65,
          66,
          67,
          68,
          69,
          70,
          71,
          72,
          73,
          74,
          75,
          76,
          77,
          78,
          79,
          80,
          81,
          82,
          83,
          84,
          85,
          86,
          87,
          88,
          89,
          90,
          91,
          92,
          93,
          94,
          95,
          96,
          97,
          98,
          99
         ],
         "xaxis": "x",
         "y": [
          10217,
          10765,
          10765,
          10765,
          10765,
          10765,
          10765,
          10765,
          10765,
          10765,
          10765,
          10765,
          11493,
          11493,
          11493,
          11493,
          11493,
          11493,
          11493,
          11493,
          11493,
          11493,
          11493,
          11493,
          11493,
          11493,
          11493,
          11493,
          11493,
          11493,
          11493,
          11493,
          11493,
          11493,
          11493,
          11493,
          12132,
          12132,
          12132,
          12132,
          12132,
          12132,
          12132,
          12132,
          12132,
          12132,
          12132,
          12132,
          12132,
          12132,
          12132,
          12132,
          12132,
          12132,
          12132,
          12132,
          12132,
          12132,
          12132,
          12132,
          12132,
          12132,
          12132,
          12132,
          12132,
          12132,
          12141,
          12141,
          12141,
          12141,
          12141,
          12141,
          12141,
          12141,
          12141,
          12141,
          12141,
          12141,
          12141,
          12141,
          12141,
          12141,
          12141,
          12141,
          12141,
          12141,
          12141,
          12141,
          12146,
          12146,
          12182,
          12182,
          12182,
          12182,
          12182,
          12211,
          12211,
          12211,
          12211,
          12211
         ],
         "yaxis": "y"
        },
        {
         "hovertemplate": "variable=3_tournament_pmx[1.0]_inverted[0.1,1]_rot[0.0]_adpt[0.05]<br>Generation=%{x}<br>Fitness=%{y}<extra></extra>",
         "legendgroup": "3_tournament_pmx[1.0]_inverted[0.1,1]_rot[0.0]_adpt[0.05]",
         "line": {
          "color": "#ab63fa",
          "dash": "solid"
         },
         "mode": "lines",
         "name": "3_tournament_pmx[1.0]_inverted[0.1,1]_rot[0.0]_adpt[0.05]",
         "orientation": "v",
         "showlegend": true,
         "type": "scatter",
         "x": [
          0,
          1,
          2,
          3,
          4,
          5,
          6,
          7,
          8,
          9,
          10,
          11,
          12,
          13,
          14,
          15,
          16,
          17,
          18,
          19,
          20,
          21,
          22,
          23,
          24,
          25,
          26,
          27,
          28,
          29,
          30,
          31,
          32,
          33,
          34,
          35,
          36,
          37,
          38,
          39,
          40,
          41,
          42,
          43,
          44,
          45,
          46,
          47,
          48,
          49,
          50,
          51,
          52,
          53,
          54,
          55,
          56,
          57,
          58,
          59,
          60,
          61,
          62,
          63,
          64,
          65,
          66,
          67,
          68,
          69,
          70,
          71,
          72,
          73,
          74,
          75,
          76,
          77,
          78,
          79,
          80,
          81,
          82,
          83,
          84,
          85,
          86,
          87,
          88,
          89,
          90,
          91,
          92,
          93,
          94,
          95,
          96,
          97,
          98,
          99
         ],
         "xaxis": "x",
         "y": [
          10217,
          10217,
          10217,
          10310,
          10327,
          10944,
          10944,
          10944,
          10944,
          10944,
          10944,
          10944,
          11591,
          11591,
          11591,
          11591,
          11591,
          11660,
          11660,
          11660,
          11660,
          11660,
          11660,
          11660,
          11660,
          11660,
          11660,
          11660,
          11660,
          11660,
          11660,
          11660,
          11660,
          11660,
          11660,
          11660,
          11660,
          11660,
          11660,
          11660,
          11660,
          11660,
          11660,
          11660,
          11660,
          11660,
          11660,
          11660,
          11660,
          11660,
          11660,
          11660,
          11660,
          11660,
          11660,
          11660,
          11660,
          11660,
          11660,
          11660,
          11660,
          11660,
          11660,
          11660,
          11660,
          11660,
          11660,
          11660,
          11660,
          11660,
          11660,
          11660,
          11660,
          11660,
          11660,
          11660,
          11660,
          11660,
          11660,
          11660,
          11660,
          11660,
          11660,
          11660,
          11660,
          11660,
          11660,
          11660,
          11660,
          11660,
          11660,
          11660,
          11660,
          11660,
          11660,
          11660,
          11660,
          11660,
          11660,
          11660
         ],
         "yaxis": "y"
        },
        {
         "hovertemplate": "variable=4_fps_cycle[1.0]_swap[0.1,1]_rot[0.0]_adpt[0.05]<br>Generation=%{x}<br>Fitness=%{y}<extra></extra>",
         "legendgroup": "4_fps_cycle[1.0]_swap[0.1,1]_rot[0.0]_adpt[0.05]",
         "line": {
          "color": "#FFA15A",
          "dash": "solid"
         },
         "mode": "lines",
         "name": "4_fps_cycle[1.0]_swap[0.1,1]_rot[0.0]_adpt[0.05]",
         "orientation": "v",
         "showlegend": true,
         "type": "scatter",
         "x": [
          0,
          1,
          2,
          3,
          4,
          5,
          6,
          7,
          8,
          9,
          10,
          11,
          12,
          13,
          14,
          15,
          16,
          17,
          18,
          19,
          20,
          21,
          22,
          23,
          24,
          25,
          26,
          27,
          28,
          29,
          30,
          31,
          32,
          33,
          34,
          35,
          36,
          37,
          38,
          39,
          40,
          41,
          42,
          43,
          44,
          45,
          46,
          47,
          48,
          49,
          50,
          51,
          52,
          53,
          54,
          55,
          56,
          57,
          58,
          59,
          60,
          61,
          62,
          63,
          64,
          65,
          66,
          67,
          68,
          69,
          70,
          71,
          72,
          73,
          74,
          75,
          76,
          77,
          78,
          79,
          80,
          81,
          82,
          83,
          84,
          85,
          86,
          87,
          88,
          89,
          90,
          91,
          92,
          93,
          94,
          95,
          96,
          97,
          98,
          99
         ],
         "xaxis": "x",
         "y": [
          10217,
          10217,
          10219,
          10716,
          10877,
          10877,
          10877,
          10931,
          10947,
          10947,
          10947,
          10947,
          10947,
          10947,
          10947,
          10947,
          10947,
          10947,
          10947,
          10947,
          10947,
          10947,
          10969,
          10969,
          11613,
          11613,
          11613,
          11613,
          11613,
          11613,
          11613,
          11613,
          11613,
          11613,
          11635,
          11635,
          11635,
          11635,
          11635,
          11635,
          11635,
          11635,
          11635,
          11635,
          11635,
          11635,
          11635,
          11635,
          11635,
          11635,
          11635,
          11635,
          11635,
          12151,
          12151,
          12151,
          12171,
          12171,
          12171,
          12171,
          12171,
          12171,
          12203,
          12203,
          12203,
          12203,
          12203,
          12203,
          12203,
          12203,
          12203,
          12203,
          12203,
          12206,
          12206,
          12206,
          12206,
          12206,
          12206,
          12206,
          12206,
          12206,
          12206,
          12206,
          12206,
          12206,
          12206,
          12206,
          12206,
          12206,
          12206,
          12206,
          12206,
          12206,
          12206,
          12206,
          12206,
          12206,
          12206,
          12206
         ],
         "yaxis": "y"
        },
        {
         "hovertemplate": "variable=5_fps_cycle[1.0]_inverted[0.1,1]_rot[0.0]_adpt[0.05]<br>Generation=%{x}<br>Fitness=%{y}<extra></extra>",
         "legendgroup": "5_fps_cycle[1.0]_inverted[0.1,1]_rot[0.0]_adpt[0.05]",
         "line": {
          "color": "#19d3f3",
          "dash": "solid"
         },
         "mode": "lines",
         "name": "5_fps_cycle[1.0]_inverted[0.1,1]_rot[0.0]_adpt[0.05]",
         "orientation": "v",
         "showlegend": true,
         "type": "scatter",
         "x": [
          0,
          1,
          2,
          3,
          4,
          5,
          6,
          7,
          8,
          9,
          10,
          11,
          12,
          13,
          14,
          15,
          16,
          17,
          18,
          19,
          20,
          21,
          22,
          23,
          24,
          25,
          26,
          27,
          28,
          29,
          30,
          31,
          32,
          33,
          34,
          35,
          36,
          37,
          38,
          39,
          40,
          41,
          42,
          43,
          44,
          45,
          46,
          47,
          48,
          49,
          50,
          51,
          52,
          53,
          54,
          55,
          56,
          57,
          58,
          59,
          60,
          61,
          62,
          63,
          64,
          65,
          66,
          67,
          68,
          69,
          70,
          71,
          72,
          73,
          74,
          75,
          76,
          77,
          78,
          79,
          80,
          81,
          82,
          83,
          84,
          85,
          86,
          87,
          88,
          89,
          90,
          91,
          92,
          93,
          94,
          95,
          96,
          97,
          98,
          99
         ],
         "xaxis": "x",
         "y": [
          10217,
          10722,
          10722,
          10780,
          10780,
          10836,
          10836,
          10836,
          10836,
          10836,
          10836,
          10836,
          10836,
          10836,
          10836,
          10836,
          10836,
          10866,
          10866,
          10891,
          10891,
          10891,
          10891,
          10891,
          10891,
          10891,
          10897,
          10897,
          10923,
          10923,
          10923,
          10923,
          10923,
          10923,
          10923,
          10923,
          10923,
          10923,
          10923,
          10923,
          10923,
          10923,
          10923,
          10957,
          10957,
          10957,
          10957,
          10957,
          10957,
          10957,
          10957,
          10957,
          10957,
          10962,
          10962,
          10962,
          10962,
          10962,
          10962,
          10962,
          10962,
          10962,
          10962,
          10962,
          10981,
          10981,
          11040,
          11040,
          11040,
          11040,
          11040,
          11040,
          11040,
          11040,
          11040,
          11040,
          11040,
          11040,
          11040,
          11040,
          11040,
          11040,
          11040,
          11040,
          11040,
          11040,
          11040,
          11040,
          11040,
          11040,
          11040,
          11040,
          11040,
          11040,
          11040,
          11040,
          11040,
          11040,
          11040,
          11040
         ],
         "yaxis": "y"
        },
        {
         "hovertemplate": "variable=6_fps_pmx[1.0]_swap[0.1,1]_rot[0.0]_adpt[0.05]<br>Generation=%{x}<br>Fitness=%{y}<extra></extra>",
         "legendgroup": "6_fps_pmx[1.0]_swap[0.1,1]_rot[0.0]_adpt[0.05]",
         "line": {
          "color": "#FF6692",
          "dash": "solid"
         },
         "mode": "lines",
         "name": "6_fps_pmx[1.0]_swap[0.1,1]_rot[0.0]_adpt[0.05]",
         "orientation": "v",
         "showlegend": true,
         "type": "scatter",
         "x": [
          0,
          1,
          2,
          3,
          4,
          5,
          6,
          7,
          8,
          9,
          10,
          11,
          12,
          13,
          14,
          15,
          16,
          17,
          18,
          19,
          20,
          21,
          22,
          23,
          24,
          25,
          26,
          27,
          28,
          29,
          30,
          31,
          32,
          33,
          34,
          35,
          36,
          37,
          38,
          39,
          40,
          41,
          42,
          43,
          44,
          45,
          46,
          47,
          48,
          49,
          50,
          51,
          52,
          53,
          54,
          55,
          56,
          57,
          58,
          59,
          60,
          61,
          62,
          63,
          64,
          65,
          66,
          67,
          68,
          69,
          70,
          71,
          72,
          73,
          74,
          75,
          76,
          77,
          78,
          79,
          80,
          81,
          82,
          83,
          84,
          85,
          86,
          87,
          88,
          89,
          90,
          91,
          92,
          93,
          94,
          95,
          96,
          97,
          98,
          99
         ],
         "xaxis": "x",
         "y": [
          10217,
          10217,
          10217,
          10757,
          11386,
          11386,
          11386,
          11386,
          11393,
          11393,
          11449,
          11449,
          11449,
          11449,
          11449,
          11449,
          11459,
          11459,
          11459,
          11459,
          11459,
          11459,
          11459,
          11459,
          11459,
          11459,
          11459,
          11459,
          11459,
          11459,
          11459,
          11459,
          11459,
          11462,
          11474,
          11474,
          11474,
          11474,
          11474,
          11474,
          11474,
          11474,
          11474,
          11474,
          11474,
          11474,
          11474,
          11474,
          11474,
          11474,
          11474,
          11488,
          11488,
          11488,
          11488,
          11488,
          11488,
          11488,
          11488,
          11488,
          11488,
          11509,
          11509,
          11509,
          11509,
          11509,
          12033,
          12033,
          12033,
          12046,
          12046,
          12046,
          12046,
          12046,
          12046,
          12046,
          12046,
          12064,
          12064,
          12064,
          12165,
          12165,
          12165,
          12165,
          12165,
          12165,
          12165,
          12165,
          12165,
          12165,
          12166,
          12166,
          12166,
          12166,
          12171,
          12171,
          12171,
          12171,
          12171,
          12171
         ],
         "yaxis": "y"
        },
        {
         "hovertemplate": "variable=7_fps_pmx[1.0]_inverted[0.1,1]_rot[0.0]_adpt[0.05]<br>Generation=%{x}<br>Fitness=%{y}<extra></extra>",
         "legendgroup": "7_fps_pmx[1.0]_inverted[0.1,1]_rot[0.0]_adpt[0.05]",
         "line": {
          "color": "#B6E880",
          "dash": "solid"
         },
         "mode": "lines",
         "name": "7_fps_pmx[1.0]_inverted[0.1,1]_rot[0.0]_adpt[0.05]",
         "orientation": "v",
         "showlegend": true,
         "type": "scatter",
         "x": [
          0,
          1,
          2,
          3,
          4,
          5,
          6,
          7,
          8,
          9,
          10,
          11,
          12,
          13,
          14,
          15,
          16,
          17,
          18,
          19,
          20,
          21,
          22,
          23,
          24,
          25,
          26,
          27,
          28,
          29,
          30,
          31,
          32,
          33,
          34,
          35,
          36,
          37,
          38,
          39,
          40,
          41,
          42,
          43,
          44,
          45,
          46,
          47,
          48,
          49,
          50,
          51,
          52,
          53,
          54,
          55,
          56,
          57,
          58,
          59,
          60,
          61,
          62,
          63,
          64,
          65,
          66,
          67,
          68,
          69,
          70,
          71,
          72,
          73,
          74,
          75,
          76,
          77,
          78,
          79,
          80,
          81,
          82,
          83,
          84,
          85,
          86,
          87,
          88,
          89,
          90,
          91,
          92,
          93,
          94,
          95,
          96,
          97,
          98,
          99
         ],
         "xaxis": "x",
         "y": [
          10217,
          10311,
          11020,
          11020,
          11603,
          11603,
          11603,
          11603,
          11603,
          11603,
          11603,
          11608,
          12265,
          12265,
          12265,
          12265,
          12265,
          12265,
          12265,
          12265,
          12265,
          12265,
          12265,
          12265,
          12265,
          12265,
          12265,
          12265,
          12265,
          12265,
          12265,
          12265,
          12265,
          12265,
          12265,
          12265,
          12265,
          12265,
          12265,
          12265,
          12265,
          12265,
          12265,
          12265,
          12265,
          12265,
          12265,
          12265,
          12265,
          12265,
          12265,
          12265,
          12265,
          12267,
          12267,
          12267,
          12267,
          12267,
          12267,
          12267,
          12267,
          12267,
          12267,
          12267,
          12267,
          12267,
          12267,
          12267,
          12267,
          12267,
          12267,
          12267,
          12267,
          12267,
          12267,
          12267,
          12267,
          12287,
          12287,
          12287,
          12287,
          12287,
          12287,
          12287,
          12287,
          12287,
          12287,
          12287,
          12287,
          12287,
          12287,
          12287,
          12287,
          12287,
          12287,
          12287,
          12287,
          12287,
          12304,
          12308
         ],
         "yaxis": "y"
        }
       ],
       "layout": {
        "height": 400,
        "legend": {
         "title": {
          "text": "variable"
         },
         "tracegroupgap": 0
        },
        "margin": {
         "b": 0,
         "l": 60,
         "r": 40,
         "t": 40
        },
        "template": {
         "data": {
          "bar": [
           {
            "error_x": {
             "color": "#2a3f5f"
            },
            "error_y": {
             "color": "#2a3f5f"
            },
            "marker": {
             "line": {
              "color": "#E5ECF6",
              "width": 0.5
             }
            },
            "type": "bar"
           }
          ],
          "barpolar": [
           {
            "marker": {
             "line": {
              "color": "#E5ECF6",
              "width": 0.5
             }
            },
            "type": "barpolar"
           }
          ],
          "carpet": [
           {
            "aaxis": {
             "endlinecolor": "#2a3f5f",
             "gridcolor": "white",
             "linecolor": "white",
             "minorgridcolor": "white",
             "startlinecolor": "#2a3f5f"
            },
            "baxis": {
             "endlinecolor": "#2a3f5f",
             "gridcolor": "white",
             "linecolor": "white",
             "minorgridcolor": "white",
             "startlinecolor": "#2a3f5f"
            },
            "type": "carpet"
           }
          ],
          "choropleth": [
           {
            "colorbar": {
             "outlinewidth": 0,
             "ticks": ""
            },
            "type": "choropleth"
           }
          ],
          "contour": [
           {
            "colorbar": {
             "outlinewidth": 0,
             "ticks": ""
            },
            "colorscale": [
             [
              0,
              "#0d0887"
             ],
             [
              0.1111111111111111,
              "#46039f"
             ],
             [
              0.2222222222222222,
              "#7201a8"
             ],
             [
              0.3333333333333333,
              "#9c179e"
             ],
             [
              0.4444444444444444,
              "#bd3786"
             ],
             [
              0.5555555555555556,
              "#d8576b"
             ],
             [
              0.6666666666666666,
              "#ed7953"
             ],
             [
              0.7777777777777778,
              "#fb9f3a"
             ],
             [
              0.8888888888888888,
              "#fdca26"
             ],
             [
              1,
              "#f0f921"
             ]
            ],
            "type": "contour"
           }
          ],
          "contourcarpet": [
           {
            "colorbar": {
             "outlinewidth": 0,
             "ticks": ""
            },
            "type": "contourcarpet"
           }
          ],
          "heatmap": [
           {
            "colorbar": {
             "outlinewidth": 0,
             "ticks": ""
            },
            "colorscale": [
             [
              0,
              "#0d0887"
             ],
             [
              0.1111111111111111,
              "#46039f"
             ],
             [
              0.2222222222222222,
              "#7201a8"
             ],
             [
              0.3333333333333333,
              "#9c179e"
             ],
             [
              0.4444444444444444,
              "#bd3786"
             ],
             [
              0.5555555555555556,
              "#d8576b"
             ],
             [
              0.6666666666666666,
              "#ed7953"
             ],
             [
              0.7777777777777778,
              "#fb9f3a"
             ],
             [
              0.8888888888888888,
              "#fdca26"
             ],
             [
              1,
              "#f0f921"
             ]
            ],
            "type": "heatmap"
           }
          ],
          "heatmapgl": [
           {
            "colorbar": {
             "outlinewidth": 0,
             "ticks": ""
            },
            "colorscale": [
             [
              0,
              "#0d0887"
             ],
             [
              0.1111111111111111,
              "#46039f"
             ],
             [
              0.2222222222222222,
              "#7201a8"
             ],
             [
              0.3333333333333333,
              "#9c179e"
             ],
             [
              0.4444444444444444,
              "#bd3786"
             ],
             [
              0.5555555555555556,
              "#d8576b"
             ],
             [
              0.6666666666666666,
              "#ed7953"
             ],
             [
              0.7777777777777778,
              "#fb9f3a"
             ],
             [
              0.8888888888888888,
              "#fdca26"
             ],
             [
              1,
              "#f0f921"
             ]
            ],
            "type": "heatmapgl"
           }
          ],
          "histogram": [
           {
            "marker": {
             "colorbar": {
              "outlinewidth": 0,
              "ticks": ""
             }
            },
            "type": "histogram"
           }
          ],
          "histogram2d": [
           {
            "colorbar": {
             "outlinewidth": 0,
             "ticks": ""
            },
            "colorscale": [
             [
              0,
              "#0d0887"
             ],
             [
              0.1111111111111111,
              "#46039f"
             ],
             [
              0.2222222222222222,
              "#7201a8"
             ],
             [
              0.3333333333333333,
              "#9c179e"
             ],
             [
              0.4444444444444444,
              "#bd3786"
             ],
             [
              0.5555555555555556,
              "#d8576b"
             ],
             [
              0.6666666666666666,
              "#ed7953"
             ],
             [
              0.7777777777777778,
              "#fb9f3a"
             ],
             [
              0.8888888888888888,
              "#fdca26"
             ],
             [
              1,
              "#f0f921"
             ]
            ],
            "type": "histogram2d"
           }
          ],
          "histogram2dcontour": [
           {
            "colorbar": {
             "outlinewidth": 0,
             "ticks": ""
            },
            "colorscale": [
             [
              0,
              "#0d0887"
             ],
             [
              0.1111111111111111,
              "#46039f"
             ],
             [
              0.2222222222222222,
              "#7201a8"
             ],
             [
              0.3333333333333333,
              "#9c179e"
             ],
             [
              0.4444444444444444,
              "#bd3786"
             ],
             [
              0.5555555555555556,
              "#d8576b"
             ],
             [
              0.6666666666666666,
              "#ed7953"
             ],
             [
              0.7777777777777778,
              "#fb9f3a"
             ],
             [
              0.8888888888888888,
              "#fdca26"
             ],
             [
              1,
              "#f0f921"
             ]
            ],
            "type": "histogram2dcontour"
           }
          ],
          "mesh3d": [
           {
            "colorbar": {
             "outlinewidth": 0,
             "ticks": ""
            },
            "type": "mesh3d"
           }
          ],
          "parcoords": [
           {
            "line": {
             "colorbar": {
              "outlinewidth": 0,
              "ticks": ""
             }
            },
            "type": "parcoords"
           }
          ],
          "pie": [
           {
            "automargin": true,
            "type": "pie"
           }
          ],
          "scatter": [
           {
            "marker": {
             "colorbar": {
              "outlinewidth": 0,
              "ticks": ""
             }
            },
            "type": "scatter"
           }
          ],
          "scatter3d": [
           {
            "line": {
             "colorbar": {
              "outlinewidth": 0,
              "ticks": ""
             }
            },
            "marker": {
             "colorbar": {
              "outlinewidth": 0,
              "ticks": ""
             }
            },
            "type": "scatter3d"
           }
          ],
          "scattercarpet": [
           {
            "marker": {
             "colorbar": {
              "outlinewidth": 0,
              "ticks": ""
             }
            },
            "type": "scattercarpet"
           }
          ],
          "scattergeo": [
           {
            "marker": {
             "colorbar": {
              "outlinewidth": 0,
              "ticks": ""
             }
            },
            "type": "scattergeo"
           }
          ],
          "scattergl": [
           {
            "marker": {
             "colorbar": {
              "outlinewidth": 0,
              "ticks": ""
             }
            },
            "type": "scattergl"
           }
          ],
          "scattermapbox": [
           {
            "marker": {
             "colorbar": {
              "outlinewidth": 0,
              "ticks": ""
             }
            },
            "type": "scattermapbox"
           }
          ],
          "scatterpolar": [
           {
            "marker": {
             "colorbar": {
              "outlinewidth": 0,
              "ticks": ""
             }
            },
            "type": "scatterpolar"
           }
          ],
          "scatterpolargl": [
           {
            "marker": {
             "colorbar": {
              "outlinewidth": 0,
              "ticks": ""
             }
            },
            "type": "scatterpolargl"
           }
          ],
          "scatterternary": [
           {
            "marker": {
             "colorbar": {
              "outlinewidth": 0,
              "ticks": ""
             }
            },
            "type": "scatterternary"
           }
          ],
          "surface": [
           {
            "colorbar": {
             "outlinewidth": 0,
             "ticks": ""
            },
            "colorscale": [
             [
              0,
              "#0d0887"
             ],
             [
              0.1111111111111111,
              "#46039f"
             ],
             [
              0.2222222222222222,
              "#7201a8"
             ],
             [
              0.3333333333333333,
              "#9c179e"
             ],
             [
              0.4444444444444444,
              "#bd3786"
             ],
             [
              0.5555555555555556,
              "#d8576b"
             ],
             [
              0.6666666666666666,
              "#ed7953"
             ],
             [
              0.7777777777777778,
              "#fb9f3a"
             ],
             [
              0.8888888888888888,
              "#fdca26"
             ],
             [
              1,
              "#f0f921"
             ]
            ],
            "type": "surface"
           }
          ],
          "table": [
           {
            "cells": {
             "fill": {
              "color": "#EBF0F8"
             },
             "line": {
              "color": "white"
             }
            },
            "header": {
             "fill": {
              "color": "#C8D4E3"
             },
             "line": {
              "color": "white"
             }
            },
            "type": "table"
           }
          ]
         },
         "layout": {
          "annotationdefaults": {
           "arrowcolor": "#2a3f5f",
           "arrowhead": 0,
           "arrowwidth": 1
          },
          "autotypenumbers": "strict",
          "coloraxis": {
           "colorbar": {
            "outlinewidth": 0,
            "ticks": ""
           }
          },
          "colorscale": {
           "diverging": [
            [
             0,
             "#8e0152"
            ],
            [
             0.1,
             "#c51b7d"
            ],
            [
             0.2,
             "#de77ae"
            ],
            [
             0.3,
             "#f1b6da"
            ],
            [
             0.4,
             "#fde0ef"
            ],
            [
             0.5,
             "#f7f7f7"
            ],
            [
             0.6,
             "#e6f5d0"
            ],
            [
             0.7,
             "#b8e186"
            ],
            [
             0.8,
             "#7fbc41"
            ],
            [
             0.9,
             "#4d9221"
            ],
            [
             1,
             "#276419"
            ]
           ],
           "sequential": [
            [
             0,
             "#0d0887"
            ],
            [
             0.1111111111111111,
             "#46039f"
            ],
            [
             0.2222222222222222,
             "#7201a8"
            ],
            [
             0.3333333333333333,
             "#9c179e"
            ],
            [
             0.4444444444444444,
             "#bd3786"
            ],
            [
             0.5555555555555556,
             "#d8576b"
            ],
            [
             0.6666666666666666,
             "#ed7953"
            ],
            [
             0.7777777777777778,
             "#fb9f3a"
            ],
            [
             0.8888888888888888,
             "#fdca26"
            ],
            [
             1,
             "#f0f921"
            ]
           ],
           "sequentialminus": [
            [
             0,
             "#0d0887"
            ],
            [
             0.1111111111111111,
             "#46039f"
            ],
            [
             0.2222222222222222,
             "#7201a8"
            ],
            [
             0.3333333333333333,
             "#9c179e"
            ],
            [
             0.4444444444444444,
             "#bd3786"
            ],
            [
             0.5555555555555556,
             "#d8576b"
            ],
            [
             0.6666666666666666,
             "#ed7953"
            ],
            [
             0.7777777777777778,
             "#fb9f3a"
            ],
            [
             0.8888888888888888,
             "#fdca26"
            ],
            [
             1,
             "#f0f921"
            ]
           ]
          },
          "colorway": [
           "#636efa",
           "#EF553B",
           "#00cc96",
           "#ab63fa",
           "#FFA15A",
           "#19d3f3",
           "#FF6692",
           "#B6E880",
           "#FF97FF",
           "#FECB52"
          ],
          "font": {
           "color": "#2a3f5f"
          },
          "geo": {
           "bgcolor": "white",
           "lakecolor": "white",
           "landcolor": "#E5ECF6",
           "showlakes": true,
           "showland": true,
           "subunitcolor": "white"
          },
          "hoverlabel": {
           "align": "left"
          },
          "hovermode": "closest",
          "mapbox": {
           "style": "light"
          },
          "paper_bgcolor": "white",
          "plot_bgcolor": "#E5ECF6",
          "polar": {
           "angularaxis": {
            "gridcolor": "white",
            "linecolor": "white",
            "ticks": ""
           },
           "bgcolor": "#E5ECF6",
           "radialaxis": {
            "gridcolor": "white",
            "linecolor": "white",
            "ticks": ""
           }
          },
          "scene": {
           "xaxis": {
            "backgroundcolor": "#E5ECF6",
            "gridcolor": "white",
            "gridwidth": 2,
            "linecolor": "white",
            "showbackground": true,
            "ticks": "",
            "zerolinecolor": "white"
           },
           "yaxis": {
            "backgroundcolor": "#E5ECF6",
            "gridcolor": "white",
            "gridwidth": 2,
            "linecolor": "white",
            "showbackground": true,
            "ticks": "",
            "zerolinecolor": "white"
           },
           "zaxis": {
            "backgroundcolor": "#E5ECF6",
            "gridcolor": "white",
            "gridwidth": 2,
            "linecolor": "white",
            "showbackground": true,
            "ticks": "",
            "zerolinecolor": "white"
           }
          },
          "shapedefaults": {
           "line": {
            "color": "#2a3f5f"
           }
          },
          "ternary": {
           "aaxis": {
            "gridcolor": "white",
            "linecolor": "white",
            "ticks": ""
           },
           "baxis": {
            "gridcolor": "white",
            "linecolor": "white",
            "ticks": ""
           },
           "bgcolor": "#E5ECF6",
           "caxis": {
            "gridcolor": "white",
            "linecolor": "white",
            "ticks": ""
           }
          },
          "title": {
           "x": 0.05
          },
          "xaxis": {
           "automargin": true,
           "gridcolor": "white",
           "linecolor": "white",
           "ticks": "",
           "title": {
            "standoff": 15
           },
           "zerolinecolor": "white",
           "zerolinewidth": 2
          },
          "yaxis": {
           "automargin": true,
           "gridcolor": "white",
           "linecolor": "white",
           "ticks": "",
           "title": {
            "standoff": 15
           },
           "zerolinecolor": "white",
           "zerolinewidth": 2
          }
         }
        },
        "title": {
         "text": "Max Fitness: 14400"
        },
        "width": 800,
        "xaxis": {
         "anchor": "y",
         "domain": [
          0,
          1
         ],
         "title": {
          "text": "Generation"
         }
        },
        "yaxis": {
         "anchor": "x",
         "domain": [
          0,
          1
         ],
         "range": [
          10217,
          14400
         ],
         "tickformat": "0",
         "title": {
          "text": "Fitness"
         }
        }
       }
      }
     },
     "metadata": {},
     "output_type": "display_data"
    }
   ],
   "source": [
    "# Output a DF with the ABF comparison. \n",
    "timestamp = time.time()\n",
    "ABF_df = np.round(pd.DataFrame(ABF_dict)).astype(int)\n",
    "# ABF_df.to_csv(dir_path)\n",
    "plot_fitness(ABF_df, f\"configs/abf_graph_{timestamp}\", width=800, height=400, max_fitness=grid.size * 100)"
   ]
  },
  {
   "cell_type": "code",
   "execution_count": 167,
   "id": "f5275c85",
   "metadata": {},
   "outputs": [],
   "source": [
    "master_dict = {\n",
    "    \"general\": {\n",
    "        \"pop_size\": pop_size,\n",
    "        \"generations\": generations,\n",
    "        \"grid_shape\": grid_shape,\n",
    "        \"iterations\": iterations,\n",
    "        \"pieces_list\": pieces_list,\n",
    "    },\n",
    "    **{config[\"name\"]: config for config in GA_configs_list},\n",
    "}\n",
    "master_dict[\"general\"][\"ABF_df\"] = ABF_df\n",
    "\n",
    "for k, v in best_individuals.items():\n",
    "    master_dict[k][\"best_individuals\"] = v\n",
    "\n",
    "with open(f\"configs/fsx_master_dict{timestamp}.pkl\", \"wb\") as f:\n",
    "    pickle.dump(master_dict, f)"
   ]
  },
  {
   "cell_type": "markdown",
   "id": "82b8cda2",
   "metadata": {},
   "source": [
    "---\n",
    "#### Successful Runs / Performed Runs"
   ]
  },
  {
   "cell_type": "code",
   "execution_count": 208,
   "id": "a7d037a2",
   "metadata": {},
   "outputs": [
    {
     "name": "stdout",
     "output_type": "stream",
     "text": [
      "The max possible fitness was 14400.\n",
      "The best fitness achieved was 10922.\n",
      "Total runs: 2\n",
      "Ratio of Successful Runs / Performed Runs:\n",
      "0_tournament_pmx[0.0]_swap[0.5,1]_rot[0.5]_adpt[0.0]        0.0\n",
      "1_tournament_pmx[0.0]_inverted[0.5,1]_rot[0.5]_adpt[0.0]    0.0\n",
      "dtype: float64\n",
      "Max fitness not achieved. Using the same ratio for best fitness.\n",
      "0_tournament_pmx[0.0]_swap[0.5,1]_rot[0.5]_adpt[0.0]        0.0\n",
      "1_tournament_pmx[0.0]_inverted[0.5,1]_rot[0.5]_adpt[0.0]    0.5\n",
      "dtype: float64\n"
     ]
    }
   ],
   "source": [
    "# Output a DF with the best individuals per run and configuration.\n",
    "best_ind_df = pd.DataFrame(best_individuals)\n",
    "\n",
    "# The same DF with the fitness values only.\n",
    "best_ind_df_fit = best_ind_df.applymap(lambda x:x.fitness).astype(int)\n",
    "\n",
    "# Register max possible fitness, as well as best fitness achieved.\n",
    "max_fitness = int(np.sum(grid.size*100))\n",
    "best_fitness = max(best_ind_df_fit.max())\n",
    "print(f\"The max possible fitness was {max_fitness}.\\nThe best fitness achieved was {best_fitness}.\")\n",
    "\n",
    "# Print the SR / PR ratio to 2 decimals.\n",
    "print(f\"Total runs: {iterations}\\nRatio of Successful Runs / Performed Runs:\")\n",
    "# Pandas count function counts for each column (skipping NAs) and outputs a series, which is useful for this purpose.\n",
    "print(np.round(best_ind_df[best_ind_df_fit==max_fitness].count()/iterations,2))\n",
    "if max_fitness != best_fitness:\n",
    "    print(\"Max fitness not achieved. Using the same ratio for best fitness.\")\n",
    "    print(np.round(best_ind_df[best_ind_df_fit==best_fitness].count()/iterations,2))"
   ]
  },
  {
   "cell_type": "code",
   "execution_count": 209,
   "id": "4d6baa19",
   "metadata": {},
   "outputs": [],
   "source": [
    "# This is a pandas way of getting the best indidividuals for visualization.\n",
    "best_inds = best_ind_df[best_ind_df_fit==best_fitness]\n",
    "\n",
    "# Transform it into lists, skipping Nones.\n",
    "best_inds = best_inds.apply(lambda x:x.dropna().to_list())"
   ]
  },
  {
   "cell_type": "markdown",
   "id": "34bbdbc9",
   "metadata": {},
   "source": [
    "---\n",
    "#### Visualize an example of the best individual."
   ]
  },
  {
   "cell_type": "code",
   "execution_count": 210,
   "id": "519ed103",
   "metadata": {
    "scrolled": false
   },
   "outputs": [
    {
     "data": {
      "application/vnd.plotly.v1+json": {
       "config": {
        "plotlyServerURL": "https://plot.ly"
       },
       "data": [
        {
         "marker": {
          "size": 25,
          "symbol": "square"
         },
         "mode": "markers",
         "type": "scatter",
         "x": [
          2,
          1,
          0,
          0
         ],
         "y": [
          1,
          1,
          1,
          0
         ]
        },
        {
         "marker": {
          "size": 25,
          "symbol": "square"
         },
         "mode": "markers",
         "type": "scatter",
         "x": [
          3,
          3,
          4,
          2
         ],
         "y": [
          1,
          0,
          0,
          0
         ]
        },
        {
         "marker": {
          "size": 25,
          "symbol": "square"
         },
         "mode": "markers",
         "type": "scatter",
         "x": [
          6,
          6,
          5,
          5
         ],
         "y": [
          1,
          0,
          1,
          0
         ]
        },
        {
         "marker": {
          "size": 25,
          "symbol": "square"
         },
         "mode": "markers",
         "type": "scatter",
         "x": [
          7,
          7,
          8,
          8
         ],
         "y": [
          0,
          1,
          0,
          1
         ]
        },
        {
         "marker": {
          "size": 25,
          "symbol": "square"
         },
         "mode": "markers",
         "type": "scatter",
         "x": [
          9,
          10,
          10,
          10
         ],
         "y": [
          1,
          1,
          2,
          0
         ]
        },
        {
         "marker": {
          "size": 25,
          "symbol": "square"
         },
         "mode": "markers",
         "type": "scatter",
         "x": [
          1,
          1,
          0,
          0
         ],
         "y": [
          3,
          2,
          3,
          2
         ]
        },
        {
         "marker": {
          "size": 25,
          "symbol": "square"
         },
         "mode": "markers",
         "type": "scatter",
         "x": [
          3,
          3,
          4,
          2
         ],
         "y": [
          3,
          2,
          2,
          2
         ]
        },
        {
         "marker": {
          "size": 25,
          "symbol": "square"
         },
         "mode": "markers",
         "type": "scatter",
         "x": [
          6,
          5,
          5,
          5
         ],
         "y": [
          3,
          3,
          2,
          4
         ]
        },
        {
         "marker": {
          "size": 25,
          "symbol": "square"
         },
         "mode": "markers",
         "type": "scatter",
         "x": [
          9,
          8,
          7,
          7
         ],
         "y": [
          2,
          2,
          2,
          3
         ]
        },
        {
         "marker": {
          "size": 25,
          "symbol": "square"
         },
         "mode": "markers",
         "type": "scatter",
         "x": [
          9,
          9,
          10,
          8
         ],
         "y": [
          4,
          3,
          3,
          3
         ]
        },
        {
         "marker": {
          "size": 25,
          "symbol": "square"
         },
         "mode": "markers",
         "type": "scatter",
         "x": [
          1,
          1,
          2,
          0
         ],
         "y": [
          5,
          4,
          4,
          5
         ]
        },
        {
         "marker": {
          "size": 25,
          "symbol": "square"
         },
         "mode": "markers",
         "type": "scatter",
         "x": [
          3,
          4,
          3,
          4
         ],
         "y": [
          5,
          5,
          4,
          4
         ]
        },
        {
         "marker": {
          "size": 25,
          "symbol": "square"
         },
         "mode": "markers",
         "type": "scatter",
         "x": [
          6,
          7,
          6,
          7
         ],
         "y": [
          5,
          5,
          4,
          4
         ]
        },
        {
         "marker": {
          "size": 25,
          "symbol": "square"
         },
         "mode": "markers",
         "type": "scatter",
         "x": [
          11,
          11,
          11,
          10
         ],
         "y": [
          6,
          5,
          4,
          4
         ]
        },
        {
         "marker": {
          "size": 25,
          "symbol": "square"
         },
         "mode": "markers",
         "type": "scatter",
         "x": [
          9,
          9,
          8,
          8
         ],
         "y": [
          6,
          5,
          6,
          5
         ]
        },
        {
         "marker": {
          "size": 25,
          "symbol": "square"
         },
         "mode": "markers",
         "type": "scatter",
         "x": [
          1,
          2,
          2,
          2
         ],
         "y": [
          6,
          6,
          7,
          5
         ]
        },
        {
         "marker": {
          "size": 25,
          "symbol": "square"
         },
         "mode": "markers",
         "type": "scatter",
         "x": [
          5,
          5,
          4,
          6
         ],
         "y": [
          5,
          6,
          6,
          6
         ]
        },
        {
         "marker": {
          "size": 25,
          "symbol": "square"
         },
         "mode": "markers",
         "type": "scatter",
         "x": [
          7,
          7,
          6,
          8
         ],
         "y": [
          6,
          7,
          7,
          7
         ]
        },
        {
         "marker": {
          "size": 25,
          "symbol": "square"
         },
         "mode": "markers",
         "type": "scatter",
         "x": [
          9,
          10,
          10,
          10
         ],
         "y": [
          7,
          7,
          8,
          6
         ]
        },
        {
         "marker": {
          "size": 25,
          "symbol": "square"
         },
         "mode": "markers",
         "type": "scatter",
         "x": [
          0,
          1,
          1,
          1
         ],
         "y": [
          8,
          8,
          9,
          7
         ]
        },
        {
         "marker": {
          "size": 25,
          "symbol": "square"
         },
         "mode": "markers",
         "type": "scatter",
         "x": [
          4,
          3,
          3,
          4
         ],
         "y": [
          7,
          7,
          6,
          8
         ]
        },
        {
         "marker": {
          "size": 25,
          "symbol": "square"
         },
         "mode": "markers",
         "type": "scatter",
         "x": [
          5,
          6,
          7,
          7
         ],
         "y": [
          8,
          8,
          8,
          9
         ]
        },
        {
         "marker": {
          "size": 25,
          "symbol": "square"
         },
         "mode": "markers",
         "type": "scatter",
         "x": [
          3,
          3,
          3,
          2
         ],
         "y": [
          10,
          9,
          8,
          8
         ]
        },
        {
         "marker": {
          "size": 25,
          "symbol": "square"
         },
         "mode": "markers",
         "type": "scatter",
         "x": [
          9,
          9,
          8,
          10
         ],
         "y": [
          9,
          8,
          8,
          9
         ]
        },
        {
         "marker": {
          "size": 25,
          "symbol": "square"
         },
         "mode": "markers",
         "type": "scatter",
         "x": [
          11,
          11,
          11,
          11
         ],
         "y": [
          0,
          1,
          2,
          3
         ]
        },
        {
         "marker": {
          "size": 25,
          "symbol": "square"
         },
         "mode": "markers",
         "type": "scatter",
         "x": [
          4,
          5,
          6,
          7
         ],
         "y": [
          10,
          10,
          10,
          10
         ]
        },
        {
         "marker": {
          "size": 25,
          "symbol": "square"
         },
         "mode": "markers",
         "type": "scatter",
         "x": [
          0,
          0,
          0,
          1
         ],
         "y": [
          9,
          10,
          11,
          11
         ]
        },
        {
         "marker": {
          "size": 25,
          "symbol": "square"
         },
         "mode": "markers",
         "type": "scatter",
         "x": [
          11,
          11,
          11,
          11
         ],
         "y": [
          7,
          8,
          9,
          10
         ]
        },
        {
         "marker": {
          "size": 25,
          "symbol": "square"
         },
         "mode": "markers",
         "type": "scatter",
         "x": [
          9,
          8,
          8,
          8
         ],
         "y": [
          10,
          10,
          9,
          11
         ]
        },
        {
         "marker": {
          "size": 25,
          "symbol": "square"
         },
         "mode": "markers",
         "type": "scatter",
         "x": [
          1,
          2,
          2,
          2
         ],
         "y": [
          10,
          10,
          11,
          9
         ]
        },
        {
         "marker": {
          "size": 25,
          "symbol": "square"
         },
         "mode": "markers",
         "type": "scatter",
         "x": [
          3,
          4,
          5,
          6
         ],
         "y": [
          11,
          11,
          11,
          11
         ]
        },
        {
         "marker": {
          "size": 25,
          "symbol": "square"
         },
         "mode": "markers",
         "type": "scatter",
         "x": [
          10,
          10,
          9,
          11
         ],
         "y": [
          10,
          11,
          11,
          11
         ]
        }
       ],
       "layout": {
        "height": 800,
        "margin": {
         "b": 0,
         "l": 0,
         "r": 0,
         "t": 80
        },
        "showlegend": false,
        "template": {
         "data": {
          "bar": [
           {
            "error_x": {
             "color": "#2a3f5f"
            },
            "error_y": {
             "color": "#2a3f5f"
            },
            "marker": {
             "line": {
              "color": "#E5ECF6",
              "width": 0.5
             }
            },
            "type": "bar"
           }
          ],
          "barpolar": [
           {
            "marker": {
             "line": {
              "color": "#E5ECF6",
              "width": 0.5
             }
            },
            "type": "barpolar"
           }
          ],
          "carpet": [
           {
            "aaxis": {
             "endlinecolor": "#2a3f5f",
             "gridcolor": "white",
             "linecolor": "white",
             "minorgridcolor": "white",
             "startlinecolor": "#2a3f5f"
            },
            "baxis": {
             "endlinecolor": "#2a3f5f",
             "gridcolor": "white",
             "linecolor": "white",
             "minorgridcolor": "white",
             "startlinecolor": "#2a3f5f"
            },
            "type": "carpet"
           }
          ],
          "choropleth": [
           {
            "colorbar": {
             "outlinewidth": 0,
             "ticks": ""
            },
            "type": "choropleth"
           }
          ],
          "contour": [
           {
            "colorbar": {
             "outlinewidth": 0,
             "ticks": ""
            },
            "colorscale": [
             [
              0,
              "#0d0887"
             ],
             [
              0.1111111111111111,
              "#46039f"
             ],
             [
              0.2222222222222222,
              "#7201a8"
             ],
             [
              0.3333333333333333,
              "#9c179e"
             ],
             [
              0.4444444444444444,
              "#bd3786"
             ],
             [
              0.5555555555555556,
              "#d8576b"
             ],
             [
              0.6666666666666666,
              "#ed7953"
             ],
             [
              0.7777777777777778,
              "#fb9f3a"
             ],
             [
              0.8888888888888888,
              "#fdca26"
             ],
             [
              1,
              "#f0f921"
             ]
            ],
            "type": "contour"
           }
          ],
          "contourcarpet": [
           {
            "colorbar": {
             "outlinewidth": 0,
             "ticks": ""
            },
            "type": "contourcarpet"
           }
          ],
          "heatmap": [
           {
            "colorbar": {
             "outlinewidth": 0,
             "ticks": ""
            },
            "colorscale": [
             [
              0,
              "#0d0887"
             ],
             [
              0.1111111111111111,
              "#46039f"
             ],
             [
              0.2222222222222222,
              "#7201a8"
             ],
             [
              0.3333333333333333,
              "#9c179e"
             ],
             [
              0.4444444444444444,
              "#bd3786"
             ],
             [
              0.5555555555555556,
              "#d8576b"
             ],
             [
              0.6666666666666666,
              "#ed7953"
             ],
             [
              0.7777777777777778,
              "#fb9f3a"
             ],
             [
              0.8888888888888888,
              "#fdca26"
             ],
             [
              1,
              "#f0f921"
             ]
            ],
            "type": "heatmap"
           }
          ],
          "heatmapgl": [
           {
            "colorbar": {
             "outlinewidth": 0,
             "ticks": ""
            },
            "colorscale": [
             [
              0,
              "#0d0887"
             ],
             [
              0.1111111111111111,
              "#46039f"
             ],
             [
              0.2222222222222222,
              "#7201a8"
             ],
             [
              0.3333333333333333,
              "#9c179e"
             ],
             [
              0.4444444444444444,
              "#bd3786"
             ],
             [
              0.5555555555555556,
              "#d8576b"
             ],
             [
              0.6666666666666666,
              "#ed7953"
             ],
             [
              0.7777777777777778,
              "#fb9f3a"
             ],
             [
              0.8888888888888888,
              "#fdca26"
             ],
             [
              1,
              "#f0f921"
             ]
            ],
            "type": "heatmapgl"
           }
          ],
          "histogram": [
           {
            "marker": {
             "colorbar": {
              "outlinewidth": 0,
              "ticks": ""
             }
            },
            "type": "histogram"
           }
          ],
          "histogram2d": [
           {
            "colorbar": {
             "outlinewidth": 0,
             "ticks": ""
            },
            "colorscale": [
             [
              0,
              "#0d0887"
             ],
             [
              0.1111111111111111,
              "#46039f"
             ],
             [
              0.2222222222222222,
              "#7201a8"
             ],
             [
              0.3333333333333333,
              "#9c179e"
             ],
             [
              0.4444444444444444,
              "#bd3786"
             ],
             [
              0.5555555555555556,
              "#d8576b"
             ],
             [
              0.6666666666666666,
              "#ed7953"
             ],
             [
              0.7777777777777778,
              "#fb9f3a"
             ],
             [
              0.8888888888888888,
              "#fdca26"
             ],
             [
              1,
              "#f0f921"
             ]
            ],
            "type": "histogram2d"
           }
          ],
          "histogram2dcontour": [
           {
            "colorbar": {
             "outlinewidth": 0,
             "ticks": ""
            },
            "colorscale": [
             [
              0,
              "#0d0887"
             ],
             [
              0.1111111111111111,
              "#46039f"
             ],
             [
              0.2222222222222222,
              "#7201a8"
             ],
             [
              0.3333333333333333,
              "#9c179e"
             ],
             [
              0.4444444444444444,
              "#bd3786"
             ],
             [
              0.5555555555555556,
              "#d8576b"
             ],
             [
              0.6666666666666666,
              "#ed7953"
             ],
             [
              0.7777777777777778,
              "#fb9f3a"
             ],
             [
              0.8888888888888888,
              "#fdca26"
             ],
             [
              1,
              "#f0f921"
             ]
            ],
            "type": "histogram2dcontour"
           }
          ],
          "mesh3d": [
           {
            "colorbar": {
             "outlinewidth": 0,
             "ticks": ""
            },
            "type": "mesh3d"
           }
          ],
          "parcoords": [
           {
            "line": {
             "colorbar": {
              "outlinewidth": 0,
              "ticks": ""
             }
            },
            "type": "parcoords"
           }
          ],
          "pie": [
           {
            "automargin": true,
            "type": "pie"
           }
          ],
          "scatter": [
           {
            "marker": {
             "colorbar": {
              "outlinewidth": 0,
              "ticks": ""
             }
            },
            "type": "scatter"
           }
          ],
          "scatter3d": [
           {
            "line": {
             "colorbar": {
              "outlinewidth": 0,
              "ticks": ""
             }
            },
            "marker": {
             "colorbar": {
              "outlinewidth": 0,
              "ticks": ""
             }
            },
            "type": "scatter3d"
           }
          ],
          "scattercarpet": [
           {
            "marker": {
             "colorbar": {
              "outlinewidth": 0,
              "ticks": ""
             }
            },
            "type": "scattercarpet"
           }
          ],
          "scattergeo": [
           {
            "marker": {
             "colorbar": {
              "outlinewidth": 0,
              "ticks": ""
             }
            },
            "type": "scattergeo"
           }
          ],
          "scattergl": [
           {
            "marker": {
             "colorbar": {
              "outlinewidth": 0,
              "ticks": ""
             }
            },
            "type": "scattergl"
           }
          ],
          "scattermapbox": [
           {
            "marker": {
             "colorbar": {
              "outlinewidth": 0,
              "ticks": ""
             }
            },
            "type": "scattermapbox"
           }
          ],
          "scatterpolar": [
           {
            "marker": {
             "colorbar": {
              "outlinewidth": 0,
              "ticks": ""
             }
            },
            "type": "scatterpolar"
           }
          ],
          "scatterpolargl": [
           {
            "marker": {
             "colorbar": {
              "outlinewidth": 0,
              "ticks": ""
             }
            },
            "type": "scatterpolargl"
           }
          ],
          "scatterternary": [
           {
            "marker": {
             "colorbar": {
              "outlinewidth": 0,
              "ticks": ""
             }
            },
            "type": "scatterternary"
           }
          ],
          "surface": [
           {
            "colorbar": {
             "outlinewidth": 0,
             "ticks": ""
            },
            "colorscale": [
             [
              0,
              "#0d0887"
             ],
             [
              0.1111111111111111,
              "#46039f"
             ],
             [
              0.2222222222222222,
              "#7201a8"
             ],
             [
              0.3333333333333333,
              "#9c179e"
             ],
             [
              0.4444444444444444,
              "#bd3786"
             ],
             [
              0.5555555555555556,
              "#d8576b"
             ],
             [
              0.6666666666666666,
              "#ed7953"
             ],
             [
              0.7777777777777778,
              "#fb9f3a"
             ],
             [
              0.8888888888888888,
              "#fdca26"
             ],
             [
              1,
              "#f0f921"
             ]
            ],
            "type": "surface"
           }
          ],
          "table": [
           {
            "cells": {
             "fill": {
              "color": "#EBF0F8"
             },
             "line": {
              "color": "white"
             }
            },
            "header": {
             "fill": {
              "color": "#C8D4E3"
             },
             "line": {
              "color": "white"
             }
            },
            "type": "table"
           }
          ]
         },
         "layout": {
          "annotationdefaults": {
           "arrowcolor": "#2a3f5f",
           "arrowhead": 0,
           "arrowwidth": 1
          },
          "autotypenumbers": "strict",
          "coloraxis": {
           "colorbar": {
            "outlinewidth": 0,
            "ticks": ""
           }
          },
          "colorscale": {
           "diverging": [
            [
             0,
             "#8e0152"
            ],
            [
             0.1,
             "#c51b7d"
            ],
            [
             0.2,
             "#de77ae"
            ],
            [
             0.3,
             "#f1b6da"
            ],
            [
             0.4,
             "#fde0ef"
            ],
            [
             0.5,
             "#f7f7f7"
            ],
            [
             0.6,
             "#e6f5d0"
            ],
            [
             0.7,
             "#b8e186"
            ],
            [
             0.8,
             "#7fbc41"
            ],
            [
             0.9,
             "#4d9221"
            ],
            [
             1,
             "#276419"
            ]
           ],
           "sequential": [
            [
             0,
             "#0d0887"
            ],
            [
             0.1111111111111111,
             "#46039f"
            ],
            [
             0.2222222222222222,
             "#7201a8"
            ],
            [
             0.3333333333333333,
             "#9c179e"
            ],
            [
             0.4444444444444444,
             "#bd3786"
            ],
            [
             0.5555555555555556,
             "#d8576b"
            ],
            [
             0.6666666666666666,
             "#ed7953"
            ],
            [
             0.7777777777777778,
             "#fb9f3a"
            ],
            [
             0.8888888888888888,
             "#fdca26"
            ],
            [
             1,
             "#f0f921"
            ]
           ],
           "sequentialminus": [
            [
             0,
             "#0d0887"
            ],
            [
             0.1111111111111111,
             "#46039f"
            ],
            [
             0.2222222222222222,
             "#7201a8"
            ],
            [
             0.3333333333333333,
             "#9c179e"
            ],
            [
             0.4444444444444444,
             "#bd3786"
            ],
            [
             0.5555555555555556,
             "#d8576b"
            ],
            [
             0.6666666666666666,
             "#ed7953"
            ],
            [
             0.7777777777777778,
             "#fb9f3a"
            ],
            [
             0.8888888888888888,
             "#fdca26"
            ],
            [
             1,
             "#f0f921"
            ]
           ]
          },
          "colorway": [
           "#636efa",
           "#EF553B",
           "#00cc96",
           "#ab63fa",
           "#FFA15A",
           "#19d3f3",
           "#FF6692",
           "#B6E880",
           "#FF97FF",
           "#FECB52"
          ],
          "font": {
           "color": "#2a3f5f"
          },
          "geo": {
           "bgcolor": "white",
           "lakecolor": "white",
           "landcolor": "#E5ECF6",
           "showlakes": true,
           "showland": true,
           "subunitcolor": "white"
          },
          "hoverlabel": {
           "align": "left"
          },
          "hovermode": "closest",
          "mapbox": {
           "style": "light"
          },
          "paper_bgcolor": "white",
          "plot_bgcolor": "#E5ECF6",
          "polar": {
           "angularaxis": {
            "gridcolor": "white",
            "linecolor": "white",
            "ticks": ""
           },
           "bgcolor": "#E5ECF6",
           "radialaxis": {
            "gridcolor": "white",
            "linecolor": "white",
            "ticks": ""
           }
          },
          "scene": {
           "xaxis": {
            "backgroundcolor": "#E5ECF6",
            "gridcolor": "white",
            "gridwidth": 2,
            "linecolor": "white",
            "showbackground": true,
            "ticks": "",
            "zerolinecolor": "white"
           },
           "yaxis": {
            "backgroundcolor": "#E5ECF6",
            "gridcolor": "white",
            "gridwidth": 2,
            "linecolor": "white",
            "showbackground": true,
            "ticks": "",
            "zerolinecolor": "white"
           },
           "zaxis": {
            "backgroundcolor": "#E5ECF6",
            "gridcolor": "white",
            "gridwidth": 2,
            "linecolor": "white",
            "showbackground": true,
            "ticks": "",
            "zerolinecolor": "white"
           }
          },
          "shapedefaults": {
           "line": {
            "color": "#2a3f5f"
           }
          },
          "ternary": {
           "aaxis": {
            "gridcolor": "white",
            "linecolor": "white",
            "ticks": ""
           },
           "baxis": {
            "gridcolor": "white",
            "linecolor": "white",
            "ticks": ""
           },
           "bgcolor": "#E5ECF6",
           "caxis": {
            "gridcolor": "white",
            "linecolor": "white",
            "ticks": ""
           }
          },
          "title": {
           "x": 0.05
          },
          "xaxis": {
           "automargin": true,
           "gridcolor": "white",
           "linecolor": "white",
           "ticks": "",
           "title": {
            "standoff": 15
           },
           "zerolinecolor": "white",
           "zerolinewidth": 2
          },
          "yaxis": {
           "automargin": true,
           "gridcolor": "white",
           "linecolor": "white",
           "ticks": "",
           "title": {
            "standoff": 15
           },
           "zerolinecolor": "white",
           "zerolinewidth": 2
          }
         }
        },
        "title": {
         "text": "<b>Fitness:</b> 10922/14400<br><b>Pieces used:</b> 32/36"
        },
        "width": 800,
        "xaxis": {
         "fixedrange": true,
         "range": [
          -0.5,
          11.5
         ],
         "showticklabels": false
        },
        "yaxis": {
         "range": [
          11.5,
          -0.5
         ],
         "showticklabels": false,
         "tickfont": {
          "size": 12
         }
        }
       }
      }
     },
     "metadata": {},
     "output_type": "display_data"
    }
   ],
   "source": [
    "# The first element of those lists will be as good as any other element.\n",
    "for k, v in best_individuals.items():\n",
    "    for i in v:\n",
    "        if i.fitness == best_fitness:\n",
    "            best_ind = i\n",
    "            break\n",
    "        \n",
    "grid, pieces_coordinates = tetrimino_fitter(best_ind.representation, grid_shape)\n",
    "\n",
    "plot_grid(\n",
    "    ind_fitness=best_ind.fitness,\n",
    "    grid=grid,\n",
    "    pieces_coordinates=pieces_coordinates,\n",
    "    save_html_name= None,\n",
    "    # save_png_name= f\"graphs/best_rep_{time.time()}\",\n",
    "    marker_size= 25,\n",
    "    width= 800,\n",
    "    height= 800\n",
    ")"
   ]
  },
  {
   "cell_type": "markdown",
   "id": "9e118362",
   "metadata": {},
   "source": [
    "---\n",
    "#### Information Logging"
   ]
  },
  {
   "cell_type": "code",
   "execution_count": 199,
   "id": "8f5e67a4",
   "metadata": {},
   "outputs": [],
   "source": [
    "# Cell for logging all the information.\n",
    "filename = f\"configs/parameters_{timestamp}.txt\"\n",
    "file1 = open(filename,\"a+\")\n",
    "\n",
    "toFile = \"grid_shape = \" + str(grid_shape) + \"\\n\"\n",
    "toFile += \"pieces_list = \" + str(pieces_list) + \"\\n\\n\"\n",
    "toFile += \"Universal Parameters\\n\" + \"pop_size: \" + str(pop_size) + \"\\n\"\n",
    "toFile += \"n_elites: \" + str(n_elites) + \"\\n\" + \"iterations: \" + str(iterations) + \"\\n\"\n",
    "toFile += \"generations: \" + str(generations) + \"\\n\"\n",
    "toFile += \"\\nConfig Parameters:\\n\"\n",
    "\n",
    "for GA_config in GA_configs_list:\n",
    "    toFile+= \"Name: \" + str(GA_config[\"name\"]) + \"\\n{\"\n",
    "    for param in GA_config[\"params\"].keys():\n",
    "        toFile += str(param) + \": \" + str(GA_config[\"params\"][param]) + \", \"\n",
    "    toFile += \"}\\n\\n\"\n",
    "\n",
    "file1.write(toFile)\n",
    "file1.close()"
   ]
  },
  {
   "cell_type": "code",
   "execution_count": 201,
   "id": "b6f2d390",
   "metadata": {},
   "outputs": [],
   "source": [
    "# Cell for logging the SR information.\n",
    "filename = f\"configs/SR_ratio_{timestamp}.txt\"\n",
    "file2 = open(filename,\"a+\")\n",
    "\n",
    "toFile = \"SR Ratio Results\\n\\n\"\n",
    "toFile+= f\"The max possible fitness was {max_fitness}.\\nThe best fitness achieved was {best_fitness}.\\n\"\n",
    "toFile+= f\"Total runs: {iterations}\\nRatio of Successful Runs / Performed Runs:\\n\"\n",
    "toFile+= np.round(best_ind_df[best_ind_df_fit==max_fitness].count()/iterations,2).to_string()\n",
    "\n",
    "if max_fitness != best_fitness:\n",
    "    toFile += \"\\nMax fitness not achieved. Using the same ratio for best fitness.\\n\"\n",
    "    toFile += np.round(best_ind_df[best_ind_df_fit==best_fitness].count()/iterations,2).to_string()\n",
    "\n",
    "toFile += f\"\\nOne representative individual of best fitness is: {best_ind.representation}, with {best_ind.fitness} fitness.\"\n",
    "\n",
    "file2.write(toFile)\n",
    "file2.close()"
   ]
  },
  {
   "cell_type": "code",
   "execution_count": 17,
   "id": "a1293b71",
   "metadata": {},
   "outputs": [],
   "source": [
    "# After it is done, please move all files from 0 directory, as well as the plotly graphs from graphs folder."
   ]
  }
 ],
 "metadata": {
  "interpreter": {
   "hash": "2c4f2e9e15b567a0842db5150f86c99ceb8bc3e0d4f7509559569966cbc05143"
  },
  "kernelspec": {
   "display_name": "Python 3",
   "language": "python",
   "name": "python3"
  },
  "language_info": {
   "codemirror_mode": {
    "name": "ipython",
    "version": 3
   },
   "file_extension": ".py",
   "mimetype": "text/x-python",
   "name": "python",
   "nbconvert_exporter": "python",
   "pygments_lexer": "ipython3",
   "version": "3.8.8"
  }
 },
 "nbformat": 4,
 "nbformat_minor": 5
}
