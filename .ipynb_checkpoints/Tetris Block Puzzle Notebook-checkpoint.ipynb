{
 "cells": [
  {
   "cell_type": "markdown",
   "id": "365c4e17",
   "metadata": {},
   "source": [
    "### CIFO Tetris Block Puzzle\n",
    "\n",
    "Notebook for the development of a working tetris block puzzle representation. The output should be a function or a library that is able to produce pieces, grids, whatever."
   ]
  },
  {
   "cell_type": "markdown",
   "id": "11eb3bc1",
   "metadata": {},
   "source": [
    "Fred and I developed a conceptual construction for the problem.\n",
    "First we need a programatical way to represent a solution in the grid.\n",
    "For that, we can define a list with strings containing two elements:\n",
    "\n",
    "Individual: `[<Letter><Number>]`, \n",
    "where letter represents the piece, and the number represents one of the possible 4 rotations of the piece. \n",
    "\n",
    "Given any of these elements, a 2d array representation of it can be built. For example, a square block would occupy the four coordinates `(i,j),(i+1,j),(i,j+1), and (i+1,j+1)`. \n",
    "\n",
    "\"But how do we know what i and j will be?\" This is answered by our proposed approach to filling the grid.\n",
    "Given the specified configuration for each combination of `<Letter><Number>`, the approach is for the program to take each element of the string sequentially, and place it according to its defined configuration in the first available space in the grid for it. \n",
    "\n",
    "Consider an array representation of such a grid, where 0s represent empty spots, and 1 occupied spots. \n",
    "The program will look for the first instance of a configuration of zeroes that can match the shape, and place them there. For the square example above, the program looks for the first zero in the grid, found at (0,0). This will be the i,j for the square. It then searches the given spots, checking for zeroes. If the shape can be placed, then the 0s become ones and the program moves to the next piece. If no configuration of matching 0s can be found, the program skips the piece, until it reaches the end of the individual string.\n",
    "\n",
    "A visualization of this algorithm can be found below:\n",
    "<br>\n",
    "<img src=\"Image1.png\" width=\"550\" title=\"Freds Guide to Teris Block Puzzle Program, Life, and everything\">\n",
    "\n"
   ]
  },
  {
   "cell_type": "code",
   "execution_count": 2,
   "id": "5292fd4a",
   "metadata": {},
   "outputs": [],
   "source": [
    "# Imports.\n",
    "import numpy as np"
   ]
  },
  {
   "cell_type": "code",
   "execution_count": 3,
   "id": "f062dd5e",
   "metadata": {},
   "outputs": [],
   "source": [
    "## Let's begin.\n",
    "\n",
    "# Dict of pieces and the coordinates that they will encode.\n",
    "# A piece will be composed by a number of squares, denoted by that same number of vectors that represents the coordinates of squares \n",
    "# that the piece occupies relative to its first square. \n",
    "# e.g. an I piece will occupy four rows of the same column in a matrix.\n",
    "\n",
    "t_dict = {\n",
    "    \"I\" : [(0,0),(1,0),(2,0),(3,0)],\n",
    "    \"L\" : [(0,0),(1,0),(2,0),(2,1)]\n",
    "    \n",
    "}\n"
   ]
  },
  {
   "cell_type": "code",
   "execution_count": 46,
   "id": "e7d5d5ed",
   "metadata": {},
   "outputs": [],
   "source": [
    "# Here is the function that will do all the work.\n",
    "\n",
    "def tetrimino_fitter(piece_rotation=\"I1\",shape=(4,5)):\n",
    "    \"\"\"\n",
    "    Piece is the code for the piece to try to fit.\n",
    "    Rotation is an integer representing one of four possible rotations for the piece.\n",
    "    Size is the size of the grid, given as a tuple.\n",
    "    \"\"\"\n",
    "    # Transform the corresponding piece into its matrix representation.\n",
    "    configuration = t_dict[piece_rotation[0]]\n",
    "    # Consider rotation and how that impacts the piece, and apply the corresponding transformation here.\n",
    "    ## CODE\n",
    "        \n",
    "    # Initialize the grid.\n",
    "    m = np.zeros(size)\n",
    "    \n",
    "    # Identify spots that can be filled. \n",
    "    \n",
    "    free_space_array = np.column_stack(np.where(m==0)) # this can be used to find the coordinates of all the zeroes, and have them stored.\n",
    "\n",
    "    for coord in free_space_array:\n",
    "        fit_array = []\n",
    "        print(\"First zero in sequence found at {}\".format(tuple(coord)))\n",
    "\n",
    "        for t in configuration:\n",
    "            break_flag = False\n",
    "            c = tuple(np.add(tuple(coord),t))\n",
    "            if m[c]==0:\n",
    "                print(\"Empty space at coordinates {}\".format(c))\n",
    "                fit_array.append(c)\n",
    "                continue # If the space is open, check the others. Else, break that loop and check for the next zero.\n",
    "            else:\n",
    "                break_flag = True\n",
    "                print(\"No next zeroes in the sequence, to the next one\")\n",
    "                break\n",
    "        if break_flag == False: ## if the for loop ended by finding all the zeroes, then the piece can fit.\n",
    "            print(fit_array)\n",
    "            for _ in fit_array:\n",
    "                m[_] = 1 # These spots are now occupied\n",
    "            break # from the other loop\n",
    "        else:\n",
    "            continue # If the configuration isn't valid, go into the next zero found.\n",
    "\n",
    "    \n",
    "    \n",
    "    return m"
   ]
  },
  {
   "cell_type": "code",
   "execution_count": 47,
   "id": "26297ee0",
   "metadata": {},
   "outputs": [
    {
     "name": "stdout",
     "output_type": "stream",
     "text": [
      "First zero in sequence found at (0, 0)\n",
      "Empty space at coordinates (0, 0)\n",
      "Empty space at coordinates (1, 0)\n",
      "Empty space at coordinates (2, 0)\n",
      "Empty space at coordinates (3, 0)\n",
      "[(0, 0), (1, 0), (2, 0), (3, 0)]\n"
     ]
    },
    {
     "data": {
      "text/plain": [
       "array([[1., 0., 0., 0.],\n",
       "       [1., 0., 0., 0.],\n",
       "       [1., 0., 0., 0.],\n",
       "       [1., 0., 0., 0.]])"
      ]
     },
     "execution_count": 47,
     "metadata": {},
     "output_type": "execute_result"
    }
   ],
   "source": [
    "tetrimino_fitter()"
   ]
  },
  {
   "cell_type": "code",
   "execution_count": null,
   "id": "068bc6c7",
   "metadata": {
    "tags": []
   },
   "outputs": [],
   "source": [
    "# Visual Output for a Grid, and pieces that fill it."
   ]
  },
  {
   "cell_type": "code",
   "execution_count": null,
   "id": "4608f91c",
   "metadata": {},
   "outputs": [],
   "source": []
  },
  {
   "cell_type": "code",
   "execution_count": 45,
   "id": "afa951ee",
   "metadata": {
    "collapsed": true,
    "jupyter": {
     "outputs_hidden": true,
     "source_hidden": true
    },
    "tags": []
   },
   "outputs": [
    {
     "name": "stdout",
     "output_type": "stream",
     "text": [
      "[[0 0 0 0]\n",
      " [0 1 1 1]\n",
      " [0 0 0 0]\n",
      " [0 1 1 1]]\n",
      "First zero in sequence found at (0, 0)\n",
      "Empty space at coordinates (0, 0)\n",
      "Empty space at coordinates (1, 0)\n",
      "Empty space at coordinates (2, 0)\n",
      "Empty space at coordinates (2, 1)\n",
      "[(0, 0), (1, 0), (2, 0), (2, 1)]\n",
      "[[1 0 0 0]\n",
      " [1 1 1 1]\n",
      " [1 1 0 0]\n",
      " [0 1 1 1]]\n"
     ]
    }
   ],
   "source": [
    "## tiago is working on this cell and coming up with really weird ideas to try out\n",
    "## (he-s really going into numpy.)\n",
    "## You can safely ignore this cell as it's just a lot of tests being done.\n",
    "\n",
    "# Initialize the grid.\n",
    "size = (4,4)\n",
    "m = np.array([0,0,0,0,0,1,1,1,0,0,0,0,0,1,1,1]).reshape((4,4))\n",
    "\n",
    "# Identify spots that can be filled. \n",
    "\n",
    "# Verifies if a configuration of empty spaces for the piece exists.\n",
    "# if 1 in [m[tuple(np.add((0,0),coord))] for coord in t_dict[\"L\"]]\n",
    "print(m)\n",
    "free_space_array = np.column_stack(np.where(m==0)) # this can be used to find the coordinates of all the zeroes, and have them stored.\n",
    "\n",
    "for coord in free_space_array:\n",
    "    fit_array = []\n",
    "    print(\"First zero in sequence found at {}\".format(tuple(coord)))\n",
    "    \n",
    "    for t in t_dict[\"L\"]:\n",
    "        break_flag = False\n",
    "        c = tuple(np.add(tuple(coord),t))\n",
    "        if m[c]==0:\n",
    "            print(\"Empty space at coordinates {}\".format(c))\n",
    "            fit_array.append(c)\n",
    "            continue # If the space is open, check the others. Else, break that loop and check for the next zero.\n",
    "        else:\n",
    "            break_flag = True\n",
    "            print(\"No next zeroes in the sequence, to the next one\")\n",
    "            break\n",
    "    if break_flag == False: ## if the for loop ended by finding all the zeroes, then the piece can fit.\n",
    "        print(fit_array)\n",
    "        for _ in fit_array:\n",
    "            m[_] = 1 # These spots are now occupied\n",
    "        break # from the other loop\n",
    "    else:\n",
    "        continue # If the configuration isn't valid, go into the next zero found.\n",
    "\n",
    "print(m)\n",
    "    \n",
    "        \n",
    "# No matter what I magic up, I can't seem to find a way to find out the correct configuration of space in the grid without doing a sequential search method."
   ]
  }
 ],
 "metadata": {
  "kernelspec": {
   "display_name": "Python 3",
   "language": "python",
   "name": "python3"
  },
  "language_info": {
   "codemirror_mode": {
    "name": "ipython",
    "version": 3
   },
   "file_extension": ".py",
   "mimetype": "text/x-python",
   "name": "python",
   "nbconvert_exporter": "python",
   "pygments_lexer": "ipython3",
   "version": "3.8.8"
  }
 },
 "nbformat": 4,
 "nbformat_minor": 5
}
