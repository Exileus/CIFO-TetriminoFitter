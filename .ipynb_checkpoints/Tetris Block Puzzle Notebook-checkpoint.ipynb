{
 "cells": [
  {
   "cell_type": "markdown",
   "id": "cd6a13f0",
   "metadata": {},
   "source": [
    "### CIFO Tetris Block Puzzle\n",
    "\n",
    "Notebook for the development of a working tetris block puzzle representation. The output should be a function or a library that is able to produce pieces, grids, whatever."
   ]
  },
  {
   "cell_type": "markdown",
   "id": "ae840ebb",
   "metadata": {},
   "source": [
    "Fred and I developed a conceptual construction for the problem.\n",
    "First we need a programatical way to represent a solution in the grid.\n",
    "For that, we can define a list with strings containing two elements:\n",
    "\n",
    "Individual: `[<Letter><Number>]`, \n",
    "where letter represents the piece, and the number represents one of the possible 4 rotations of the piece. \n",
    "\n",
    "Given any of these elements, a 2d array representation of it can be built. For example, a square block would occupy the four coordinates `(i,j),(i+1,j),(i,j+1), and (i+1,j+1)`. \n",
    "\n",
    "\"But how do we know what i and j will be?\" This is answered by our proposed approach to filling the grid.\n",
    "Given the specified configuration for each combination of `<Letter><Number>`, the approach is for the program to take each element of the string sequentially, and place it according to its defined configuration in the first available space in the grid for it. \n",
    "\n",
    "Consider an array representation of such a grid, where 0s represent empty spots, and 1 occupied spots. \n",
    "The program will look for the first instance of a configuration of zeroes that can match the shape, and place them there. For the square example above, the program looks for the first zero in the grid, found at (0,0). This will be the i,j for the square. It then searches the given spots, checking for zeroes. If the shape can be placed, then the 0s become ones and the program moves to the next piece. If no configuration of matching 0s can be found, the program skips the piece, until it reaches the end of the individual string.\n",
    "\n",
    "A visualization of this algorithm can be found below:\n",
    "<br>\n",
    "<img src=\"Image1.png\" width=\"550\" title=\"Freds Guide to Teris Block Puzzle Program, Life, and everything\">\n",
    "\n"
   ]
  },
  {
   "cell_type": "code",
   "execution_count": null,
   "id": "97e6fc34",
   "metadata": {},
   "outputs": [],
   "source": []
  }
 ],
 "metadata": {
  "kernelspec": {
   "display_name": "Python 3",
   "language": "python",
   "name": "python3"
  },
  "language_info": {
   "codemirror_mode": {
    "name": "ipython",
    "version": 3
   },
   "file_extension": ".py",
   "mimetype": "text/x-python",
   "name": "python",
   "nbconvert_exporter": "python",
   "pygments_lexer": "ipython3",
   "version": "3.8.8"
  }
 },
 "nbformat": 4,
 "nbformat_minor": 5
}
