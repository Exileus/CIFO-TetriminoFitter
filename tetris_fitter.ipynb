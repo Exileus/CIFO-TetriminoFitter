{
 "cells": [
  {
   "cell_type": "code",
   "execution_count": 1,
   "metadata": {},
   "outputs": [],
   "source": [
    "import numpy as np\n",
    "import plotly.graph_objects as go\n",
    "import plotly.express as px\n",
    "from main import *\n",
    "import random\n",
    "from library.hill_climbing.hc import hill_climb\n",
    "from library.simulated_annealing.sa import simulated_annealing"
   ]
  },
  {
   "cell_type": "code",
   "execution_count": 2,
   "metadata": {},
   "outputs": [],
   "source": [
    "grid = np.zeros((10,10))\n",
    "pieces = pieces_generator((10,10))\n",
    "grid, pieces_coordinates = tetrimino_fitter(pieces, (5,5))"
   ]
  },
  {
   "cell_type": "code",
   "execution_count": 3,
   "metadata": {},
   "outputs": [
    {
     "data": {
      "application/vnd.plotly.v1+json": {
       "config": {
        "plotlyServerURL": "https://plot.ly"
       },
       "data": [
        {
         "marker": {
          "size": 50,
          "symbol": "square"
         },
         "mode": "markers",
         "type": "scatter",
         "x": [
          0,
          1,
          0,
          1
         ],
         "y": [
          0,
          0,
          1,
          1
         ]
        },
        {
         "marker": {
          "size": 50,
          "symbol": "square"
         },
         "mode": "markers",
         "type": "scatter",
         "x": [
          2,
          2,
          2,
          2
         ],
         "y": [
          3,
          2,
          1,
          0
         ]
        },
        {
         "marker": {
          "size": 50,
          "symbol": "square"
         },
         "mode": "markers",
         "type": "scatter",
         "x": [
          1,
          1,
          0,
          0
         ],
         "y": [
          2,
          3,
          2,
          3
         ]
        },
        {
         "marker": {
          "size": 50,
          "symbol": "square"
         },
         "mode": "markers",
         "type": "scatter",
         "x": [
          3,
          3,
          2,
          4
         ],
         "y": [
          3,
          4,
          4,
          3
         ]
        },
        {
         "marker": {
          "size": 50,
          "symbol": "square"
         },
         "mode": "markers",
         "type": "scatter",
         "x": [
          3,
          4,
          3,
          4
         ],
         "y": [
          0,
          0,
          1,
          1
         ]
        }
       ],
       "layout": {
        "height": 800,
        "template": {
         "data": {
          "bar": [
           {
            "error_x": {
             "color": "#2a3f5f"
            },
            "error_y": {
             "color": "#2a3f5f"
            },
            "marker": {
             "line": {
              "color": "#E5ECF6",
              "width": 0.5
             }
            },
            "type": "bar"
           }
          ],
          "barpolar": [
           {
            "marker": {
             "line": {
              "color": "#E5ECF6",
              "width": 0.5
             }
            },
            "type": "barpolar"
           }
          ],
          "carpet": [
           {
            "aaxis": {
             "endlinecolor": "#2a3f5f",
             "gridcolor": "white",
             "linecolor": "white",
             "minorgridcolor": "white",
             "startlinecolor": "#2a3f5f"
            },
            "baxis": {
             "endlinecolor": "#2a3f5f",
             "gridcolor": "white",
             "linecolor": "white",
             "minorgridcolor": "white",
             "startlinecolor": "#2a3f5f"
            },
            "type": "carpet"
           }
          ],
          "choropleth": [
           {
            "colorbar": {
             "outlinewidth": 0,
             "ticks": ""
            },
            "type": "choropleth"
           }
          ],
          "contour": [
           {
            "colorbar": {
             "outlinewidth": 0,
             "ticks": ""
            },
            "colorscale": [
             [
              0,
              "#0d0887"
             ],
             [
              0.1111111111111111,
              "#46039f"
             ],
             [
              0.2222222222222222,
              "#7201a8"
             ],
             [
              0.3333333333333333,
              "#9c179e"
             ],
             [
              0.4444444444444444,
              "#bd3786"
             ],
             [
              0.5555555555555556,
              "#d8576b"
             ],
             [
              0.6666666666666666,
              "#ed7953"
             ],
             [
              0.7777777777777778,
              "#fb9f3a"
             ],
             [
              0.8888888888888888,
              "#fdca26"
             ],
             [
              1,
              "#f0f921"
             ]
            ],
            "type": "contour"
           }
          ],
          "contourcarpet": [
           {
            "colorbar": {
             "outlinewidth": 0,
             "ticks": ""
            },
            "type": "contourcarpet"
           }
          ],
          "heatmap": [
           {
            "colorbar": {
             "outlinewidth": 0,
             "ticks": ""
            },
            "colorscale": [
             [
              0,
              "#0d0887"
             ],
             [
              0.1111111111111111,
              "#46039f"
             ],
             [
              0.2222222222222222,
              "#7201a8"
             ],
             [
              0.3333333333333333,
              "#9c179e"
             ],
             [
              0.4444444444444444,
              "#bd3786"
             ],
             [
              0.5555555555555556,
              "#d8576b"
             ],
             [
              0.6666666666666666,
              "#ed7953"
             ],
             [
              0.7777777777777778,
              "#fb9f3a"
             ],
             [
              0.8888888888888888,
              "#fdca26"
             ],
             [
              1,
              "#f0f921"
             ]
            ],
            "type": "heatmap"
           }
          ],
          "heatmapgl": [
           {
            "colorbar": {
             "outlinewidth": 0,
             "ticks": ""
            },
            "colorscale": [
             [
              0,
              "#0d0887"
             ],
             [
              0.1111111111111111,
              "#46039f"
             ],
             [
              0.2222222222222222,
              "#7201a8"
             ],
             [
              0.3333333333333333,
              "#9c179e"
             ],
             [
              0.4444444444444444,
              "#bd3786"
             ],
             [
              0.5555555555555556,
              "#d8576b"
             ],
             [
              0.6666666666666666,
              "#ed7953"
             ],
             [
              0.7777777777777778,
              "#fb9f3a"
             ],
             [
              0.8888888888888888,
              "#fdca26"
             ],
             [
              1,
              "#f0f921"
             ]
            ],
            "type": "heatmapgl"
           }
          ],
          "histogram": [
           {
            "marker": {
             "colorbar": {
              "outlinewidth": 0,
              "ticks": ""
             }
            },
            "type": "histogram"
           }
          ],
          "histogram2d": [
           {
            "colorbar": {
             "outlinewidth": 0,
             "ticks": ""
            },
            "colorscale": [
             [
              0,
              "#0d0887"
             ],
             [
              0.1111111111111111,
              "#46039f"
             ],
             [
              0.2222222222222222,
              "#7201a8"
             ],
             [
              0.3333333333333333,
              "#9c179e"
             ],
             [
              0.4444444444444444,
              "#bd3786"
             ],
             [
              0.5555555555555556,
              "#d8576b"
             ],
             [
              0.6666666666666666,
              "#ed7953"
             ],
             [
              0.7777777777777778,
              "#fb9f3a"
             ],
             [
              0.8888888888888888,
              "#fdca26"
             ],
             [
              1,
              "#f0f921"
             ]
            ],
            "type": "histogram2d"
           }
          ],
          "histogram2dcontour": [
           {
            "colorbar": {
             "outlinewidth": 0,
             "ticks": ""
            },
            "colorscale": [
             [
              0,
              "#0d0887"
             ],
             [
              0.1111111111111111,
              "#46039f"
             ],
             [
              0.2222222222222222,
              "#7201a8"
             ],
             [
              0.3333333333333333,
              "#9c179e"
             ],
             [
              0.4444444444444444,
              "#bd3786"
             ],
             [
              0.5555555555555556,
              "#d8576b"
             ],
             [
              0.6666666666666666,
              "#ed7953"
             ],
             [
              0.7777777777777778,
              "#fb9f3a"
             ],
             [
              0.8888888888888888,
              "#fdca26"
             ],
             [
              1,
              "#f0f921"
             ]
            ],
            "type": "histogram2dcontour"
           }
          ],
          "mesh3d": [
           {
            "colorbar": {
             "outlinewidth": 0,
             "ticks": ""
            },
            "type": "mesh3d"
           }
          ],
          "parcoords": [
           {
            "line": {
             "colorbar": {
              "outlinewidth": 0,
              "ticks": ""
             }
            },
            "type": "parcoords"
           }
          ],
          "pie": [
           {
            "automargin": true,
            "type": "pie"
           }
          ],
          "scatter": [
           {
            "marker": {
             "colorbar": {
              "outlinewidth": 0,
              "ticks": ""
             }
            },
            "type": "scatter"
           }
          ],
          "scatter3d": [
           {
            "line": {
             "colorbar": {
              "outlinewidth": 0,
              "ticks": ""
             }
            },
            "marker": {
             "colorbar": {
              "outlinewidth": 0,
              "ticks": ""
             }
            },
            "type": "scatter3d"
           }
          ],
          "scattercarpet": [
           {
            "marker": {
             "colorbar": {
              "outlinewidth": 0,
              "ticks": ""
             }
            },
            "type": "scattercarpet"
           }
          ],
          "scattergeo": [
           {
            "marker": {
             "colorbar": {
              "outlinewidth": 0,
              "ticks": ""
             }
            },
            "type": "scattergeo"
           }
          ],
          "scattergl": [
           {
            "marker": {
             "colorbar": {
              "outlinewidth": 0,
              "ticks": ""
             }
            },
            "type": "scattergl"
           }
          ],
          "scattermapbox": [
           {
            "marker": {
             "colorbar": {
              "outlinewidth": 0,
              "ticks": ""
             }
            },
            "type": "scattermapbox"
           }
          ],
          "scatterpolar": [
           {
            "marker": {
             "colorbar": {
              "outlinewidth": 0,
              "ticks": ""
             }
            },
            "type": "scatterpolar"
           }
          ],
          "scatterpolargl": [
           {
            "marker": {
             "colorbar": {
              "outlinewidth": 0,
              "ticks": ""
             }
            },
            "type": "scatterpolargl"
           }
          ],
          "scatterternary": [
           {
            "marker": {
             "colorbar": {
              "outlinewidth": 0,
              "ticks": ""
             }
            },
            "type": "scatterternary"
           }
          ],
          "surface": [
           {
            "colorbar": {
             "outlinewidth": 0,
             "ticks": ""
            },
            "colorscale": [
             [
              0,
              "#0d0887"
             ],
             [
              0.1111111111111111,
              "#46039f"
             ],
             [
              0.2222222222222222,
              "#7201a8"
             ],
             [
              0.3333333333333333,
              "#9c179e"
             ],
             [
              0.4444444444444444,
              "#bd3786"
             ],
             [
              0.5555555555555556,
              "#d8576b"
             ],
             [
              0.6666666666666666,
              "#ed7953"
             ],
             [
              0.7777777777777778,
              "#fb9f3a"
             ],
             [
              0.8888888888888888,
              "#fdca26"
             ],
             [
              1,
              "#f0f921"
             ]
            ],
            "type": "surface"
           }
          ],
          "table": [
           {
            "cells": {
             "fill": {
              "color": "#EBF0F8"
             },
             "line": {
              "color": "white"
             }
            },
            "header": {
             "fill": {
              "color": "#C8D4E3"
             },
             "line": {
              "color": "white"
             }
            },
            "type": "table"
           }
          ]
         },
         "layout": {
          "annotationdefaults": {
           "arrowcolor": "#2a3f5f",
           "arrowhead": 0,
           "arrowwidth": 1
          },
          "autotypenumbers": "strict",
          "coloraxis": {
           "colorbar": {
            "outlinewidth": 0,
            "ticks": ""
           }
          },
          "colorscale": {
           "diverging": [
            [
             0,
             "#8e0152"
            ],
            [
             0.1,
             "#c51b7d"
            ],
            [
             0.2,
             "#de77ae"
            ],
            [
             0.3,
             "#f1b6da"
            ],
            [
             0.4,
             "#fde0ef"
            ],
            [
             0.5,
             "#f7f7f7"
            ],
            [
             0.6,
             "#e6f5d0"
            ],
            [
             0.7,
             "#b8e186"
            ],
            [
             0.8,
             "#7fbc41"
            ],
            [
             0.9,
             "#4d9221"
            ],
            [
             1,
             "#276419"
            ]
           ],
           "sequential": [
            [
             0,
             "#0d0887"
            ],
            [
             0.1111111111111111,
             "#46039f"
            ],
            [
             0.2222222222222222,
             "#7201a8"
            ],
            [
             0.3333333333333333,
             "#9c179e"
            ],
            [
             0.4444444444444444,
             "#bd3786"
            ],
            [
             0.5555555555555556,
             "#d8576b"
            ],
            [
             0.6666666666666666,
             "#ed7953"
            ],
            [
             0.7777777777777778,
             "#fb9f3a"
            ],
            [
             0.8888888888888888,
             "#fdca26"
            ],
            [
             1,
             "#f0f921"
            ]
           ],
           "sequentialminus": [
            [
             0,
             "#0d0887"
            ],
            [
             0.1111111111111111,
             "#46039f"
            ],
            [
             0.2222222222222222,
             "#7201a8"
            ],
            [
             0.3333333333333333,
             "#9c179e"
            ],
            [
             0.4444444444444444,
             "#bd3786"
            ],
            [
             0.5555555555555556,
             "#d8576b"
            ],
            [
             0.6666666666666666,
             "#ed7953"
            ],
            [
             0.7777777777777778,
             "#fb9f3a"
            ],
            [
             0.8888888888888888,
             "#fdca26"
            ],
            [
             1,
             "#f0f921"
            ]
           ]
          },
          "colorway": [
           "#636efa",
           "#EF553B",
           "#00cc96",
           "#ab63fa",
           "#FFA15A",
           "#19d3f3",
           "#FF6692",
           "#B6E880",
           "#FF97FF",
           "#FECB52"
          ],
          "font": {
           "color": "#2a3f5f"
          },
          "geo": {
           "bgcolor": "white",
           "lakecolor": "white",
           "landcolor": "#E5ECF6",
           "showlakes": true,
           "showland": true,
           "subunitcolor": "white"
          },
          "hoverlabel": {
           "align": "left"
          },
          "hovermode": "closest",
          "mapbox": {
           "style": "light"
          },
          "paper_bgcolor": "white",
          "plot_bgcolor": "#E5ECF6",
          "polar": {
           "angularaxis": {
            "gridcolor": "white",
            "linecolor": "white",
            "ticks": ""
           },
           "bgcolor": "#E5ECF6",
           "radialaxis": {
            "gridcolor": "white",
            "linecolor": "white",
            "ticks": ""
           }
          },
          "scene": {
           "xaxis": {
            "backgroundcolor": "#E5ECF6",
            "gridcolor": "white",
            "gridwidth": 2,
            "linecolor": "white",
            "showbackground": true,
            "ticks": "",
            "zerolinecolor": "white"
           },
           "yaxis": {
            "backgroundcolor": "#E5ECF6",
            "gridcolor": "white",
            "gridwidth": 2,
            "linecolor": "white",
            "showbackground": true,
            "ticks": "",
            "zerolinecolor": "white"
           },
           "zaxis": {
            "backgroundcolor": "#E5ECF6",
            "gridcolor": "white",
            "gridwidth": 2,
            "linecolor": "white",
            "showbackground": true,
            "ticks": "",
            "zerolinecolor": "white"
           }
          },
          "shapedefaults": {
           "line": {
            "color": "#2a3f5f"
           }
          },
          "ternary": {
           "aaxis": {
            "gridcolor": "white",
            "linecolor": "white",
            "ticks": ""
           },
           "baxis": {
            "gridcolor": "white",
            "linecolor": "white",
            "ticks": ""
           },
           "bgcolor": "#E5ECF6",
           "caxis": {
            "gridcolor": "white",
            "linecolor": "white",
            "ticks": ""
           }
          },
          "title": {
           "x": 0.05
          },
          "xaxis": {
           "automargin": true,
           "gridcolor": "white",
           "linecolor": "white",
           "ticks": "",
           "title": {
            "standoff": 15
           },
           "zerolinecolor": "white",
           "zerolinewidth": 2
          },
          "yaxis": {
           "automargin": true,
           "gridcolor": "white",
           "linecolor": "white",
           "ticks": "",
           "title": {
            "standoff": 15
           },
           "zerolinecolor": "white",
           "zerolinewidth": 2
          }
         }
        },
        "width": 800,
        "xaxis": {
         "range": [
          -0.5,
          4.5
         ],
         "tickfont": {
          "size": 12
         }
        },
        "yaxis": {
         "fixedrange": true,
         "range": [
          -0.5,
          4.5
         ]
        }
       }
      }
     },
     "metadata": {},
     "output_type": "display_data"
    }
   ],
   "source": [
    "fig = go.Figure(\n",
    "    data=[\n",
    "        go.Scatter(\n",
    "            x=pieces_coordinates[i][:, 0],\n",
    "            y=pieces_coordinates[i][:, 1],\n",
    "            marker_size=50,\n",
    "            marker_symbol=\"square\",\n",
    "            mode=\"markers\",\n",
    "        )\n",
    "        for i in range(len(pieces_coordinates))\n",
    "    ],\n",
    "    layout=dict(\n",
    "        width=800,\n",
    "        height=800,\n",
    "        yaxis=dict(\n",
    "            range=[-0.5, grid.shape[1]-.5],\n",
    "            fixedrange=True,\n",
    "        ),\n",
    "        xaxis=dict(\n",
    "            range=[-0.5, grid.shape[0]-.5],\n",
    "            tickfont_size=12,\n",
    "        ),\n",
    "    ),\n",
    ")\n",
    "fig.write_html(f'graphs/test_{grid.size}_size.html')\n",
    "fig.show()"
   ]
  },
  {
   "cell_type": "code",
   "execution_count": 4,
   "metadata": {},
   "outputs": [],
   "source": [
    "grid_shape = (10,10)\n",
    "individuals = [Individual(pieces_generator(grid_shape)) for i in range(1)]\n",
    "valid_set = [l+str(n) for n in range(4) for l in [\"I\", \"L\", \"J\", \"T\", \"S\", \"Z\", \"O\"]]\n",
    "pop = Population(individuals, \"max\", 1, valid_set, grid_shape)"
   ]
  },
  {
   "cell_type": "code",
   "execution_count": 5,
   "metadata": {},
   "outputs": [
    {
     "name": "stdout",
     "output_type": "stream",
     "text": [
      "\n",
      "ind.fitness = 80.0\n",
      "ind_representation_str = 'I4J2I1I3J1Z1L1Z2L1L2L4Z4O2T3L1L3O4S1L1O4T4Z3T4S3Z2'\n",
      "ind.len_max = 2, ind.number_n_visited = 0\n",
      "best_n.fitness = 88.0 ;; ind.fitness = 80.0 ;; diff = -8.0\n",
      "(best_n.fitness * m) = 88.0 > (ind.fitness * m) = 80.0\n",
      "\n",
      "ind.fitness = 88.0\n",
      "ind_representation_str = 'I4J2I1I3J1Z1L1Z2L1L4L2Z4O2T3L1L3O4S1L1O4T4Z3T4S3Z2'\n",
      "ind.len_max = 13, ind.number_n_visited = 0\n",
      "best_n.fitness = 88.0 ;; ind.fitness = 88.0 ;; diff = 0.0\n",
      "Found plateau on ['I4', 'J2', 'I3', 'I1', 'J1', 'Z1', 'L1', 'Z2', 'L1', 'L4', 'L2', 'Z4', 'O2', 'T3', 'L1', 'L3', 'O4', 'S1', 'L1', 'O4', 'T4', 'Z3', 'T4', 'S3', 'Z2'] and ['I4', 'J2', 'I1', 'I3', 'J1', 'Z1', 'L1', 'Z2', 'L1', 'L4', 'L2', 'Z4', 'O2', 'T3', 'L1', 'L3', 'O4', 'S1', 'L1', 'O4', 'T4', 'Z3', 'T4', 'S3', 'Z2']\n",
      "\n",
      "ind.fitness = 88.0\n",
      "ind_representation_str = 'I4J2I3I1J1Z1L1Z2L1L4L2Z4O2T3L1L3O4S1L1O4T4Z3T4S3Z2'\n",
      "ind.len_max = 13, ind.number_n_visited = 0\n",
      "best_n.fitness = 88.0 ;; ind.fitness = 88.0 ;; diff = 0.0\n",
      "Found plateau on ['I4', 'J2', 'I1', 'I3', 'J1', 'Z1', 'L1', 'Z2', 'L1', 'L4', 'L2', 'Z4', 'O2', 'T3', 'L1', 'L3', 'O4', 'S1', 'L1', 'O4', 'T4', 'Z3', 'T4', 'S3', 'Z2'] and ['I4', 'J2', 'I3', 'I1', 'J1', 'Z1', 'L1', 'Z2', 'L1', 'L4', 'L2', 'Z4', 'O2', 'T3', 'L1', 'L3', 'O4', 'S1', 'L1', 'O4', 'T4', 'Z3', 'T4', 'S3', 'Z2']\n",
      "\n",
      "ind.fitness = 88.0\n",
      "ind_representation_str = 'I4J2I1I3J1Z1L1Z2L1L4L2Z4O2T3L1L3O4S1L1O4T4Z3T4S3Z2' found in visited individuals\n",
      "ind.len_max = 13, ind.number_n_visited = 1\n",
      "best_n.fitness = 88.0 ;; ind.fitness = 88.0 ;; diff = 0.0\n",
      "Found plateau on ['I4', 'J2', 'I1', 'J1', 'I3', 'Z1', 'L1', 'Z2', 'L1', 'L4', 'L2', 'Z4', 'O2', 'T3', 'L1', 'L3', 'O4', 'S1', 'L1', 'O4', 'T4', 'Z3', 'T4', 'S3', 'Z2'] and ['I4', 'J2', 'I1', 'I3', 'J1', 'Z1', 'L1', 'Z2', 'L1', 'L4', 'L2', 'Z4', 'O2', 'T3', 'L1', 'L3', 'O4', 'S1', 'L1', 'O4', 'T4', 'Z3', 'T4', 'S3', 'Z2']\n",
      "\n",
      "ind.fitness = 88.0\n",
      "ind_representation_str = 'I4J2I1J1I3Z1L1Z2L1L4L2Z4O2T3L1L3O4S1L1O4T4Z3T4S3Z2'\n",
      "ind.len_max = 12, ind.number_n_visited = 0\n",
      "best_n.fitness = 88.0 ;; ind.fitness = 88.0 ;; diff = 0.0\n",
      "Found plateau on ['I4', 'J2', 'J1', 'I1', 'I3', 'Z1', 'L1', 'Z2', 'L1', 'L4', 'L2', 'Z4', 'O2', 'T3', 'L1', 'L3', 'O4', 'S1', 'L1', 'O4', 'T4', 'Z3', 'T4', 'S3', 'Z2'] and ['I4', 'J2', 'I1', 'J1', 'I3', 'Z1', 'L1', 'Z2', 'L1', 'L4', 'L2', 'Z4', 'O2', 'T3', 'L1', 'L3', 'O4', 'S1', 'L1', 'O4', 'T4', 'Z3', 'T4', 'S3', 'Z2']\n",
      "\n",
      "ind.fitness = 88.0\n",
      "ind_representation_str = 'I4J2J1I1I3Z1L1Z2L1L4L2Z4O2T3L1L3O4S1L1O4T4Z3T4S3Z2'\n",
      "ind.len_max = 12, ind.number_n_visited = 0\n",
      "best_n.fitness = 88.0 ;; ind.fitness = 88.0 ;; diff = 0.0\n",
      "Found plateau on ['I4', 'J1', 'J2', 'I1', 'I3', 'Z1', 'L1', 'Z2', 'L1', 'L4', 'L2', 'Z4', 'O2', 'T3', 'L1', 'L3', 'O4', 'S1', 'L1', 'O4', 'T4', 'Z3', 'T4', 'S3', 'Z2'] and ['I4', 'J2', 'J1', 'I1', 'I3', 'Z1', 'L1', 'Z2', 'L1', 'L4', 'L2', 'Z4', 'O2', 'T3', 'L1', 'L3', 'O4', 'S1', 'L1', 'O4', 'T4', 'Z3', 'T4', 'S3', 'Z2']\n",
      "\n",
      "ind.fitness = 88.0\n",
      "ind_representation_str = 'I4J1J2I1I3Z1L1Z2L1L4L2Z4O2T3L1L3O4S1L1O4T4Z3T4S3Z2'\n",
      "ind.len_max = 1, ind.number_n_visited = 0\n",
      "best_n.fitness = 92.0 ;; ind.fitness = 88.0 ;; diff = -4.0\n",
      "(best_n.fitness * m) = 92.0 > (ind.fitness * m) = 88.0\n",
      "\n",
      "ind.fitness = 92.0\n",
      "ind_representation_str = 'I4J1J2I1I3Z1L1Z2L1L4L2Z4O2T3L3L1O4S1L1O4T4Z3T4S3Z2'\n",
      "ind.len_max = 12, ind.number_n_visited = 0\n",
      "best_n.fitness = 92.0 ;; ind.fitness = 92.0 ;; diff = 0.0\n",
      "Found plateau on ['I4', 'J1', 'J2', 'I3', 'I1', 'Z1', 'L1', 'Z2', 'L1', 'L4', 'L2', 'Z4', 'O2', 'T3', 'L3', 'L1', 'O4', 'S1', 'L1', 'O4', 'T4', 'Z3', 'T4', 'S3', 'Z2'] and ['I4', 'J1', 'J2', 'I1', 'I3', 'Z1', 'L1', 'Z2', 'L1', 'L4', 'L2', 'Z4', 'O2', 'T3', 'L3', 'L1', 'O4', 'S1', 'L1', 'O4', 'T4', 'Z3', 'T4', 'S3', 'Z2']\n",
      "\n",
      "ind.fitness = 92.0\n",
      "ind_representation_str = 'I4J1J2I3I1Z1L1Z2L1L4L2Z4O2T3L3L1O4S1L1O4T4Z3T4S3Z2'\n",
      "ind.len_max = 12, ind.number_n_visited = 0\n",
      "best_n.fitness = 92.0 ;; ind.fitness = 92.0 ;; diff = 0.0\n",
      "Found plateau on ['I4', 'J1', 'J2', 'I1', 'I3', 'Z1', 'L1', 'Z2', 'L1', 'L4', 'L2', 'Z4', 'O2', 'T3', 'L3', 'L1', 'O4', 'S1', 'L1', 'O4', 'T4', 'Z3', 'T4', 'S3', 'Z2'] and ['I4', 'J1', 'J2', 'I3', 'I1', 'Z1', 'L1', 'Z2', 'L1', 'L4', 'L2', 'Z4', 'O2', 'T3', 'L3', 'L1', 'O4', 'S1', 'L1', 'O4', 'T4', 'Z3', 'T4', 'S3', 'Z2']\n",
      "\n",
      "ind.fitness = 92.0\n",
      "ind_representation_str = 'I4J1J2I1I3Z1L1Z2L1L4L2Z4O2T3L3L1O4S1L1O4T4Z3T4S3Z2' found in visited individuals\n",
      "ind.len_max = 12, ind.number_n_visited = 1\n",
      "best_n.fitness = 92.0 ;; ind.fitness = 92.0 ;; diff = 0.0\n",
      "Found plateau on ['I4', 'J1', 'J2', 'I1', 'I3', 'L1', 'Z1', 'Z2', 'L1', 'L4', 'L2', 'Z4', 'O2', 'T3', 'L3', 'L1', 'O4', 'S1', 'L1', 'O4', 'T4', 'Z3', 'T4', 'S3', 'Z2'] and ['I4', 'J1', 'J2', 'I1', 'I3', 'Z1', 'L1', 'Z2', 'L1', 'L4', 'L2', 'Z4', 'O2', 'T3', 'L3', 'L1', 'O4', 'S1', 'L1', 'O4', 'T4', 'Z3', 'T4', 'S3', 'Z2']\n",
      "\n",
      "ind.fitness = 92.0\n",
      "ind_representation_str = 'I4J1J2I1I3L1Z1Z2L1L4L2Z4O2T3L3L1O4S1L1O4T4Z3T4S3Z2'\n",
      "ind.len_max = 13, ind.number_n_visited = 0\n",
      "best_n.fitness = 92.0 ;; ind.fitness = 92.0 ;; diff = 0.0\n",
      "Found plateau on ['I4', 'J1', 'J2', 'I3', 'I1', 'L1', 'Z1', 'Z2', 'L1', 'L4', 'L2', 'Z4', 'O2', 'T3', 'L3', 'L1', 'O4', 'S1', 'L1', 'O4', 'T4', 'Z3', 'T4', 'S3', 'Z2'] and ['I4', 'J1', 'J2', 'I1', 'I3', 'L1', 'Z1', 'Z2', 'L1', 'L4', 'L2', 'Z4', 'O2', 'T3', 'L3', 'L1', 'O4', 'S1', 'L1', 'O4', 'T4', 'Z3', 'T4', 'S3', 'Z2']\n",
      "\n",
      "ind.fitness = 92.0\n",
      "ind_representation_str = 'I4J1J2I3I1L1Z1Z2L1L4L2Z4O2T3L3L1O4S1L1O4T4Z3T4S3Z2'\n",
      "ind.len_max = 13, ind.number_n_visited = 0\n",
      "best_n.fitness = 92.0 ;; ind.fitness = 92.0 ;; diff = 0.0\n",
      "Found plateau on ['I4', 'J1', 'J2', 'I1', 'I3', 'L1', 'Z1', 'Z2', 'L1', 'L4', 'L2', 'Z4', 'O2', 'T3', 'L3', 'L1', 'O4', 'S1', 'L1', 'O4', 'T4', 'Z3', 'T4', 'S3', 'Z2'] and ['I4', 'J1', 'J2', 'I3', 'I1', 'L1', 'Z1', 'Z2', 'L1', 'L4', 'L2', 'Z4', 'O2', 'T3', 'L3', 'L1', 'O4', 'S1', 'L1', 'O4', 'T4', 'Z3', 'T4', 'S3', 'Z2']\n",
      "\n",
      "ind.fitness = 92.0\n",
      "ind_representation_str = 'I4J1J2I1I3L1Z1Z2L1L4L2Z4O2T3L3L1O4S1L1O4T4Z3T4S3Z2' found in visited individuals\n",
      "ind.len_max = 13, ind.number_n_visited = 1\n",
      "best_n.fitness = 92.0 ;; ind.fitness = 92.0 ;; diff = 0.0\n",
      "Found plateau on ['I4', 'J1', 'J2', 'I1', 'I3', 'Z1', 'L1', 'Z2', 'L1', 'L4', 'L2', 'Z4', 'O2', 'T3', 'L3', 'L1', 'O4', 'S1', 'L1', 'O4', 'T4', 'Z3', 'T4', 'S3', 'Z2'] and ['I4', 'J1', 'J2', 'I1', 'I3', 'L1', 'Z1', 'Z2', 'L1', 'L4', 'L2', 'Z4', 'O2', 'T3', 'L3', 'L1', 'O4', 'S1', 'L1', 'O4', 'T4', 'Z3', 'T4', 'S3', 'Z2']\n",
      "\n",
      "ind.fitness = 92.0\n",
      "ind_representation_str = 'I4J1J2I1I3Z1L1Z2L1L4L2Z4O2T3L3L1O4S1L1O4T4Z3T4S3Z2' found in visited individuals\n",
      "ind.len_max = 12, ind.number_n_visited = 2\n",
      "best_n.fitness = 92.0 ;; ind.fitness = 92.0 ;; diff = 0.0\n",
      "Found plateau on ['I4', 'J1', 'J2', 'I1', 'I3', 'Z1', 'L1', 'Z2', 'L1', 'L2', 'L4', 'Z4', 'O2', 'T3', 'L3', 'L1', 'O4', 'S1', 'L1', 'O4', 'T4', 'Z3', 'T4', 'S3', 'Z2'] and ['I4', 'J1', 'J2', 'I1', 'I3', 'Z1', 'L1', 'Z2', 'L1', 'L4', 'L2', 'Z4', 'O2', 'T3', 'L3', 'L1', 'O4', 'S1', 'L1', 'O4', 'T4', 'Z3', 'T4', 'S3', 'Z2']\n",
      "\n",
      "ind.fitness = 92.0\n",
      "ind_representation_str = 'I4J1J2I1I3Z1L1Z2L1L2L4Z4O2T3L3L1O4S1L1O4T4Z3T4S3Z2'\n",
      "ind.len_max = 13, ind.number_n_visited = 0\n",
      "best_n.fitness = 92.0 ;; ind.fitness = 92.0 ;; diff = 0.0\n",
      "Found plateau on ['I4', 'J1', 'J2', 'I3', 'I1', 'Z1', 'L1', 'Z2', 'L1', 'L2', 'L4', 'Z4', 'O2', 'T3', 'L3', 'L1', 'O4', 'S1', 'L1', 'O4', 'T4', 'Z3', 'T4', 'S3', 'Z2'] and ['I4', 'J1', 'J2', 'I1', 'I3', 'Z1', 'L1', 'Z2', 'L1', 'L2', 'L4', 'Z4', 'O2', 'T3', 'L3', 'L1', 'O4', 'S1', 'L1', 'O4', 'T4', 'Z3', 'T4', 'S3', 'Z2']\n",
      "\n",
      "ind.fitness = 92.0\n",
      "ind_representation_str = 'I4J1J2I3I1Z1L1Z2L1L2L4Z4O2T3L3L1O4S1L1O4T4Z3T4S3Z2'\n",
      "ind.len_max = 13, ind.number_n_visited = 0\n",
      "best_n.fitness = 92.0 ;; ind.fitness = 92.0 ;; diff = 0.0\n",
      "Found plateau on ['I4', 'J1', 'J2', 'I1', 'I3', 'Z1', 'L1', 'Z2', 'L1', 'L2', 'L4', 'Z4', 'O2', 'T3', 'L3', 'L1', 'O4', 'S1', 'L1', 'O4', 'T4', 'Z3', 'T4', 'S3', 'Z2'] and ['I4', 'J1', 'J2', 'I3', 'I1', 'Z1', 'L1', 'Z2', 'L1', 'L2', 'L4', 'Z4', 'O2', 'T3', 'L3', 'L1', 'O4', 'S1', 'L1', 'O4', 'T4', 'Z3', 'T4', 'S3', 'Z2']\n",
      "\n",
      "ind.fitness = 92.0\n",
      "ind_representation_str = 'I4J1J2I1I3Z1L1Z2L1L2L4Z4O2T3L3L1O4S1L1O4T4Z3T4S3Z2' found in visited individuals\n",
      "ind.len_max = 13, ind.number_n_visited = 1\n",
      "best_n.fitness = 92.0 ;; ind.fitness = 92.0 ;; diff = 0.0\n",
      "Found plateau on ['I4', 'J1', 'J2', 'I1', 'I3', 'L1', 'Z1', 'Z2', 'L1', 'L2', 'L4', 'Z4', 'O2', 'T3', 'L3', 'L1', 'O4', 'S1', 'L1', 'O4', 'T4', 'Z3', 'T4', 'S3', 'Z2'] and ['I4', 'J1', 'J2', 'I1', 'I3', 'Z1', 'L1', 'Z2', 'L1', 'L2', 'L4', 'Z4', 'O2', 'T3', 'L3', 'L1', 'O4', 'S1', 'L1', 'O4', 'T4', 'Z3', 'T4', 'S3', 'Z2']\n",
      "\n",
      "ind.fitness = 92.0\n",
      "ind_representation_str = 'I4J1J2I1I3L1Z1Z2L1L2L4Z4O2T3L3L1O4S1L1O4T4Z3T4S3Z2'\n",
      "ind.len_max = 14, ind.number_n_visited = 0\n",
      "best_n.fitness = 92.0 ;; ind.fitness = 92.0 ;; diff = 0.0\n",
      "Found plateau on ['I4', 'J1', 'J2', 'I3', 'I1', 'L1', 'Z1', 'Z2', 'L1', 'L2', 'L4', 'Z4', 'O2', 'T3', 'L3', 'L1', 'O4', 'S1', 'L1', 'O4', 'T4', 'Z3', 'T4', 'S3', 'Z2'] and ['I4', 'J1', 'J2', 'I1', 'I3', 'L1', 'Z1', 'Z2', 'L1', 'L2', 'L4', 'Z4', 'O2', 'T3', 'L3', 'L1', 'O4', 'S1', 'L1', 'O4', 'T4', 'Z3', 'T4', 'S3', 'Z2']\n",
      "\n",
      "ind.fitness = 92.0\n",
      "ind_representation_str = 'I4J1J2I3I1L1Z1Z2L1L2L4Z4O2T3L3L1O4S1L1O4T4Z3T4S3Z2'\n",
      "ind.len_max = 14, ind.number_n_visited = 0\n",
      "best_n.fitness = 92.0 ;; ind.fitness = 92.0 ;; diff = 0.0\n",
      "Found plateau on ['I4', 'J1', 'J2', 'I1', 'I3', 'L1', 'Z1', 'Z2', 'L1', 'L2', 'L4', 'Z4', 'O2', 'T3', 'L3', 'L1', 'O4', 'S1', 'L1', 'O4', 'T4', 'Z3', 'T4', 'S3', 'Z2'] and ['I4', 'J1', 'J2', 'I3', 'I1', 'L1', 'Z1', 'Z2', 'L1', 'L2', 'L4', 'Z4', 'O2', 'T3', 'L3', 'L1', 'O4', 'S1', 'L1', 'O4', 'T4', 'Z3', 'T4', 'S3', 'Z2']\n",
      "\n",
      "ind.fitness = 92.0\n",
      "ind_representation_str = 'I4J1J2I1I3L1Z1Z2L1L2L4Z4O2T3L3L1O4S1L1O4T4Z3T4S3Z2' found in visited individuals\n",
      "ind.len_max = 14, ind.number_n_visited = 1\n",
      "best_n.fitness = 92.0 ;; ind.fitness = 92.0 ;; diff = 0.0\n",
      "Found plateau on ['I4', 'J1', 'J2', 'I1', 'I3', 'Z1', 'L1', 'Z2', 'L1', 'L2', 'L4', 'Z4', 'O2', 'T3', 'L3', 'L1', 'O4', 'S1', 'L1', 'O4', 'T4', 'Z3', 'T4', 'S3', 'Z2'] and ['I4', 'J1', 'J2', 'I1', 'I3', 'L1', 'Z1', 'Z2', 'L1', 'L2', 'L4', 'Z4', 'O2', 'T3', 'L3', 'L1', 'O4', 'S1', 'L1', 'O4', 'T4', 'Z3', 'T4', 'S3', 'Z2']\n",
      "\n",
      "ind.fitness = 92.0\n",
      "ind_representation_str = 'I4J1J2I1I3Z1L1Z2L1L2L4Z4O2T3L3L1O4S1L1O4T4Z3T4S3Z2' found in visited individuals\n",
      "ind.len_max = 13, ind.number_n_visited = 2\n",
      "best_n.fitness = 92.0 ;; ind.fitness = 92.0 ;; diff = 0.0\n",
      "Found plateau on ['I4', 'J1', 'J2', 'I1', 'I3', 'Z1', 'L1', 'L1', 'Z2', 'L2', 'L4', 'Z4', 'O2', 'T3', 'L3', 'L1', 'O4', 'S1', 'L1', 'O4', 'T4', 'Z3', 'T4', 'S3', 'Z2'] and ['I4', 'J1', 'J2', 'I1', 'I3', 'Z1', 'L1', 'Z2', 'L1', 'L2', 'L4', 'Z4', 'O2', 'T3', 'L3', 'L1', 'O4', 'S1', 'L1', 'O4', 'T4', 'Z3', 'T4', 'S3', 'Z2']\n",
      "\n",
      "ind.fitness = 92.0\n",
      "ind_representation_str = 'I4J1J2I1I3Z1L1L1Z2L2L4Z4O2T3L3L1O4S1L1O4T4Z3T4S3Z2'\n",
      "ind.len_max = 13, ind.number_n_visited = 0\n",
      "best_n.fitness = 92.0 ;; ind.fitness = 92.0 ;; diff = 0.0\n",
      "Found plateau on ['J1', 'I4', 'J2', 'I1', 'I3', 'Z1', 'L1', 'L1', 'Z2', 'L2', 'L4', 'Z4', 'O2', 'T3', 'L3', 'L1', 'O4', 'S1', 'L1', 'O4', 'T4', 'Z3', 'T4', 'S3', 'Z2'] and ['I4', 'J1', 'J2', 'I1', 'I3', 'Z1', 'L1', 'L1', 'Z2', 'L2', 'L4', 'Z4', 'O2', 'T3', 'L3', 'L1', 'O4', 'S1', 'L1', 'O4', 'T4', 'Z3', 'T4', 'S3', 'Z2']\n",
      "\n",
      "ind.fitness = 92.0\n",
      "ind_representation_str = 'J1I4J2I1I3Z1L1L1Z2L2L4Z4O2T3L3L1O4S1L1O4T4Z3T4S3Z2'\n",
      "ind.len_max = 12, ind.number_n_visited = 0\n",
      "best_n.fitness = 92.0 ;; ind.fitness = 92.0 ;; diff = 0.0\n",
      "Found plateau on ['I4', 'J1', 'J2', 'I1', 'I3', 'Z1', 'L1', 'L1', 'Z2', 'L2', 'L4', 'Z4', 'O2', 'T3', 'L3', 'L1', 'O4', 'S1', 'L1', 'O4', 'T4', 'Z3', 'T4', 'S3', 'Z2'] and ['J1', 'I4', 'J2', 'I1', 'I3', 'Z1', 'L1', 'L1', 'Z2', 'L2', 'L4', 'Z4', 'O2', 'T3', 'L3', 'L1', 'O4', 'S1', 'L1', 'O4', 'T4', 'Z3', 'T4', 'S3', 'Z2']\n",
      "\n",
      "ind.fitness = 92.0\n",
      "ind_representation_str = 'I4J1J2I1I3Z1L1L1Z2L2L4Z4O2T3L3L1O4S1L1O4T4Z3T4S3Z2' found in visited individuals\n",
      "ind.len_max = 13, ind.number_n_visited = 1\n",
      "best_n.fitness = 92.0 ;; ind.fitness = 92.0 ;; diff = 0.0\n",
      "Found plateau on ['I4', 'J1', 'J2', 'I3', 'I1', 'Z1', 'L1', 'L1', 'Z2', 'L2', 'L4', 'Z4', 'O2', 'T3', 'L3', 'L1', 'O4', 'S1', 'L1', 'O4', 'T4', 'Z3', 'T4', 'S3', 'Z2'] and ['I4', 'J1', 'J2', 'I1', 'I3', 'Z1', 'L1', 'L1', 'Z2', 'L2', 'L4', 'Z4', 'O2', 'T3', 'L3', 'L1', 'O4', 'S1', 'L1', 'O4', 'T4', 'Z3', 'T4', 'S3', 'Z2']\n",
      "\n",
      "ind.fitness = 92.0\n",
      "ind_representation_str = 'I4J1J2I3I1Z1L1L1Z2L2L4Z4O2T3L3L1O4S1L1O4T4Z3T4S3Z2'\n",
      "ind.len_max = 13, ind.number_n_visited = 0\n",
      "best_n.fitness = 92.0 ;; ind.fitness = 92.0 ;; diff = 0.0\n",
      "Found plateau on ['J1', 'I4', 'J2', 'I3', 'I1', 'Z1', 'L1', 'L1', 'Z2', 'L2', 'L4', 'Z4', 'O2', 'T3', 'L3', 'L1', 'O4', 'S1', 'L1', 'O4', 'T4', 'Z3', 'T4', 'S3', 'Z2'] and ['I4', 'J1', 'J2', 'I3', 'I1', 'Z1', 'L1', 'L1', 'Z2', 'L2', 'L4', 'Z4', 'O2', 'T3', 'L3', 'L1', 'O4', 'S1', 'L1', 'O4', 'T4', 'Z3', 'T4', 'S3', 'Z2']\n",
      "\n",
      "ind.fitness = 92.0\n",
      "ind_representation_str = 'J1I4J2I3I1Z1L1L1Z2L2L4Z4O2T3L3L1O4S1L1O4T4Z3T4S3Z2'\n",
      "ind.len_max = 12, ind.number_n_visited = 0\n",
      "best_n.fitness = 92.0 ;; ind.fitness = 92.0 ;; diff = 0.0\n",
      "Found plateau on ['I4', 'J1', 'J2', 'I3', 'I1', 'Z1', 'L1', 'L1', 'Z2', 'L2', 'L4', 'Z4', 'O2', 'T3', 'L3', 'L1', 'O4', 'S1', 'L1', 'O4', 'T4', 'Z3', 'T4', 'S3', 'Z2'] and ['J1', 'I4', 'J2', 'I3', 'I1', 'Z1', 'L1', 'L1', 'Z2', 'L2', 'L4', 'Z4', 'O2', 'T3', 'L3', 'L1', 'O4', 'S1', 'L1', 'O4', 'T4', 'Z3', 'T4', 'S3', 'Z2']\n",
      "\n",
      "ind.fitness = 92.0\n",
      "ind_representation_str = 'I4J1J2I3I1Z1L1L1Z2L2L4Z4O2T3L3L1O4S1L1O4T4Z3T4S3Z2' found in visited individuals\n",
      "ind.len_max = 13, ind.number_n_visited = 1\n",
      "best_n.fitness = 92.0 ;; ind.fitness = 92.0 ;; diff = 0.0\n",
      "Found plateau on ['I4', 'J1', 'J2', 'I1', 'I3', 'Z1', 'L1', 'L1', 'Z2', 'L2', 'L4', 'Z4', 'O2', 'T3', 'L3', 'L1', 'O4', 'S1', 'L1', 'O4', 'T4', 'Z3', 'T4', 'S3', 'Z2'] and ['I4', 'J1', 'J2', 'I3', 'I1', 'Z1', 'L1', 'L1', 'Z2', 'L2', 'L4', 'Z4', 'O2', 'T3', 'L3', 'L1', 'O4', 'S1', 'L1', 'O4', 'T4', 'Z3', 'T4', 'S3', 'Z2']\n",
      "\n",
      "ind.fitness = 92.0\n",
      "ind_representation_str = 'I4J1J2I1I3Z1L1L1Z2L2L4Z4O2T3L3L1O4S1L1O4T4Z3T4S3Z2' found in visited individuals\n",
      "ind.len_max = 13, ind.number_n_visited = 2\n",
      "best_n.fitness = 92.0 ;; ind.fitness = 92.0 ;; diff = 0.0\n",
      "Found plateau on ['I4', 'J1', 'J2', 'I1', 'I3', 'L1', 'Z1', 'L1', 'Z2', 'L2', 'L4', 'Z4', 'O2', 'T3', 'L3', 'L1', 'O4', 'S1', 'L1', 'O4', 'T4', 'Z3', 'T4', 'S3', 'Z2'] and ['I4', 'J1', 'J2', 'I1', 'I3', 'Z1', 'L1', 'L1', 'Z2', 'L2', 'L4', 'Z4', 'O2', 'T3', 'L3', 'L1', 'O4', 'S1', 'L1', 'O4', 'T4', 'Z3', 'T4', 'S3', 'Z2']\n",
      "\n",
      "ind.fitness = 92.0\n",
      "ind_representation_str = 'I4J1J2I1I3L1Z1L1Z2L2L4Z4O2T3L3L1O4S1L1O4T4Z3T4S3Z2'\n",
      "ind.len_max = 13, ind.number_n_visited = 0\n",
      "best_n.fitness = 92.0 ;; ind.fitness = 92.0 ;; diff = 0.0\n",
      "Found plateau on ['J1', 'I4', 'J2', 'I1', 'I3', 'L1', 'Z1', 'L1', 'Z2', 'L2', 'L4', 'Z4', 'O2', 'T3', 'L3', 'L1', 'O4', 'S1', 'L1', 'O4', 'T4', 'Z3', 'T4', 'S3', 'Z2'] and ['I4', 'J1', 'J2', 'I1', 'I3', 'L1', 'Z1', 'L1', 'Z2', 'L2', 'L4', 'Z4', 'O2', 'T3', 'L3', 'L1', 'O4', 'S1', 'L1', 'O4', 'T4', 'Z3', 'T4', 'S3', 'Z2']\n",
      "\n",
      "ind.fitness = 92.0\n",
      "ind_representation_str = 'J1I4J2I1I3L1Z1L1Z2L2L4Z4O2T3L3L1O4S1L1O4T4Z3T4S3Z2'\n",
      "ind.len_max = 12, ind.number_n_visited = 0\n",
      "best_n.fitness = 92.0 ;; ind.fitness = 92.0 ;; diff = 0.0\n",
      "Found plateau on ['I4', 'J1', 'J2', 'I1', 'I3', 'L1', 'Z1', 'L1', 'Z2', 'L2', 'L4', 'Z4', 'O2', 'T3', 'L3', 'L1', 'O4', 'S1', 'L1', 'O4', 'T4', 'Z3', 'T4', 'S3', 'Z2'] and ['J1', 'I4', 'J2', 'I1', 'I3', 'L1', 'Z1', 'L1', 'Z2', 'L2', 'L4', 'Z4', 'O2', 'T3', 'L3', 'L1', 'O4', 'S1', 'L1', 'O4', 'T4', 'Z3', 'T4', 'S3', 'Z2']\n",
      "\n",
      "ind.fitness = 92.0\n",
      "ind_representation_str = 'I4J1J2I1I3L1Z1L1Z2L2L4Z4O2T3L3L1O4S1L1O4T4Z3T4S3Z2' found in visited individuals\n",
      "ind.len_max = 13, ind.number_n_visited = 1\n",
      "best_n.fitness = 92.0 ;; ind.fitness = 92.0 ;; diff = 0.0\n",
      "Found plateau on ['I4', 'J1', 'J2', 'I3', 'I1', 'L1', 'Z1', 'L1', 'Z2', 'L2', 'L4', 'Z4', 'O2', 'T3', 'L3', 'L1', 'O4', 'S1', 'L1', 'O4', 'T4', 'Z3', 'T4', 'S3', 'Z2'] and ['I4', 'J1', 'J2', 'I1', 'I3', 'L1', 'Z1', 'L1', 'Z2', 'L2', 'L4', 'Z4', 'O2', 'T3', 'L3', 'L1', 'O4', 'S1', 'L1', 'O4', 'T4', 'Z3', 'T4', 'S3', 'Z2']\n",
      "\n",
      "ind.fitness = 92.0\n",
      "ind_representation_str = 'I4J1J2I3I1L1Z1L1Z2L2L4Z4O2T3L3L1O4S1L1O4T4Z3T4S3Z2'\n",
      "ind.len_max = 13, ind.number_n_visited = 0\n",
      "best_n.fitness = 92.0 ;; ind.fitness = 92.0 ;; diff = 0.0\n",
      "Found plateau on ['J1', 'I4', 'J2', 'I3', 'I1', 'L1', 'Z1', 'L1', 'Z2', 'L2', 'L4', 'Z4', 'O2', 'T3', 'L3', 'L1', 'O4', 'S1', 'L1', 'O4', 'T4', 'Z3', 'T4', 'S3', 'Z2'] and ['I4', 'J1', 'J2', 'I3', 'I1', 'L1', 'Z1', 'L1', 'Z2', 'L2', 'L4', 'Z4', 'O2', 'T3', 'L3', 'L1', 'O4', 'S1', 'L1', 'O4', 'T4', 'Z3', 'T4', 'S3', 'Z2']\n",
      "\n",
      "ind.fitness = 92.0\n",
      "ind_representation_str = 'J1I4J2I3I1L1Z1L1Z2L2L4Z4O2T3L3L1O4S1L1O4T4Z3T4S3Z2'\n",
      "ind.len_max = 12, ind.number_n_visited = 0\n",
      "best_n.fitness = 92.0 ;; ind.fitness = 92.0 ;; diff = 0.0\n",
      "Found plateau on ['I4', 'J1', 'J2', 'I3', 'I1', 'L1', 'Z1', 'L1', 'Z2', 'L2', 'L4', 'Z4', 'O2', 'T3', 'L3', 'L1', 'O4', 'S1', 'L1', 'O4', 'T4', 'Z3', 'T4', 'S3', 'Z2'] and ['J1', 'I4', 'J2', 'I3', 'I1', 'L1', 'Z1', 'L1', 'Z2', 'L2', 'L4', 'Z4', 'O2', 'T3', 'L3', 'L1', 'O4', 'S1', 'L1', 'O4', 'T4', 'Z3', 'T4', 'S3', 'Z2']\n",
      "\n",
      "ind.fitness = 92.0\n",
      "ind_representation_str = 'I4J1J2I3I1L1Z1L1Z2L2L4Z4O2T3L3L1O4S1L1O4T4Z3T4S3Z2' found in visited individuals\n",
      "ind.len_max = 13, ind.number_n_visited = 1\n",
      "best_n.fitness = 92.0 ;; ind.fitness = 92.0 ;; diff = 0.0\n",
      "Found plateau on ['I4', 'J1', 'J2', 'I1', 'I3', 'L1', 'Z1', 'L1', 'Z2', 'L2', 'L4', 'Z4', 'O2', 'T3', 'L3', 'L1', 'O4', 'S1', 'L1', 'O4', 'T4', 'Z3', 'T4', 'S3', 'Z2'] and ['I4', 'J1', 'J2', 'I3', 'I1', 'L1', 'Z1', 'L1', 'Z2', 'L2', 'L4', 'Z4', 'O2', 'T3', 'L3', 'L1', 'O4', 'S1', 'L1', 'O4', 'T4', 'Z3', 'T4', 'S3', 'Z2']\n",
      "\n",
      "ind.fitness = 92.0\n",
      "ind_representation_str = 'I4J1J2I1I3L1Z1L1Z2L2L4Z4O2T3L3L1O4S1L1O4T4Z3T4S3Z2' found in visited individuals\n",
      "ind.len_max = 13, ind.number_n_visited = 2\n",
      "best_n.fitness = 92.0 ;; ind.fitness = 92.0 ;; diff = 0.0\n",
      "Found plateau on ['I4', 'J1', 'J2', 'I1', 'I3', 'Z1', 'L1', 'L1', 'Z2', 'L2', 'L4', 'Z4', 'O2', 'T3', 'L3', 'L1', 'O4', 'S1', 'L1', 'O4', 'T4', 'Z3', 'T4', 'S3', 'Z2'] and ['I4', 'J1', 'J2', 'I1', 'I3', 'L1', 'Z1', 'L1', 'Z2', 'L2', 'L4', 'Z4', 'O2', 'T3', 'L3', 'L1', 'O4', 'S1', 'L1', 'O4', 'T4', 'Z3', 'T4', 'S3', 'Z2']\n",
      "\n",
      "ind.fitness = 92.0\n",
      "ind_representation_str = 'I4J1J2I1I3Z1L1L1Z2L2L4Z4O2T3L3L1O4S1L1O4T4Z3T4S3Z2' found in visited individuals\n",
      "ind.len_max = 13, ind.number_n_visited = 3\n",
      "best_n.fitness = 92.0 ;; ind.fitness = 92.0 ;; diff = 0.0\n",
      "Found plateau on ['I4', 'J1', 'J2', 'I1', 'I3', 'Z1', 'L1', 'L1', 'Z2', 'L2', 'L4', 'Z4', 'O2', 'T3', 'L3', 'L1', 'O4', 'S1', 'L1', 'O4', 'T4', 'Z3', 'T4', 'S3', 'Z2'] and ['I4', 'J1', 'J2', 'I1', 'I3', 'Z1', 'L1', 'L1', 'Z2', 'L2', 'L4', 'Z4', 'O2', 'T3', 'L3', 'L1', 'O4', 'S1', 'L1', 'O4', 'T4', 'Z3', 'T4', 'S3', 'Z2']\n",
      "\n",
      "ind.fitness = 92.0\n",
      "ind_representation_str = 'I4J1J2I1I3Z1L1L1Z2L2L4Z4O2T3L3L1O4S1L1O4T4Z3T4S3Z2' found in visited individuals\n",
      "ind.len_max = 13, ind.number_n_visited = 4\n",
      "best_n.fitness = 92.0 ;; ind.fitness = 92.0 ;; diff = 0.0\n",
      "Found plateau on ['I4', 'J1', 'J2', 'I1', 'I3', 'Z1', 'L1', 'Z2', 'L1', 'L2', 'L4', 'Z4', 'O2', 'T3', 'L3', 'L1', 'O4', 'S1', 'L1', 'O4', 'T4', 'Z3', 'T4', 'S3', 'Z2'] and ['I4', 'J1', 'J2', 'I1', 'I3', 'Z1', 'L1', 'L1', 'Z2', 'L2', 'L4', 'Z4', 'O2', 'T3', 'L3', 'L1', 'O4', 'S1', 'L1', 'O4', 'T4', 'Z3', 'T4', 'S3', 'Z2']\n",
      "\n",
      "ind.fitness = 92.0\n",
      "ind_representation_str = 'I4J1J2I1I3Z1L1Z2L1L2L4Z4O2T3L3L1O4S1L1O4T4Z3T4S3Z2' found in visited individuals\n",
      "ind.len_max = 13, ind.number_n_visited = 3\n",
      "best_n.fitness = 92.0 ;; ind.fitness = 92.0 ;; diff = 0.0\n",
      "Found plateau on ['I4', 'J1', 'J2', 'I1', 'I3', 'Z1', 'L1', 'Z2', 'L1', 'L4', 'L2', 'Z4', 'O2', 'T3', 'L3', 'L1', 'O4', 'S1', 'L1', 'O4', 'T4', 'Z3', 'T4', 'S3', 'Z2'] and ['I4', 'J1', 'J2', 'I1', 'I3', 'Z1', 'L1', 'Z2', 'L1', 'L2', 'L4', 'Z4', 'O2', 'T3', 'L3', 'L1', 'O4', 'S1', 'L1', 'O4', 'T4', 'Z3', 'T4', 'S3', 'Z2']\n",
      "\n",
      "ind.fitness = 92.0\n",
      "ind_representation_str = 'I4J1J2I1I3Z1L1Z2L1L4L2Z4O2T3L3L1O4S1L1O4T4Z3T4S3Z2' found in visited individuals\n",
      "ind.len_max = 12, ind.number_n_visited = 3\n",
      "best_n.fitness = 92.0 ;; ind.fitness = 92.0 ;; diff = 0.0\n",
      "Found plateau on ['I4', 'J1', 'J2', 'I1', 'I3', 'Z1', 'L1', 'Z2', 'L1', 'L4', 'L2', 'O2', 'Z4', 'T3', 'L3', 'L1', 'O4', 'S1', 'L1', 'O4', 'T4', 'Z3', 'T4', 'S3', 'Z2'] and ['I4', 'J1', 'J2', 'I1', 'I3', 'Z1', 'L1', 'Z2', 'L1', 'L4', 'L2', 'Z4', 'O2', 'T3', 'L3', 'L1', 'O4', 'S1', 'L1', 'O4', 'T4', 'Z3', 'T4', 'S3', 'Z2']\n",
      "\n",
      "ind.fitness = 92.0\n",
      "ind_representation_str = 'I4J1J2I1I3Z1L1Z2L1L4L2O2Z4T3L3L1O4S1L1O4T4Z3T4S3Z2'\n",
      "ind.len_max = 13, ind.number_n_visited = 0\n",
      "best_n.fitness = 92.0 ;; ind.fitness = 92.0 ;; diff = 0.0\n",
      "Found plateau on ['I4', 'J1', 'J2', 'I3', 'I1', 'Z1', 'L1', 'Z2', 'L1', 'L4', 'L2', 'O2', 'Z4', 'T3', 'L3', 'L1', 'O4', 'S1', 'L1', 'O4', 'T4', 'Z3', 'T4', 'S3', 'Z2'] and ['I4', 'J1', 'J2', 'I1', 'I3', 'Z1', 'L1', 'Z2', 'L1', 'L4', 'L2', 'O2', 'Z4', 'T3', 'L3', 'L1', 'O4', 'S1', 'L1', 'O4', 'T4', 'Z3', 'T4', 'S3', 'Z2']\n",
      "\n",
      "ind.fitness = 92.0\n",
      "ind_representation_str = 'I4J1J2I3I1Z1L1Z2L1L4L2O2Z4T3L3L1O4S1L1O4T4Z3T4S3Z2'\n",
      "ind.len_max = 13, ind.number_n_visited = 0\n",
      "best_n.fitness = 92.0 ;; ind.fitness = 92.0 ;; diff = 0.0\n",
      "Found plateau on ['I4', 'J1', 'J2', 'I1', 'I3', 'Z1', 'L1', 'Z2', 'L1', 'L4', 'L2', 'O2', 'Z4', 'T3', 'L3', 'L1', 'O4', 'S1', 'L1', 'O4', 'T4', 'Z3', 'T4', 'S3', 'Z2'] and ['I4', 'J1', 'J2', 'I3', 'I1', 'Z1', 'L1', 'Z2', 'L1', 'L4', 'L2', 'O2', 'Z4', 'T3', 'L3', 'L1', 'O4', 'S1', 'L1', 'O4', 'T4', 'Z3', 'T4', 'S3', 'Z2']\n",
      "\n",
      "ind.fitness = 92.0\n",
      "ind_representation_str = 'I4J1J2I1I3Z1L1Z2L1L4L2O2Z4T3L3L1O4S1L1O4T4Z3T4S3Z2' found in visited individuals\n",
      "ind.len_max = 13, ind.number_n_visited = 1\n",
      "best_n.fitness = 92.0 ;; ind.fitness = 92.0 ;; diff = 0.0\n",
      "Found plateau on ['I4', 'J1', 'J2', 'I1', 'I3', 'L1', 'Z1', 'Z2', 'L1', 'L4', 'L2', 'O2', 'Z4', 'T3', 'L3', 'L1', 'O4', 'S1', 'L1', 'O4', 'T4', 'Z3', 'T4', 'S3', 'Z2'] and ['I4', 'J1', 'J2', 'I1', 'I3', 'Z1', 'L1', 'Z2', 'L1', 'L4', 'L2', 'O2', 'Z4', 'T3', 'L3', 'L1', 'O4', 'S1', 'L1', 'O4', 'T4', 'Z3', 'T4', 'S3', 'Z2']\n",
      "\n",
      "ind.fitness = 92.0\n",
      "ind_representation_str = 'I4J1J2I1I3L1Z1Z2L1L4L2O2Z4T3L3L1O4S1L1O4T4Z3T4S3Z2'\n",
      "ind.len_max = 14, ind.number_n_visited = 0\n",
      "best_n.fitness = 92.0 ;; ind.fitness = 92.0 ;; diff = 0.0\n",
      "Found plateau on ['I4', 'J1', 'J2', 'I3', 'I1', 'L1', 'Z1', 'Z2', 'L1', 'L4', 'L2', 'O2', 'Z4', 'T3', 'L3', 'L1', 'O4', 'S1', 'L1', 'O4', 'T4', 'Z3', 'T4', 'S3', 'Z2'] and ['I4', 'J1', 'J2', 'I1', 'I3', 'L1', 'Z1', 'Z2', 'L1', 'L4', 'L2', 'O2', 'Z4', 'T3', 'L3', 'L1', 'O4', 'S1', 'L1', 'O4', 'T4', 'Z3', 'T4', 'S3', 'Z2']\n",
      "\n",
      "ind.fitness = 92.0\n",
      "ind_representation_str = 'I4J1J2I3I1L1Z1Z2L1L4L2O2Z4T3L3L1O4S1L1O4T4Z3T4S3Z2'\n",
      "ind.len_max = 14, ind.number_n_visited = 0\n",
      "best_n.fitness = 92.0 ;; ind.fitness = 92.0 ;; diff = 0.0\n",
      "Found plateau on ['I4', 'J1', 'J2', 'I1', 'I3', 'L1', 'Z1', 'Z2', 'L1', 'L4', 'L2', 'O2', 'Z4', 'T3', 'L3', 'L1', 'O4', 'S1', 'L1', 'O4', 'T4', 'Z3', 'T4', 'S3', 'Z2'] and ['I4', 'J1', 'J2', 'I3', 'I1', 'L1', 'Z1', 'Z2', 'L1', 'L4', 'L2', 'O2', 'Z4', 'T3', 'L3', 'L1', 'O4', 'S1', 'L1', 'O4', 'T4', 'Z3', 'T4', 'S3', 'Z2']\n",
      "\n",
      "ind.fitness = 92.0\n",
      "ind_representation_str = 'I4J1J2I1I3L1Z1Z2L1L4L2O2Z4T3L3L1O4S1L1O4T4Z3T4S3Z2' found in visited individuals\n",
      "ind.len_max = 14, ind.number_n_visited = 1\n",
      "best_n.fitness = 92.0 ;; ind.fitness = 92.0 ;; diff = 0.0\n",
      "Found plateau on ['I4', 'J1', 'J2', 'I1', 'I3', 'Z1', 'L1', 'Z2', 'L1', 'L4', 'L2', 'O2', 'Z4', 'T3', 'L3', 'L1', 'O4', 'S1', 'L1', 'O4', 'T4', 'Z3', 'T4', 'S3', 'Z2'] and ['I4', 'J1', 'J2', 'I1', 'I3', 'L1', 'Z1', 'Z2', 'L1', 'L4', 'L2', 'O2', 'Z4', 'T3', 'L3', 'L1', 'O4', 'S1', 'L1', 'O4', 'T4', 'Z3', 'T4', 'S3', 'Z2']\n",
      "\n",
      "ind.fitness = 92.0\n",
      "ind_representation_str = 'I4J1J2I1I3Z1L1Z2L1L4L2O2Z4T3L3L1O4S1L1O4T4Z3T4S3Z2' found in visited individuals\n",
      "ind.len_max = 13, ind.number_n_visited = 2\n",
      "best_n.fitness = 92.0 ;; ind.fitness = 92.0 ;; diff = 0.0\n",
      "Found plateau on ['I4', 'J1', 'J2', 'I1', 'I3', 'Z1', 'L1', 'Z2', 'L4', 'L1', 'L2', 'O2', 'Z4', 'T3', 'L3', 'L1', 'O4', 'S1', 'L1', 'O4', 'T4', 'Z3', 'T4', 'S3', 'Z2'] and ['I4', 'J1', 'J2', 'I1', 'I3', 'Z1', 'L1', 'Z2', 'L1', 'L4', 'L2', 'O2', 'Z4', 'T3', 'L3', 'L1', 'O4', 'S1', 'L1', 'O4', 'T4', 'Z3', 'T4', 'S3', 'Z2']\n",
      "\n",
      "ind.fitness = 92.0\n",
      "ind_representation_str = 'I4J1J2I1I3Z1L1Z2L4L1L2O2Z4T3L3L1O4S1L1O4T4Z3T4S3Z2'\n",
      "ind.len_max = 12, ind.number_n_visited = 0\n",
      "best_n.fitness = 92.0 ;; ind.fitness = 92.0 ;; diff = 0.0\n",
      "Found plateau on ['I4', 'J1', 'J2', 'I3', 'I1', 'Z1', 'L1', 'Z2', 'L4', 'L1', 'L2', 'O2', 'Z4', 'T3', 'L3', 'L1', 'O4', 'S1', 'L1', 'O4', 'T4', 'Z3', 'T4', 'S3', 'Z2'] and ['I4', 'J1', 'J2', 'I1', 'I3', 'Z1', 'L1', 'Z2', 'L4', 'L1', 'L2', 'O2', 'Z4', 'T3', 'L3', 'L1', 'O4', 'S1', 'L1', 'O4', 'T4', 'Z3', 'T4', 'S3', 'Z2']\n",
      "\n",
      "ind.fitness = 92.0\n",
      "ind_representation_str = 'I4J1J2I3I1Z1L1Z2L4L1L2O2Z4T3L3L1O4S1L1O4T4Z3T4S3Z2'\n",
      "ind.len_max = 12, ind.number_n_visited = 0\n",
      "best_n.fitness = 92.0 ;; ind.fitness = 92.0 ;; diff = 0.0\n",
      "Found plateau on ['I4', 'J1', 'J2', 'I1', 'I3', 'Z1', 'L1', 'Z2', 'L4', 'L1', 'L2', 'O2', 'Z4', 'T3', 'L3', 'L1', 'O4', 'S1', 'L1', 'O4', 'T4', 'Z3', 'T4', 'S3', 'Z2'] and ['I4', 'J1', 'J2', 'I3', 'I1', 'Z1', 'L1', 'Z2', 'L4', 'L1', 'L2', 'O2', 'Z4', 'T3', 'L3', 'L1', 'O4', 'S1', 'L1', 'O4', 'T4', 'Z3', 'T4', 'S3', 'Z2']\n",
      "\n",
      "ind.fitness = 92.0\n",
      "ind_representation_str = 'I4J1J2I1I3Z1L1Z2L4L1L2O2Z4T3L3L1O4S1L1O4T4Z3T4S3Z2' found in visited individuals\n",
      "ind.len_max = 12, ind.number_n_visited = 1\n",
      "best_n.fitness = 92.0 ;; ind.fitness = 92.0 ;; diff = 0.0\n",
      "Found plateau on ['I4', 'J1', 'J2', 'I1', 'I3', 'L1', 'Z1', 'Z2', 'L4', 'L1', 'L2', 'O2', 'Z4', 'T3', 'L3', 'L1', 'O4', 'S1', 'L1', 'O4', 'T4', 'Z3', 'T4', 'S3', 'Z2'] and ['I4', 'J1', 'J2', 'I1', 'I3', 'Z1', 'L1', 'Z2', 'L4', 'L1', 'L2', 'O2', 'Z4', 'T3', 'L3', 'L1', 'O4', 'S1', 'L1', 'O4', 'T4', 'Z3', 'T4', 'S3', 'Z2']\n",
      "\n",
      "ind.fitness = 92.0\n",
      "ind_representation_str = 'I4J1J2I1I3L1Z1Z2L4L1L2O2Z4T3L3L1O4S1L1O4T4Z3T4S3Z2'\n",
      "ind.len_max = 13, ind.number_n_visited = 0\n",
      "best_n.fitness = 92.0 ;; ind.fitness = 92.0 ;; diff = 0.0\n",
      "Found plateau on ['I4', 'J1', 'J2', 'I3', 'I1', 'L1', 'Z1', 'Z2', 'L4', 'L1', 'L2', 'O2', 'Z4', 'T3', 'L3', 'L1', 'O4', 'S1', 'L1', 'O4', 'T4', 'Z3', 'T4', 'S3', 'Z2'] and ['I4', 'J1', 'J2', 'I1', 'I3', 'L1', 'Z1', 'Z2', 'L4', 'L1', 'L2', 'O2', 'Z4', 'T3', 'L3', 'L1', 'O4', 'S1', 'L1', 'O4', 'T4', 'Z3', 'T4', 'S3', 'Z2']\n",
      "\n",
      "ind.fitness = 92.0\n",
      "ind_representation_str = 'I4J1J2I3I1L1Z1Z2L4L1L2O2Z4T3L3L1O4S1L1O4T4Z3T4S3Z2'\n",
      "ind.len_max = 13, ind.number_n_visited = 0\n",
      "best_n.fitness = 92.0 ;; ind.fitness = 92.0 ;; diff = 0.0\n",
      "Found plateau on ['I4', 'J1', 'J2', 'I1', 'I3', 'L1', 'Z1', 'Z2', 'L4', 'L1', 'L2', 'O2', 'Z4', 'T3', 'L3', 'L1', 'O4', 'S1', 'L1', 'O4', 'T4', 'Z3', 'T4', 'S3', 'Z2'] and ['I4', 'J1', 'J2', 'I3', 'I1', 'L1', 'Z1', 'Z2', 'L4', 'L1', 'L2', 'O2', 'Z4', 'T3', 'L3', 'L1', 'O4', 'S1', 'L1', 'O4', 'T4', 'Z3', 'T4', 'S3', 'Z2']\n",
      "\n",
      "ind.fitness = 92.0\n",
      "ind_representation_str = 'I4J1J2I1I3L1Z1Z2L4L1L2O2Z4T3L3L1O4S1L1O4T4Z3T4S3Z2' found in visited individuals\n",
      "ind.len_max = 13, ind.number_n_visited = 1\n",
      "best_n.fitness = 92.0 ;; ind.fitness = 92.0 ;; diff = 0.0\n",
      "Found plateau on ['I4', 'J1', 'J2', 'I1', 'I3', 'Z1', 'L1', 'Z2', 'L4', 'L1', 'L2', 'O2', 'Z4', 'T3', 'L3', 'L1', 'O4', 'S1', 'L1', 'O4', 'T4', 'Z3', 'T4', 'S3', 'Z2'] and ['I4', 'J1', 'J2', 'I1', 'I3', 'L1', 'Z1', 'Z2', 'L4', 'L1', 'L2', 'O2', 'Z4', 'T3', 'L3', 'L1', 'O4', 'S1', 'L1', 'O4', 'T4', 'Z3', 'T4', 'S3', 'Z2']\n",
      "\n",
      "ind.fitness = 92.0\n",
      "ind_representation_str = 'I4J1J2I1I3Z1L1Z2L4L1L2O2Z4T3L3L1O4S1L1O4T4Z3T4S3Z2' found in visited individuals\n",
      "ind.len_max = 12, ind.number_n_visited = 2\n",
      "best_n.fitness = 92.0 ;; ind.fitness = 92.0 ;; diff = 0.0\n",
      "Found plateau on ['I4', 'J1', 'J2', 'I1', 'I3', 'Z1', 'L1', 'Z2', 'L1', 'L4', 'L2', 'O2', 'Z4', 'T3', 'L3', 'L1', 'O4', 'S1', 'L1', 'O4', 'T4', 'Z3', 'T4', 'S3', 'Z2'] and ['I4', 'J1', 'J2', 'I1', 'I3', 'Z1', 'L1', 'Z2', 'L4', 'L1', 'L2', 'O2', 'Z4', 'T3', 'L3', 'L1', 'O4', 'S1', 'L1', 'O4', 'T4', 'Z3', 'T4', 'S3', 'Z2']\n",
      "\n",
      "ind.fitness = 92.0\n",
      "ind_representation_str = 'I4J1J2I1I3Z1L1Z2L1L4L2O2Z4T3L3L1O4S1L1O4T4Z3T4S3Z2' found in visited individuals\n",
      "ind.len_max = 13, ind.number_n_visited = 3\n",
      "best_n.fitness = 92.0 ;; ind.fitness = 92.0 ;; diff = 0.0\n",
      "Found plateau on ['I4', 'J1', 'J2', 'I1', 'I3', 'Z1', 'L1', 'Z2', 'L1', 'L2', 'L4', 'O2', 'Z4', 'T3', 'L3', 'L1', 'O4', 'S1', 'L1', 'O4', 'T4', 'Z3', 'T4', 'S3', 'Z2'] and ['I4', 'J1', 'J2', 'I1', 'I3', 'Z1', 'L1', 'Z2', 'L1', 'L4', 'L2', 'O2', 'Z4', 'T3', 'L3', 'L1', 'O4', 'S1', 'L1', 'O4', 'T4', 'Z3', 'T4', 'S3', 'Z2']\n",
      "\n",
      "ind.fitness = 92.0\n",
      "ind_representation_str = 'I4J1J2I1I3Z1L1Z2L1L2L4O2Z4T3L3L1O4S1L1O4T4Z3T4S3Z2'\n",
      "ind.len_max = 14, ind.number_n_visited = 0\n",
      "best_n.fitness = 92.0 ;; ind.fitness = 92.0 ;; diff = 0.0\n",
      "Found plateau on ['I4', 'J1', 'J2', 'I3', 'I1', 'Z1', 'L1', 'Z2', 'L1', 'L2', 'L4', 'O2', 'Z4', 'T3', 'L3', 'L1', 'O4', 'S1', 'L1', 'O4', 'T4', 'Z3', 'T4', 'S3', 'Z2'] and ['I4', 'J1', 'J2', 'I1', 'I3', 'Z1', 'L1', 'Z2', 'L1', 'L2', 'L4', 'O2', 'Z4', 'T3', 'L3', 'L1', 'O4', 'S1', 'L1', 'O4', 'T4', 'Z3', 'T4', 'S3', 'Z2']\n",
      "\n",
      "ind.fitness = 92.0\n",
      "ind_representation_str = 'I4J1J2I3I1Z1L1Z2L1L2L4O2Z4T3L3L1O4S1L1O4T4Z3T4S3Z2'\n",
      "ind.len_max = 14, ind.number_n_visited = 0\n",
      "best_n.fitness = 92.0 ;; ind.fitness = 92.0 ;; diff = 0.0\n",
      "Found plateau on ['I4', 'J1', 'J2', 'I1', 'I3', 'Z1', 'L1', 'Z2', 'L1', 'L2', 'L4', 'O2', 'Z4', 'T3', 'L3', 'L1', 'O4', 'S1', 'L1', 'O4', 'T4', 'Z3', 'T4', 'S3', 'Z2'] and ['I4', 'J1', 'J2', 'I3', 'I1', 'Z1', 'L1', 'Z2', 'L1', 'L2', 'L4', 'O2', 'Z4', 'T3', 'L3', 'L1', 'O4', 'S1', 'L1', 'O4', 'T4', 'Z3', 'T4', 'S3', 'Z2']\n",
      "\n",
      "ind.fitness = 92.0\n",
      "ind_representation_str = 'I4J1J2I1I3Z1L1Z2L1L2L4O2Z4T3L3L1O4S1L1O4T4Z3T4S3Z2' found in visited individuals\n",
      "ind.len_max = 14, ind.number_n_visited = 1\n",
      "best_n.fitness = 92.0 ;; ind.fitness = 92.0 ;; diff = 0.0\n",
      "Found plateau on ['I4', 'J1', 'J2', 'I1', 'I3', 'L1', 'Z1', 'Z2', 'L1', 'L2', 'L4', 'O2', 'Z4', 'T3', 'L3', 'L1', 'O4', 'S1', 'L1', 'O4', 'T4', 'Z3', 'T4', 'S3', 'Z2'] and ['I4', 'J1', 'J2', 'I1', 'I3', 'Z1', 'L1', 'Z2', 'L1', 'L2', 'L4', 'O2', 'Z4', 'T3', 'L3', 'L1', 'O4', 'S1', 'L1', 'O4', 'T4', 'Z3', 'T4', 'S3', 'Z2']\n",
      "\n",
      "ind.fitness = 92.0\n",
      "ind_representation_str = 'I4J1J2I1I3L1Z1Z2L1L2L4O2Z4T3L3L1O4S1L1O4T4Z3T4S3Z2'\n",
      "ind.len_max = 15, ind.number_n_visited = 0\n",
      "best_n.fitness = 92.0 ;; ind.fitness = 92.0 ;; diff = 0.0\n",
      "Found plateau on ['I4', 'J1', 'J2', 'I3', 'I1', 'L1', 'Z1', 'Z2', 'L1', 'L2', 'L4', 'O2', 'Z4', 'T3', 'L3', 'L1', 'O4', 'S1', 'L1', 'O4', 'T4', 'Z3', 'T4', 'S3', 'Z2'] and ['I4', 'J1', 'J2', 'I1', 'I3', 'L1', 'Z1', 'Z2', 'L1', 'L2', 'L4', 'O2', 'Z4', 'T3', 'L3', 'L1', 'O4', 'S1', 'L1', 'O4', 'T4', 'Z3', 'T4', 'S3', 'Z2']\n",
      "\n",
      "ind.fitness = 92.0\n",
      "ind_representation_str = 'I4J1J2I3I1L1Z1Z2L1L2L4O2Z4T3L3L1O4S1L1O4T4Z3T4S3Z2'\n",
      "ind.len_max = 15, ind.number_n_visited = 0\n",
      "best_n.fitness = 92.0 ;; ind.fitness = 92.0 ;; diff = 0.0\n",
      "Found plateau on ['I4', 'J1', 'J2', 'I1', 'I3', 'L1', 'Z1', 'Z2', 'L1', 'L2', 'L4', 'O2', 'Z4', 'T3', 'L3', 'L1', 'O4', 'S1', 'L1', 'O4', 'T4', 'Z3', 'T4', 'S3', 'Z2'] and ['I4', 'J1', 'J2', 'I3', 'I1', 'L1', 'Z1', 'Z2', 'L1', 'L2', 'L4', 'O2', 'Z4', 'T3', 'L3', 'L1', 'O4', 'S1', 'L1', 'O4', 'T4', 'Z3', 'T4', 'S3', 'Z2']\n",
      "\n",
      "ind.fitness = 92.0\n",
      "ind_representation_str = 'I4J1J2I1I3L1Z1Z2L1L2L4O2Z4T3L3L1O4S1L1O4T4Z3T4S3Z2' found in visited individuals\n",
      "ind.len_max = 15, ind.number_n_visited = 1\n",
      "best_n.fitness = 92.0 ;; ind.fitness = 92.0 ;; diff = 0.0\n",
      "Found plateau on ['I4', 'J1', 'J2', 'I1', 'I3', 'Z1', 'L1', 'Z2', 'L1', 'L2', 'L4', 'O2', 'Z4', 'T3', 'L3', 'L1', 'O4', 'S1', 'L1', 'O4', 'T4', 'Z3', 'T4', 'S3', 'Z2'] and ['I4', 'J1', 'J2', 'I1', 'I3', 'L1', 'Z1', 'Z2', 'L1', 'L2', 'L4', 'O2', 'Z4', 'T3', 'L3', 'L1', 'O4', 'S1', 'L1', 'O4', 'T4', 'Z3', 'T4', 'S3', 'Z2']\n",
      "\n",
      "ind.fitness = 92.0\n",
      "ind_representation_str = 'I4J1J2I1I3Z1L1Z2L1L2L4O2Z4T3L3L1O4S1L1O4T4Z3T4S3Z2' found in visited individuals\n",
      "ind.len_max = 14, ind.number_n_visited = 2\n",
      "best_n.fitness = 92.0 ;; ind.fitness = 92.0 ;; diff = 0.0\n",
      "Found plateau on ['I4', 'J1', 'J2', 'I1', 'I3', 'Z1', 'L1', 'L1', 'Z2', 'L2', 'L4', 'O2', 'Z4', 'T3', 'L3', 'L1', 'O4', 'S1', 'L1', 'O4', 'T4', 'Z3', 'T4', 'S3', 'Z2'] and ['I4', 'J1', 'J2', 'I1', 'I3', 'Z1', 'L1', 'Z2', 'L1', 'L2', 'L4', 'O2', 'Z4', 'T3', 'L3', 'L1', 'O4', 'S1', 'L1', 'O4', 'T4', 'Z3', 'T4', 'S3', 'Z2']\n",
      "\n",
      "ind.fitness = 92.0\n",
      "ind_representation_str = 'I4J1J2I1I3Z1L1L1Z2L2L4O2Z4T3L3L1O4S1L1O4T4Z3T4S3Z2'\n",
      "ind.len_max = 15, ind.number_n_visited = 0\n",
      "best_n.fitness = 92.0 ;; ind.fitness = 92.0 ;; diff = 0.0\n",
      "Found plateau on ['I4', 'J1', 'J2', 'I3', 'I1', 'Z1', 'L1', 'L1', 'Z2', 'L2', 'L4', 'O2', 'Z4', 'T3', 'L3', 'L1', 'O4', 'S1', 'L1', 'O4', 'T4', 'Z3', 'T4', 'S3', 'Z2'] and ['I4', 'J1', 'J2', 'I1', 'I3', 'Z1', 'L1', 'L1', 'Z2', 'L2', 'L4', 'O2', 'Z4', 'T3', 'L3', 'L1', 'O4', 'S1', 'L1', 'O4', 'T4', 'Z3', 'T4', 'S3', 'Z2']\n",
      "\n",
      "ind.fitness = 92.0\n",
      "ind_representation_str = 'I4J1J2I3I1Z1L1L1Z2L2L4O2Z4T3L3L1O4S1L1O4T4Z3T4S3Z2'\n",
      "ind.len_max = 15, ind.number_n_visited = 0\n",
      "best_n.fitness = 92.0 ;; ind.fitness = 92.0 ;; diff = 0.0\n",
      "Found plateau on ['I4', 'J1', 'J2', 'I1', 'I3', 'Z1', 'L1', 'L1', 'Z2', 'L2', 'L4', 'O2', 'Z4', 'T3', 'L3', 'L1', 'O4', 'S1', 'L1', 'O4', 'T4', 'Z3', 'T4', 'S3', 'Z2'] and ['I4', 'J1', 'J2', 'I3', 'I1', 'Z1', 'L1', 'L1', 'Z2', 'L2', 'L4', 'O2', 'Z4', 'T3', 'L3', 'L1', 'O4', 'S1', 'L1', 'O4', 'T4', 'Z3', 'T4', 'S3', 'Z2']\n",
      "\n",
      "ind.fitness = 92.0\n",
      "ind_representation_str = 'I4J1J2I1I3Z1L1L1Z2L2L4O2Z4T3L3L1O4S1L1O4T4Z3T4S3Z2' found in visited individuals\n",
      "ind.len_max = 15, ind.number_n_visited = 1\n",
      "best_n.fitness = 92.0 ;; ind.fitness = 92.0 ;; diff = 0.0\n",
      "Found plateau on ['I4', 'J1', 'J2', 'I1', 'I3', 'L1', 'Z1', 'L1', 'Z2', 'L2', 'L4', 'O2', 'Z4', 'T3', 'L3', 'L1', 'O4', 'S1', 'L1', 'O4', 'T4', 'Z3', 'T4', 'S3', 'Z2'] and ['I4', 'J1', 'J2', 'I1', 'I3', 'Z1', 'L1', 'L1', 'Z2', 'L2', 'L4', 'O2', 'Z4', 'T3', 'L3', 'L1', 'O4', 'S1', 'L1', 'O4', 'T4', 'Z3', 'T4', 'S3', 'Z2']\n",
      "\n",
      "ind.fitness = 92.0\n",
      "ind_representation_str = 'I4J1J2I1I3L1Z1L1Z2L2L4O2Z4T3L3L1O4S1L1O4T4Z3T4S3Z2'\n",
      "ind.len_max = 15, ind.number_n_visited = 0\n",
      "best_n.fitness = 92.0 ;; ind.fitness = 92.0 ;; diff = 0.0\n",
      "Found plateau on ['I4', 'J1', 'J2', 'I3', 'I1', 'L1', 'Z1', 'L1', 'Z2', 'L2', 'L4', 'O2', 'Z4', 'T3', 'L3', 'L1', 'O4', 'S1', 'L1', 'O4', 'T4', 'Z3', 'T4', 'S3', 'Z2'] and ['I4', 'J1', 'J2', 'I1', 'I3', 'L1', 'Z1', 'L1', 'Z2', 'L2', 'L4', 'O2', 'Z4', 'T3', 'L3', 'L1', 'O4', 'S1', 'L1', 'O4', 'T4', 'Z3', 'T4', 'S3', 'Z2']\n",
      "\n",
      "ind.fitness = 92.0\n",
      "ind_representation_str = 'I4J1J2I3I1L1Z1L1Z2L2L4O2Z4T3L3L1O4S1L1O4T4Z3T4S3Z2'\n",
      "ind.len_max = 15, ind.number_n_visited = 0\n",
      "best_n.fitness = 92.0 ;; ind.fitness = 92.0 ;; diff = 0.0\n",
      "Found plateau on ['I4', 'J1', 'J2', 'I1', 'I3', 'L1', 'Z1', 'L1', 'Z2', 'L2', 'L4', 'O2', 'Z4', 'T3', 'L3', 'L1', 'O4', 'S1', 'L1', 'O4', 'T4', 'Z3', 'T4', 'S3', 'Z2'] and ['I4', 'J1', 'J2', 'I3', 'I1', 'L1', 'Z1', 'L1', 'Z2', 'L2', 'L4', 'O2', 'Z4', 'T3', 'L3', 'L1', 'O4', 'S1', 'L1', 'O4', 'T4', 'Z3', 'T4', 'S3', 'Z2']\n",
      "\n",
      "ind.fitness = 92.0\n",
      "ind_representation_str = 'I4J1J2I1I3L1Z1L1Z2L2L4O2Z4T3L3L1O4S1L1O4T4Z3T4S3Z2' found in visited individuals\n",
      "ind.len_max = 15, ind.number_n_visited = 1\n",
      "best_n.fitness = 92.0 ;; ind.fitness = 92.0 ;; diff = 0.0\n",
      "Found plateau on ['I4', 'J1', 'J2', 'I1', 'I3', 'Z1', 'L1', 'L1', 'Z2', 'L2', 'L4', 'O2', 'Z4', 'T3', 'L3', 'L1', 'O4', 'S1', 'L1', 'O4', 'T4', 'Z3', 'T4', 'S3', 'Z2'] and ['I4', 'J1', 'J2', 'I1', 'I3', 'L1', 'Z1', 'L1', 'Z2', 'L2', 'L4', 'O2', 'Z4', 'T3', 'L3', 'L1', 'O4', 'S1', 'L1', 'O4', 'T4', 'Z3', 'T4', 'S3', 'Z2']\n",
      "\n",
      "ind.fitness = 92.0\n",
      "ind_representation_str = 'I4J1J2I1I3Z1L1L1Z2L2L4O2Z4T3L3L1O4S1L1O4T4Z3T4S3Z2' found in visited individuals\n",
      "ind.len_max = 15, ind.number_n_visited = 2\n",
      "best_n.fitness = 92.0 ;; ind.fitness = 92.0 ;; diff = 0.0\n",
      "Found plateau on ['I4', 'J1', 'J2', 'I1', 'I3', 'Z1', 'L1', 'L1', 'Z2', 'L2', 'L4', 'O2', 'Z4', 'T3', 'L3', 'L1', 'O4', 'S1', 'L1', 'O4', 'T4', 'Z3', 'T4', 'S3', 'Z2'] and ['I4', 'J1', 'J2', 'I1', 'I3', 'Z1', 'L1', 'L1', 'Z2', 'L2', 'L4', 'O2', 'Z4', 'T3', 'L3', 'L1', 'O4', 'S1', 'L1', 'O4', 'T4', 'Z3', 'T4', 'S3', 'Z2']\n",
      "\n",
      "ind.fitness = 92.0\n",
      "ind_representation_str = 'I4J1J2I1I3Z1L1L1Z2L2L4O2Z4T3L3L1O4S1L1O4T4Z3T4S3Z2' found in visited individuals\n",
      "ind.len_max = 15, ind.number_n_visited = 3\n",
      "best_n.fitness = 92.0 ;; ind.fitness = 92.0 ;; diff = 0.0\n",
      "Found plateau on ['I4', 'J1', 'J2', 'I1', 'I3', 'Z1', 'L1', 'Z2', 'L1', 'L2', 'L4', 'O2', 'Z4', 'T3', 'L3', 'L1', 'O4', 'S1', 'L1', 'O4', 'T4', 'Z3', 'T4', 'S3', 'Z2'] and ['I4', 'J1', 'J2', 'I1', 'I3', 'Z1', 'L1', 'L1', 'Z2', 'L2', 'L4', 'O2', 'Z4', 'T3', 'L3', 'L1', 'O4', 'S1', 'L1', 'O4', 'T4', 'Z3', 'T4', 'S3', 'Z2']\n",
      "\n",
      "ind.fitness = 92.0\n",
      "ind_representation_str = 'I4J1J2I1I3Z1L1Z2L1L2L4O2Z4T3L3L1O4S1L1O4T4Z3T4S3Z2' found in visited individuals\n",
      "ind.len_max = 14, ind.number_n_visited = 3\n",
      "best_n.fitness = 92.0 ;; ind.fitness = 92.0 ;; diff = 0.0\n",
      "Found plateau on ['I4', 'J1', 'J2', 'I1', 'I3', 'Z1', 'L1', 'Z2', 'L1', 'L4', 'L2', 'O2', 'Z4', 'T3', 'L3', 'L1', 'O4', 'S1', 'L1', 'O4', 'T4', 'Z3', 'T4', 'S3', 'Z2'] and ['I4', 'J1', 'J2', 'I1', 'I3', 'Z1', 'L1', 'Z2', 'L1', 'L2', 'L4', 'O2', 'Z4', 'T3', 'L3', 'L1', 'O4', 'S1', 'L1', 'O4', 'T4', 'Z3', 'T4', 'S3', 'Z2']\n",
      "\n",
      "ind.fitness = 92.0\n",
      "ind_representation_str = 'I4J1J2I1I3Z1L1Z2L1L4L2O2Z4T3L3L1O4S1L1O4T4Z3T4S3Z2' found in visited individuals\n",
      "ind.len_max = 13, ind.number_n_visited = 4\n",
      "best_n.fitness = 92.0 ;; ind.fitness = 92.0 ;; diff = 0.0\n",
      "Found plateau on ['I4', 'J1', 'J2', 'I1', 'I3', 'Z1', 'L1', 'Z2', 'L1', 'L4', 'L2', 'Z4', 'O2', 'T3', 'L3', 'L1', 'O4', 'S1', 'L1', 'O4', 'T4', 'Z3', 'T4', 'S3', 'Z2'] and ['I4', 'J1', 'J2', 'I1', 'I3', 'Z1', 'L1', 'Z2', 'L1', 'L4', 'L2', 'O2', 'Z4', 'T3', 'L3', 'L1', 'O4', 'S1', 'L1', 'O4', 'T4', 'Z3', 'T4', 'S3', 'Z2']\n",
      "\n",
      "ind.fitness = 92.0\n",
      "ind_representation_str = 'I4J1J2I1I3Z1L1Z2L1L4L2Z4O2T3L3L1O4S1L1O4T4Z3T4S3Z2' found in visited individuals\n",
      "ind.len_max = 12, ind.number_n_visited = 4\n",
      "best_n.fitness = 92.0 ;; ind.fitness = 92.0 ;; diff = 0.0\n",
      "Found plateau on ['I4', 'J1', 'J2', 'I1', 'I3', 'Z1', 'L1', 'Z2', 'L1', 'L4', 'L2', 'Z4', 'T3', 'O2', 'L3', 'L1', 'O4', 'S1', 'L1', 'O4', 'T4', 'Z3', 'T4', 'S3', 'Z2'] and ['I4', 'J1', 'J2', 'I1', 'I3', 'Z1', 'L1', 'Z2', 'L1', 'L4', 'L2', 'Z4', 'O2', 'T3', 'L3', 'L1', 'O4', 'S1', 'L1', 'O4', 'T4', 'Z3', 'T4', 'S3', 'Z2']\n",
      "\n",
      "ind.fitness = 92.0\n",
      "ind_representation_str = 'I4J1J2I1I3Z1L1Z2L1L4L2Z4T3O2L3L1O4S1L1O4T4Z3T4S3Z2'\n",
      "ind.len_max = 12, ind.number_n_visited = 0\n",
      "best_n.fitness = 92.0 ;; ind.fitness = 92.0 ;; diff = 0.0\n",
      "Found plateau on ['I4', 'J1', 'J2', 'I3', 'I1', 'Z1', 'L1', 'Z2', 'L1', 'L4', 'L2', 'Z4', 'T3', 'O2', 'L3', 'L1', 'O4', 'S1', 'L1', 'O4', 'T4', 'Z3', 'T4', 'S3', 'Z2'] and ['I4', 'J1', 'J2', 'I1', 'I3', 'Z1', 'L1', 'Z2', 'L1', 'L4', 'L2', 'Z4', 'T3', 'O2', 'L3', 'L1', 'O4', 'S1', 'L1', 'O4', 'T4', 'Z3', 'T4', 'S3', 'Z2']\n",
      "\n",
      "ind.fitness = 92.0\n",
      "ind_representation_str = 'I4J1J2I3I1Z1L1Z2L1L4L2Z4T3O2L3L1O4S1L1O4T4Z3T4S3Z2'\n",
      "ind.len_max = 12, ind.number_n_visited = 0\n",
      "best_n.fitness = 92.0 ;; ind.fitness = 92.0 ;; diff = 0.0\n",
      "Found plateau on ['I4', 'J1', 'J2', 'I1', 'I3', 'Z1', 'L1', 'Z2', 'L1', 'L4', 'L2', 'Z4', 'T3', 'O2', 'L3', 'L1', 'O4', 'S1', 'L1', 'O4', 'T4', 'Z3', 'T4', 'S3', 'Z2'] and ['I4', 'J1', 'J2', 'I3', 'I1', 'Z1', 'L1', 'Z2', 'L1', 'L4', 'L2', 'Z4', 'T3', 'O2', 'L3', 'L1', 'O4', 'S1', 'L1', 'O4', 'T4', 'Z3', 'T4', 'S3', 'Z2']\n",
      "\n",
      "ind.fitness = 92.0\n",
      "ind_representation_str = 'I4J1J2I1I3Z1L1Z2L1L4L2Z4T3O2L3L1O4S1L1O4T4Z3T4S3Z2' found in visited individuals\n",
      "ind.len_max = 12, ind.number_n_visited = 1\n",
      "best_n.fitness = 92.0 ;; ind.fitness = 92.0 ;; diff = 0.0\n",
      "Found plateau on ['I4', 'J1', 'J2', 'I1', 'I3', 'L1', 'Z1', 'Z2', 'L1', 'L4', 'L2', 'Z4', 'T3', 'O2', 'L3', 'L1', 'O4', 'S1', 'L1', 'O4', 'T4', 'Z3', 'T4', 'S3', 'Z2'] and ['I4', 'J1', 'J2', 'I1', 'I3', 'Z1', 'L1', 'Z2', 'L1', 'L4', 'L2', 'Z4', 'T3', 'O2', 'L3', 'L1', 'O4', 'S1', 'L1', 'O4', 'T4', 'Z3', 'T4', 'S3', 'Z2']\n",
      "\n",
      "ind.fitness = 92.0\n",
      "ind_representation_str = 'I4J1J2I1I3L1Z1Z2L1L4L2Z4T3O2L3L1O4S1L1O4T4Z3T4S3Z2'\n",
      "ind.len_max = 13, ind.number_n_visited = 0\n",
      "best_n.fitness = 92.0 ;; ind.fitness = 92.0 ;; diff = 0.0\n",
      "Found plateau on ['I4', 'J1', 'J2', 'I3', 'I1', 'L1', 'Z1', 'Z2', 'L1', 'L4', 'L2', 'Z4', 'T3', 'O2', 'L3', 'L1', 'O4', 'S1', 'L1', 'O4', 'T4', 'Z3', 'T4', 'S3', 'Z2'] and ['I4', 'J1', 'J2', 'I1', 'I3', 'L1', 'Z1', 'Z2', 'L1', 'L4', 'L2', 'Z4', 'T3', 'O2', 'L3', 'L1', 'O4', 'S1', 'L1', 'O4', 'T4', 'Z3', 'T4', 'S3', 'Z2']\n",
      "\n",
      "ind.fitness = 92.0\n",
      "ind_representation_str = 'I4J1J2I3I1L1Z1Z2L1L4L2Z4T3O2L3L1O4S1L1O4T4Z3T4S3Z2'\n",
      "ind.len_max = 13, ind.number_n_visited = 0\n",
      "best_n.fitness = 92.0 ;; ind.fitness = 92.0 ;; diff = 0.0\n",
      "Found plateau on ['I4', 'J1', 'J2', 'I1', 'I3', 'L1', 'Z1', 'Z2', 'L1', 'L4', 'L2', 'Z4', 'T3', 'O2', 'L3', 'L1', 'O4', 'S1', 'L1', 'O4', 'T4', 'Z3', 'T4', 'S3', 'Z2'] and ['I4', 'J1', 'J2', 'I3', 'I1', 'L1', 'Z1', 'Z2', 'L1', 'L4', 'L2', 'Z4', 'T3', 'O2', 'L3', 'L1', 'O4', 'S1', 'L1', 'O4', 'T4', 'Z3', 'T4', 'S3', 'Z2']\n",
      "\n",
      "ind.fitness = 92.0\n",
      "ind_representation_str = 'I4J1J2I1I3L1Z1Z2L1L4L2Z4T3O2L3L1O4S1L1O4T4Z3T4S3Z2' found in visited individuals\n",
      "ind.len_max = 13, ind.number_n_visited = 1\n",
      "best_n.fitness = 92.0 ;; ind.fitness = 92.0 ;; diff = 0.0\n",
      "Found plateau on ['I4', 'J1', 'J2', 'I1', 'I3', 'Z1', 'L1', 'Z2', 'L1', 'L4', 'L2', 'Z4', 'T3', 'O2', 'L3', 'L1', 'O4', 'S1', 'L1', 'O4', 'T4', 'Z3', 'T4', 'S3', 'Z2'] and ['I4', 'J1', 'J2', 'I1', 'I3', 'L1', 'Z1', 'Z2', 'L1', 'L4', 'L2', 'Z4', 'T3', 'O2', 'L3', 'L1', 'O4', 'S1', 'L1', 'O4', 'T4', 'Z3', 'T4', 'S3', 'Z2']\n",
      "\n",
      "ind.fitness = 92.0\n",
      "ind_representation_str = 'I4J1J2I1I3Z1L1Z2L1L4L2Z4T3O2L3L1O4S1L1O4T4Z3T4S3Z2' found in visited individuals\n",
      "ind.len_max = 12, ind.number_n_visited = 2\n",
      "best_n.fitness = 92.0 ;; ind.fitness = 92.0 ;; diff = 0.0\n",
      "Found plateau on ['I4', 'J1', 'J2', 'I1', 'I3', 'Z1', 'L1', 'Z2', 'L1', 'L2', 'L4', 'Z4', 'T3', 'O2', 'L3', 'L1', 'O4', 'S1', 'L1', 'O4', 'T4', 'Z3', 'T4', 'S3', 'Z2'] and ['I4', 'J1', 'J2', 'I1', 'I3', 'Z1', 'L1', 'Z2', 'L1', 'L4', 'L2', 'Z4', 'T3', 'O2', 'L3', 'L1', 'O4', 'S1', 'L1', 'O4', 'T4', 'Z3', 'T4', 'S3', 'Z2']\n",
      "\n",
      "ind.fitness = 92.0\n",
      "ind_representation_str = 'I4J1J2I1I3Z1L1Z2L1L2L4Z4T3O2L3L1O4S1L1O4T4Z3T4S3Z2'\n",
      "ind.len_max = 13, ind.number_n_visited = 0\n",
      "best_n.fitness = 92.0 ;; ind.fitness = 92.0 ;; diff = 0.0\n",
      "Found plateau on ['I4', 'J1', 'J2', 'I3', 'I1', 'Z1', 'L1', 'Z2', 'L1', 'L2', 'L4', 'Z4', 'T3', 'O2', 'L3', 'L1', 'O4', 'S1', 'L1', 'O4', 'T4', 'Z3', 'T4', 'S3', 'Z2'] and ['I4', 'J1', 'J2', 'I1', 'I3', 'Z1', 'L1', 'Z2', 'L1', 'L2', 'L4', 'Z4', 'T3', 'O2', 'L3', 'L1', 'O4', 'S1', 'L1', 'O4', 'T4', 'Z3', 'T4', 'S3', 'Z2']\n",
      "\n",
      "ind.fitness = 92.0\n",
      "ind_representation_str = 'I4J1J2I3I1Z1L1Z2L1L2L4Z4T3O2L3L1O4S1L1O4T4Z3T4S3Z2'\n",
      "ind.len_max = 13, ind.number_n_visited = 0\n",
      "best_n.fitness = 92.0 ;; ind.fitness = 92.0 ;; diff = 0.0\n",
      "Found plateau on ['I4', 'J1', 'J2', 'I1', 'I3', 'Z1', 'L1', 'Z2', 'L1', 'L2', 'L4', 'Z4', 'T3', 'O2', 'L3', 'L1', 'O4', 'S1', 'L1', 'O4', 'T4', 'Z3', 'T4', 'S3', 'Z2'] and ['I4', 'J1', 'J2', 'I3', 'I1', 'Z1', 'L1', 'Z2', 'L1', 'L2', 'L4', 'Z4', 'T3', 'O2', 'L3', 'L1', 'O4', 'S1', 'L1', 'O4', 'T4', 'Z3', 'T4', 'S3', 'Z2']\n",
      "\n",
      "ind.fitness = 92.0\n",
      "ind_representation_str = 'I4J1J2I1I3Z1L1Z2L1L2L4Z4T3O2L3L1O4S1L1O4T4Z3T4S3Z2' found in visited individuals\n",
      "ind.len_max = 13, ind.number_n_visited = 1\n",
      "best_n.fitness = 92.0 ;; ind.fitness = 92.0 ;; diff = 0.0\n",
      "Found plateau on ['I4', 'J1', 'J2', 'I1', 'I3', 'L1', 'Z1', 'Z2', 'L1', 'L2', 'L4', 'Z4', 'T3', 'O2', 'L3', 'L1', 'O4', 'S1', 'L1', 'O4', 'T4', 'Z3', 'T4', 'S3', 'Z2'] and ['I4', 'J1', 'J2', 'I1', 'I3', 'Z1', 'L1', 'Z2', 'L1', 'L2', 'L4', 'Z4', 'T3', 'O2', 'L3', 'L1', 'O4', 'S1', 'L1', 'O4', 'T4', 'Z3', 'T4', 'S3', 'Z2']\n",
      "\n",
      "ind.fitness = 92.0\n",
      "ind_representation_str = 'I4J1J2I1I3L1Z1Z2L1L2L4Z4T3O2L3L1O4S1L1O4T4Z3T4S3Z2'\n",
      "ind.len_max = 14, ind.number_n_visited = 0\n",
      "best_n.fitness = 92.0 ;; ind.fitness = 92.0 ;; diff = 0.0\n",
      "Found plateau on ['I4', 'J1', 'J2', 'I3', 'I1', 'L1', 'Z1', 'Z2', 'L1', 'L2', 'L4', 'Z4', 'T3', 'O2', 'L3', 'L1', 'O4', 'S1', 'L1', 'O4', 'T4', 'Z3', 'T4', 'S3', 'Z2'] and ['I4', 'J1', 'J2', 'I1', 'I3', 'L1', 'Z1', 'Z2', 'L1', 'L2', 'L4', 'Z4', 'T3', 'O2', 'L3', 'L1', 'O4', 'S1', 'L1', 'O4', 'T4', 'Z3', 'T4', 'S3', 'Z2']\n",
      "\n",
      "ind.fitness = 92.0\n",
      "ind_representation_str = 'I4J1J2I3I1L1Z1Z2L1L2L4Z4T3O2L3L1O4S1L1O4T4Z3T4S3Z2'\n",
      "ind.len_max = 14, ind.number_n_visited = 0\n",
      "best_n.fitness = 92.0 ;; ind.fitness = 92.0 ;; diff = 0.0\n",
      "Found plateau on ['I4', 'J1', 'J2', 'I1', 'I3', 'L1', 'Z1', 'Z2', 'L1', 'L2', 'L4', 'Z4', 'T3', 'O2', 'L3', 'L1', 'O4', 'S1', 'L1', 'O4', 'T4', 'Z3', 'T4', 'S3', 'Z2'] and ['I4', 'J1', 'J2', 'I3', 'I1', 'L1', 'Z1', 'Z2', 'L1', 'L2', 'L4', 'Z4', 'T3', 'O2', 'L3', 'L1', 'O4', 'S1', 'L1', 'O4', 'T4', 'Z3', 'T4', 'S3', 'Z2']\n",
      "\n",
      "ind.fitness = 92.0\n",
      "ind_representation_str = 'I4J1J2I1I3L1Z1Z2L1L2L4Z4T3O2L3L1O4S1L1O4T4Z3T4S3Z2' found in visited individuals\n",
      "ind.len_max = 14, ind.number_n_visited = 1\n",
      "best_n.fitness = 92.0 ;; ind.fitness = 92.0 ;; diff = 0.0\n",
      "Found plateau on ['I4', 'J1', 'J2', 'I1', 'I3', 'Z1', 'L1', 'Z2', 'L1', 'L2', 'L4', 'Z4', 'T3', 'O2', 'L3', 'L1', 'O4', 'S1', 'L1', 'O4', 'T4', 'Z3', 'T4', 'S3', 'Z2'] and ['I4', 'J1', 'J2', 'I1', 'I3', 'L1', 'Z1', 'Z2', 'L1', 'L2', 'L4', 'Z4', 'T3', 'O2', 'L3', 'L1', 'O4', 'S1', 'L1', 'O4', 'T4', 'Z3', 'T4', 'S3', 'Z2']\n",
      "\n",
      "ind.fitness = 92.0\n",
      "ind_representation_str = 'I4J1J2I1I3Z1L1Z2L1L2L4Z4T3O2L3L1O4S1L1O4T4Z3T4S3Z2' found in visited individuals\n",
      "ind.len_max = 13, ind.number_n_visited = 2\n",
      "best_n.fitness = 92.0 ;; ind.fitness = 92.0 ;; diff = 0.0\n",
      "Found plateau on ['I4', 'J1', 'J2', 'I1', 'I3', 'Z1', 'L1', 'L1', 'Z2', 'L2', 'L4', 'Z4', 'T3', 'O2', 'L3', 'L1', 'O4', 'S1', 'L1', 'O4', 'T4', 'Z3', 'T4', 'S3', 'Z2'] and ['I4', 'J1', 'J2', 'I1', 'I3', 'Z1', 'L1', 'Z2', 'L1', 'L2', 'L4', 'Z4', 'T3', 'O2', 'L3', 'L1', 'O4', 'S1', 'L1', 'O4', 'T4', 'Z3', 'T4', 'S3', 'Z2']\n",
      "\n",
      "ind.fitness = 92.0\n",
      "ind_representation_str = 'I4J1J2I1I3Z1L1L1Z2L2L4Z4T3O2L3L1O4S1L1O4T4Z3T4S3Z2'\n",
      "ind.len_max = 11, ind.number_n_visited = 0\n",
      "best_n.fitness = 92.0 ;; ind.fitness = 92.0 ;; diff = 0.0\n",
      "Found plateau on ['I4', 'J1', 'J2', 'I3', 'I1', 'Z1', 'L1', 'L1', 'Z2', 'L2', 'L4', 'Z4', 'T3', 'O2', 'L3', 'L1', 'O4', 'S1', 'L1', 'O4', 'T4', 'Z3', 'T4', 'S3', 'Z2'] and ['I4', 'J1', 'J2', 'I1', 'I3', 'Z1', 'L1', 'L1', 'Z2', 'L2', 'L4', 'Z4', 'T3', 'O2', 'L3', 'L1', 'O4', 'S1', 'L1', 'O4', 'T4', 'Z3', 'T4', 'S3', 'Z2']\n",
      "\n",
      "ind.fitness = 92.0\n",
      "ind_representation_str = 'I4J1J2I3I1Z1L1L1Z2L2L4Z4T3O2L3L1O4S1L1O4T4Z3T4S3Z2'\n",
      "ind.len_max = 11, ind.number_n_visited = 0\n",
      "best_n.fitness = 92.0 ;; ind.fitness = 92.0 ;; diff = 0.0\n",
      "Found plateau on ['I4', 'J1', 'J2', 'I1', 'I3', 'Z1', 'L1', 'L1', 'Z2', 'L2', 'L4', 'Z4', 'T3', 'O2', 'L3', 'L1', 'O4', 'S1', 'L1', 'O4', 'T4', 'Z3', 'T4', 'S3', 'Z2'] and ['I4', 'J1', 'J2', 'I3', 'I1', 'Z1', 'L1', 'L1', 'Z2', 'L2', 'L4', 'Z4', 'T3', 'O2', 'L3', 'L1', 'O4', 'S1', 'L1', 'O4', 'T4', 'Z3', 'T4', 'S3', 'Z2']\n",
      "\n",
      "ind.fitness = 92.0\n",
      "ind_representation_str = 'I4J1J2I1I3Z1L1L1Z2L2L4Z4T3O2L3L1O4S1L1O4T4Z3T4S3Z2' found in visited individuals\n",
      "ind.len_max = 11, ind.number_n_visited = 1\n",
      "best_n.fitness = 92.0 ;; ind.fitness = 92.0 ;; diff = 0.0\n",
      "Found plateau on ['I4', 'J1', 'J2', 'I1', 'I3', 'L1', 'Z1', 'L1', 'Z2', 'L2', 'L4', 'Z4', 'T3', 'O2', 'L3', 'L1', 'O4', 'S1', 'L1', 'O4', 'T4', 'Z3', 'T4', 'S3', 'Z2'] and ['I4', 'J1', 'J2', 'I1', 'I3', 'Z1', 'L1', 'L1', 'Z2', 'L2', 'L4', 'Z4', 'T3', 'O2', 'L3', 'L1', 'O4', 'S1', 'L1', 'O4', 'T4', 'Z3', 'T4', 'S3', 'Z2']\n",
      "\n",
      "ind.fitness = 92.0\n",
      "ind_representation_str = 'I4J1J2I1I3L1Z1L1Z2L2L4Z4T3O2L3L1O4S1L1O4T4Z3T4S3Z2'\n",
      "ind.len_max = 11, ind.number_n_visited = 0\n",
      "best_n.fitness = 92.0 ;; ind.fitness = 92.0 ;; diff = 0.0\n",
      "Found plateau on ['I4', 'J1', 'J2', 'I3', 'I1', 'L1', 'Z1', 'L1', 'Z2', 'L2', 'L4', 'Z4', 'T3', 'O2', 'L3', 'L1', 'O4', 'S1', 'L1', 'O4', 'T4', 'Z3', 'T4', 'S3', 'Z2'] and ['I4', 'J1', 'J2', 'I1', 'I3', 'L1', 'Z1', 'L1', 'Z2', 'L2', 'L4', 'Z4', 'T3', 'O2', 'L3', 'L1', 'O4', 'S1', 'L1', 'O4', 'T4', 'Z3', 'T4', 'S3', 'Z2']\n",
      "\n",
      "ind.fitness = 92.0\n",
      "ind_representation_str = 'I4J1J2I3I1L1Z1L1Z2L2L4Z4T3O2L3L1O4S1L1O4T4Z3T4S3Z2'\n",
      "ind.len_max = 11, ind.number_n_visited = 0\n",
      "best_n.fitness = 92.0 ;; ind.fitness = 92.0 ;; diff = 0.0\n",
      "Found plateau on ['I4', 'J1', 'J2', 'I1', 'I3', 'L1', 'Z1', 'L1', 'Z2', 'L2', 'L4', 'Z4', 'T3', 'O2', 'L3', 'L1', 'O4', 'S1', 'L1', 'O4', 'T4', 'Z3', 'T4', 'S3', 'Z2'] and ['I4', 'J1', 'J2', 'I3', 'I1', 'L1', 'Z1', 'L1', 'Z2', 'L2', 'L4', 'Z4', 'T3', 'O2', 'L3', 'L1', 'O4', 'S1', 'L1', 'O4', 'T4', 'Z3', 'T4', 'S3', 'Z2']\n",
      "\n",
      "ind.fitness = 92.0\n",
      "ind_representation_str = 'I4J1J2I1I3L1Z1L1Z2L2L4Z4T3O2L3L1O4S1L1O4T4Z3T4S3Z2' found in visited individuals\n",
      "ind.len_max = 11, ind.number_n_visited = 1\n",
      "best_n.fitness = 92.0 ;; ind.fitness = 92.0 ;; diff = 0.0\n",
      "Found plateau on ['I4', 'J1', 'J2', 'I1', 'I3', 'Z1', 'L1', 'L1', 'Z2', 'L2', 'L4', 'Z4', 'T3', 'O2', 'L3', 'L1', 'O4', 'S1', 'L1', 'O4', 'T4', 'Z3', 'T4', 'S3', 'Z2'] and ['I4', 'J1', 'J2', 'I1', 'I3', 'L1', 'Z1', 'L1', 'Z2', 'L2', 'L4', 'Z4', 'T3', 'O2', 'L3', 'L1', 'O4', 'S1', 'L1', 'O4', 'T4', 'Z3', 'T4', 'S3', 'Z2']\n",
      "\n",
      "ind.fitness = 92.0\n",
      "ind_representation_str = 'I4J1J2I1I3Z1L1L1Z2L2L4Z4T3O2L3L1O4S1L1O4T4Z3T4S3Z2' found in visited individuals\n",
      "ind.len_max = 11, ind.number_n_visited = 2\n",
      "best_n.fitness = 92.0 ;; ind.fitness = 92.0 ;; diff = 0.0\n",
      "Found plateau on ['I4', 'J1', 'J2', 'I1', 'I3', 'Z1', 'L1', 'L1', 'Z2', 'L2', 'L4', 'Z4', 'T3', 'O2', 'L3', 'L1', 'O4', 'S1', 'L1', 'O4', 'T4', 'Z3', 'T4', 'S3', 'Z2'] and ['I4', 'J1', 'J2', 'I1', 'I3', 'Z1', 'L1', 'L1', 'Z2', 'L2', 'L4', 'Z4', 'T3', 'O2', 'L3', 'L1', 'O4', 'S1', 'L1', 'O4', 'T4', 'Z3', 'T4', 'S3', 'Z2']\n",
      "\n",
      "ind.fitness = 92.0\n",
      "ind_representation_str = 'I4J1J2I1I3Z1L1L1Z2L2L4Z4T3O2L3L1O4S1L1O4T4Z3T4S3Z2' found in visited individuals\n",
      "ind.len_max = 11, ind.number_n_visited = 3\n",
      "best_n.fitness = 92.0 ;; ind.fitness = 92.0 ;; diff = 0.0\n",
      "Found plateau on ['I4', 'J1', 'J2', 'I1', 'I3', 'Z1', 'L1', 'Z2', 'L1', 'L2', 'L4', 'Z4', 'T3', 'O2', 'L3', 'L1', 'O4', 'S1', 'L1', 'O4', 'T4', 'Z3', 'T4', 'S3', 'Z2'] and ['I4', 'J1', 'J2', 'I1', 'I3', 'Z1', 'L1', 'L1', 'Z2', 'L2', 'L4', 'Z4', 'T3', 'O2', 'L3', 'L1', 'O4', 'S1', 'L1', 'O4', 'T4', 'Z3', 'T4', 'S3', 'Z2']\n",
      "\n",
      "ind.fitness = 92.0\n",
      "ind_representation_str = 'I4J1J2I1I3Z1L1Z2L1L2L4Z4T3O2L3L1O4S1L1O4T4Z3T4S3Z2' found in visited individuals\n",
      "ind.len_max = 13, ind.number_n_visited = 3\n",
      "best_n.fitness = 92.0 ;; ind.fitness = 92.0 ;; diff = 0.0\n",
      "Found plateau on ['I4', 'J1', 'J2', 'I1', 'I3', 'Z1', 'L1', 'Z2', 'L1', 'L4', 'L2', 'Z4', 'T3', 'O2', 'L3', 'L1', 'O4', 'S1', 'L1', 'O4', 'T4', 'Z3', 'T4', 'S3', 'Z2'] and ['I4', 'J1', 'J2', 'I1', 'I3', 'Z1', 'L1', 'Z2', 'L1', 'L2', 'L4', 'Z4', 'T3', 'O2', 'L3', 'L1', 'O4', 'S1', 'L1', 'O4', 'T4', 'Z3', 'T4', 'S3', 'Z2']\n",
      "\n",
      "ind.fitness = 92.0\n",
      "ind_representation_str = 'I4J1J2I1I3Z1L1Z2L1L4L2Z4T3O2L3L1O4S1L1O4T4Z3T4S3Z2' found in visited individuals\n",
      "ind.len_max = 12, ind.number_n_visited = 3\n",
      "best_n.fitness = 92.0 ;; ind.fitness = 92.0 ;; diff = 0.0\n",
      "Found plateau on ['I4', 'J1', 'J2', 'I1', 'I3', 'Z1', 'L1', 'Z2', 'L1', 'L4', 'L2', 'T3', 'Z4', 'O2', 'L3', 'L1', 'O4', 'S1', 'L1', 'O4', 'T4', 'Z3', 'T4', 'S3', 'Z2'] and ['I4', 'J1', 'J2', 'I1', 'I3', 'Z1', 'L1', 'Z2', 'L1', 'L4', 'L2', 'Z4', 'T3', 'O2', 'L3', 'L1', 'O4', 'S1', 'L1', 'O4', 'T4', 'Z3', 'T4', 'S3', 'Z2']\n",
      "\n",
      "ind.fitness = 92.0\n",
      "ind_representation_str = 'I4J1J2I1I3Z1L1Z2L1L4L2T3Z4O2L3L1O4S1L1O4T4Z3T4S3Z2'\n",
      "ind.len_max = 13, ind.number_n_visited = 0\n",
      "best_n.fitness = 92.0 ;; ind.fitness = 92.0 ;; diff = 0.0\n",
      "Found plateau on ['I4', 'J1', 'J2', 'I3', 'I1', 'Z1', 'L1', 'Z2', 'L1', 'L4', 'L2', 'T3', 'Z4', 'O2', 'L3', 'L1', 'O4', 'S1', 'L1', 'O4', 'T4', 'Z3', 'T4', 'S3', 'Z2'] and ['I4', 'J1', 'J2', 'I1', 'I3', 'Z1', 'L1', 'Z2', 'L1', 'L4', 'L2', 'T3', 'Z4', 'O2', 'L3', 'L1', 'O4', 'S1', 'L1', 'O4', 'T4', 'Z3', 'T4', 'S3', 'Z2']\n",
      "\n",
      "ind.fitness = 92.0\n",
      "ind_representation_str = 'I4J1J2I3I1Z1L1Z2L1L4L2T3Z4O2L3L1O4S1L1O4T4Z3T4S3Z2'\n",
      "ind.len_max = 13, ind.number_n_visited = 0\n",
      "best_n.fitness = 92.0 ;; ind.fitness = 92.0 ;; diff = 0.0\n",
      "Found plateau on ['I4', 'J1', 'J2', 'I1', 'I3', 'Z1', 'L1', 'Z2', 'L1', 'L4', 'L2', 'T3', 'Z4', 'O2', 'L3', 'L1', 'O4', 'S1', 'L1', 'O4', 'T4', 'Z3', 'T4', 'S3', 'Z2'] and ['I4', 'J1', 'J2', 'I3', 'I1', 'Z1', 'L1', 'Z2', 'L1', 'L4', 'L2', 'T3', 'Z4', 'O2', 'L3', 'L1', 'O4', 'S1', 'L1', 'O4', 'T4', 'Z3', 'T4', 'S3', 'Z2']\n",
      "\n",
      "ind.fitness = 92.0\n",
      "ind_representation_str = 'I4J1J2I1I3Z1L1Z2L1L4L2T3Z4O2L3L1O4S1L1O4T4Z3T4S3Z2' found in visited individuals\n",
      "ind.len_max = 13, ind.number_n_visited = 1\n",
      "best_n.fitness = 92.0 ;; ind.fitness = 92.0 ;; diff = 0.0\n",
      "Found plateau on ['I4', 'J1', 'J2', 'I1', 'I3', 'L1', 'Z1', 'Z2', 'L1', 'L4', 'L2', 'T3', 'Z4', 'O2', 'L3', 'L1', 'O4', 'S1', 'L1', 'O4', 'T4', 'Z3', 'T4', 'S3', 'Z2'] and ['I4', 'J1', 'J2', 'I1', 'I3', 'Z1', 'L1', 'Z2', 'L1', 'L4', 'L2', 'T3', 'Z4', 'O2', 'L3', 'L1', 'O4', 'S1', 'L1', 'O4', 'T4', 'Z3', 'T4', 'S3', 'Z2']\n",
      "\n",
      "ind.fitness = 92.0\n",
      "ind_representation_str = 'I4J1J2I1I3L1Z1Z2L1L4L2T3Z4O2L3L1O4S1L1O4T4Z3T4S3Z2'\n",
      "ind.len_max = 14, ind.number_n_visited = 0\n",
      "best_n.fitness = 92.0 ;; ind.fitness = 92.0 ;; diff = 0.0\n",
      "Found plateau on ['I4', 'J1', 'J2', 'I3', 'I1', 'L1', 'Z1', 'Z2', 'L1', 'L4', 'L2', 'T3', 'Z4', 'O2', 'L3', 'L1', 'O4', 'S1', 'L1', 'O4', 'T4', 'Z3', 'T4', 'S3', 'Z2'] and ['I4', 'J1', 'J2', 'I1', 'I3', 'L1', 'Z1', 'Z2', 'L1', 'L4', 'L2', 'T3', 'Z4', 'O2', 'L3', 'L1', 'O4', 'S1', 'L1', 'O4', 'T4', 'Z3', 'T4', 'S3', 'Z2']\n",
      "\n",
      "ind.fitness = 92.0\n",
      "ind_representation_str = 'I4J1J2I3I1L1Z1Z2L1L4L2T3Z4O2L3L1O4S1L1O4T4Z3T4S3Z2'\n",
      "ind.len_max = 14, ind.number_n_visited = 0\n",
      "best_n.fitness = 92.0 ;; ind.fitness = 92.0 ;; diff = 0.0\n",
      "Found plateau on ['I4', 'J1', 'J2', 'I1', 'I3', 'L1', 'Z1', 'Z2', 'L1', 'L4', 'L2', 'T3', 'Z4', 'O2', 'L3', 'L1', 'O4', 'S1', 'L1', 'O4', 'T4', 'Z3', 'T4', 'S3', 'Z2'] and ['I4', 'J1', 'J2', 'I3', 'I1', 'L1', 'Z1', 'Z2', 'L1', 'L4', 'L2', 'T3', 'Z4', 'O2', 'L3', 'L1', 'O4', 'S1', 'L1', 'O4', 'T4', 'Z3', 'T4', 'S3', 'Z2']\n",
      "\n",
      "ind.fitness = 92.0\n",
      "ind_representation_str = 'I4J1J2I1I3L1Z1Z2L1L4L2T3Z4O2L3L1O4S1L1O4T4Z3T4S3Z2' found in visited individuals\n",
      "ind.len_max = 14, ind.number_n_visited = 1\n",
      "best_n.fitness = 92.0 ;; ind.fitness = 92.0 ;; diff = 0.0\n",
      "Found plateau on ['I4', 'J1', 'J2', 'I1', 'I3', 'Z1', 'L1', 'Z2', 'L1', 'L4', 'L2', 'T3', 'Z4', 'O2', 'L3', 'L1', 'O4', 'S1', 'L1', 'O4', 'T4', 'Z3', 'T4', 'S3', 'Z2'] and ['I4', 'J1', 'J2', 'I1', 'I3', 'L1', 'Z1', 'Z2', 'L1', 'L4', 'L2', 'T3', 'Z4', 'O2', 'L3', 'L1', 'O4', 'S1', 'L1', 'O4', 'T4', 'Z3', 'T4', 'S3', 'Z2']\n",
      "\n",
      "ind.fitness = 92.0\n",
      "ind_representation_str = 'I4J1J2I1I3Z1L1Z2L1L4L2T3Z4O2L3L1O4S1L1O4T4Z3T4S3Z2' found in visited individuals\n",
      "ind.len_max = 13, ind.number_n_visited = 2\n",
      "best_n.fitness = 92.0 ;; ind.fitness = 92.0 ;; diff = 0.0\n"
     ]
    }
   ],
   "source": [
    "hill_climb(pop, True)"
   ]
  },
  {
   "cell_type": "code",
   "execution_count": 14,
   "metadata": {},
   "outputs": [],
   "source": [
    "grid, pieces_coordinates = tetrimino_fitter(pop.individuals[0].representation, grid_shape)"
   ]
  },
  {
   "cell_type": "code",
   "execution_count": 15,
   "metadata": {},
   "outputs": [
    {
     "data": {
      "application/vnd.plotly.v1+json": {
       "config": {
        "plotlyServerURL": "https://plot.ly"
       },
       "data": [
        {
         "marker": {
          "size": 50,
          "symbol": "square"
         },
         "mode": "markers",
         "type": "scatter",
         "x": [
          0,
          1,
          2,
          3
         ],
         "y": [
          0,
          0,
          0,
          0
         ]
        },
        {
         "marker": {
          "size": 50,
          "symbol": "square"
         },
         "mode": "markers",
         "type": "scatter",
         "x": [
          1,
          1,
          1,
          0
         ],
         "y": [
          3,
          2,
          1,
          1
         ]
        },
        {
         "marker": {
          "size": 50,
          "symbol": "square"
         },
         "mode": "markers",
         "type": "scatter",
         "x": [
          2,
          1,
          0,
          0
         ],
         "y": [
          4,
          4,
          4,
          5
         ]
        },
        {
         "marker": {
          "size": 50,
          "symbol": "square"
         },
         "mode": "markers",
         "type": "scatter",
         "x": [
          0,
          0,
          0,
          0
         ],
         "y": [
          9,
          8,
          7,
          6
         ]
        },
        {
         "marker": {
          "size": 50,
          "symbol": "square"
         },
         "mode": "markers",
         "type": "scatter",
         "x": [
          1,
          1,
          1,
          1
         ],
         "y": [
          5,
          6,
          7,
          8
         ]
        },
        {
         "marker": {
          "size": 50,
          "symbol": "square"
         },
         "mode": "markers",
         "type": "scatter",
         "x": [
          2,
          2,
          3,
          1
         ],
         "y": [
          9,
          8,
          8,
          9
         ]
        },
        {
         "marker": {
          "size": 50,
          "symbol": "square"
         },
         "mode": "markers",
         "type": "scatter",
         "x": [
          2,
          2,
          2,
          3
         ],
         "y": [
          3,
          2,
          1,
          1
         ]
        },
        {
         "marker": {
          "size": 50,
          "symbol": "square"
         },
         "mode": "markers",
         "type": "scatter",
         "x": [
          3,
          2,
          2,
          3
         ],
         "y": [
          6,
          6,
          5,
          7
         ]
        },
        {
         "marker": {
          "size": 50,
          "symbol": "square"
         },
         "mode": "markers",
         "type": "scatter",
         "x": [
          3,
          3,
          3,
          4
         ],
         "y": [
          4,
          3,
          2,
          2
         ]
        },
        {
         "marker": {
          "size": 50,
          "symbol": "square"
         },
         "mode": "markers",
         "type": "scatter",
         "x": [
          3,
          4,
          5,
          5
         ],
         "y": [
          5,
          5,
          5,
          6
         ]
        },
        {
         "marker": {
          "size": 50,
          "symbol": "square"
         },
         "mode": "markers",
         "type": "scatter",
         "x": [
          6,
          5,
          4,
          4
         ],
         "y": [
          1,
          1,
          1,
          0
         ]
        },
        {
         "marker": {
          "size": 50,
          "symbol": "square"
         },
         "mode": "markers",
         "type": "scatter",
         "x": [
          4,
          4,
          5,
          3
         ],
         "y": [
          8,
          9,
          9,
          9
         ]
        },
        {
         "marker": {
          "size": 50,
          "symbol": "square"
         },
         "mode": "markers",
         "type": "scatter",
         "x": [
          4,
          5,
          5,
          4
         ],
         "y": [
          7,
          7,
          8,
          6
         ]
        },
        {
         "marker": {
          "size": 50,
          "symbol": "square"
         },
         "mode": "markers",
         "type": "scatter",
         "x": [
          5,
          4,
          5,
          4
         ],
         "y": [
          4,
          4,
          3,
          3
         ]
        },
        {
         "marker": {
          "size": 50,
          "symbol": "square"
         },
         "mode": "markers",
         "type": "scatter",
         "x": [
          7,
          7,
          7,
          6
         ],
         "y": [
          0,
          1,
          2,
          2
         ]
        },
        {
         "marker": {
          "size": 50,
          "symbol": "square"
         },
         "mode": "markers",
         "type": "scatter",
         "x": [
          6,
          6,
          6,
          7
         ],
         "y": [
          5,
          4,
          3,
          3
         ]
        },
        {
         "marker": {
          "size": 50,
          "symbol": "square"
         },
         "mode": "markers",
         "type": "scatter",
         "x": [
          6,
          7,
          6,
          7
         ],
         "y": [
          6,
          6,
          7,
          7
         ]
        },
        {
         "marker": {
          "size": 50,
          "symbol": "square"
         },
         "mode": "markers",
         "type": "scatter",
         "x": [
          7,
          7,
          6,
          8
         ],
         "y": [
          9,
          8,
          8,
          9
         ]
        },
        {
         "marker": {
          "size": 50,
          "symbol": "square"
         },
         "mode": "markers",
         "type": "scatter",
         "x": [
          8,
          8,
          8,
          9
         ],
         "y": [
          2,
          1,
          0,
          0
         ]
        },
        {
         "marker": {
          "size": 50,
          "symbol": "square"
         },
         "mode": "markers",
         "type": "scatter",
         "x": [
          7,
          8,
          7,
          8
         ],
         "y": [
          4,
          4,
          5,
          5
         ]
        },
        {
         "marker": {
          "size": 50,
          "symbol": "square"
         },
         "mode": "markers",
         "type": "scatter",
         "x": [
          8,
          9,
          9,
          9
         ],
         "y": [
          3,
          3,
          2,
          4
         ]
        },
        {
         "marker": {
          "size": 50,
          "symbol": "square"
         },
         "mode": "markers",
         "type": "scatter",
         "x": [
          8,
          9,
          9,
          9
         ],
         "y": [
          6,
          6,
          5,
          7
         ]
        },
        {
         "marker": {
          "size": 50,
          "symbol": "square"
         },
         "mode": "markers",
         "type": "scatter",
         "x": [
          9,
          8,
          8,
          9
         ],
         "y": [
          8,
          8,
          7,
          9
         ]
        }
       ],
       "layout": {
        "height": 800,
        "template": {
         "data": {
          "bar": [
           {
            "error_x": {
             "color": "#2a3f5f"
            },
            "error_y": {
             "color": "#2a3f5f"
            },
            "marker": {
             "line": {
              "color": "#E5ECF6",
              "width": 0.5
             }
            },
            "type": "bar"
           }
          ],
          "barpolar": [
           {
            "marker": {
             "line": {
              "color": "#E5ECF6",
              "width": 0.5
             }
            },
            "type": "barpolar"
           }
          ],
          "carpet": [
           {
            "aaxis": {
             "endlinecolor": "#2a3f5f",
             "gridcolor": "white",
             "linecolor": "white",
             "minorgridcolor": "white",
             "startlinecolor": "#2a3f5f"
            },
            "baxis": {
             "endlinecolor": "#2a3f5f",
             "gridcolor": "white",
             "linecolor": "white",
             "minorgridcolor": "white",
             "startlinecolor": "#2a3f5f"
            },
            "type": "carpet"
           }
          ],
          "choropleth": [
           {
            "colorbar": {
             "outlinewidth": 0,
             "ticks": ""
            },
            "type": "choropleth"
           }
          ],
          "contour": [
           {
            "colorbar": {
             "outlinewidth": 0,
             "ticks": ""
            },
            "colorscale": [
             [
              0,
              "#0d0887"
             ],
             [
              0.1111111111111111,
              "#46039f"
             ],
             [
              0.2222222222222222,
              "#7201a8"
             ],
             [
              0.3333333333333333,
              "#9c179e"
             ],
             [
              0.4444444444444444,
              "#bd3786"
             ],
             [
              0.5555555555555556,
              "#d8576b"
             ],
             [
              0.6666666666666666,
              "#ed7953"
             ],
             [
              0.7777777777777778,
              "#fb9f3a"
             ],
             [
              0.8888888888888888,
              "#fdca26"
             ],
             [
              1,
              "#f0f921"
             ]
            ],
            "type": "contour"
           }
          ],
          "contourcarpet": [
           {
            "colorbar": {
             "outlinewidth": 0,
             "ticks": ""
            },
            "type": "contourcarpet"
           }
          ],
          "heatmap": [
           {
            "colorbar": {
             "outlinewidth": 0,
             "ticks": ""
            },
            "colorscale": [
             [
              0,
              "#0d0887"
             ],
             [
              0.1111111111111111,
              "#46039f"
             ],
             [
              0.2222222222222222,
              "#7201a8"
             ],
             [
              0.3333333333333333,
              "#9c179e"
             ],
             [
              0.4444444444444444,
              "#bd3786"
             ],
             [
              0.5555555555555556,
              "#d8576b"
             ],
             [
              0.6666666666666666,
              "#ed7953"
             ],
             [
              0.7777777777777778,
              "#fb9f3a"
             ],
             [
              0.8888888888888888,
              "#fdca26"
             ],
             [
              1,
              "#f0f921"
             ]
            ],
            "type": "heatmap"
           }
          ],
          "heatmapgl": [
           {
            "colorbar": {
             "outlinewidth": 0,
             "ticks": ""
            },
            "colorscale": [
             [
              0,
              "#0d0887"
             ],
             [
              0.1111111111111111,
              "#46039f"
             ],
             [
              0.2222222222222222,
              "#7201a8"
             ],
             [
              0.3333333333333333,
              "#9c179e"
             ],
             [
              0.4444444444444444,
              "#bd3786"
             ],
             [
              0.5555555555555556,
              "#d8576b"
             ],
             [
              0.6666666666666666,
              "#ed7953"
             ],
             [
              0.7777777777777778,
              "#fb9f3a"
             ],
             [
              0.8888888888888888,
              "#fdca26"
             ],
             [
              1,
              "#f0f921"
             ]
            ],
            "type": "heatmapgl"
           }
          ],
          "histogram": [
           {
            "marker": {
             "colorbar": {
              "outlinewidth": 0,
              "ticks": ""
             }
            },
            "type": "histogram"
           }
          ],
          "histogram2d": [
           {
            "colorbar": {
             "outlinewidth": 0,
             "ticks": ""
            },
            "colorscale": [
             [
              0,
              "#0d0887"
             ],
             [
              0.1111111111111111,
              "#46039f"
             ],
             [
              0.2222222222222222,
              "#7201a8"
             ],
             [
              0.3333333333333333,
              "#9c179e"
             ],
             [
              0.4444444444444444,
              "#bd3786"
             ],
             [
              0.5555555555555556,
              "#d8576b"
             ],
             [
              0.6666666666666666,
              "#ed7953"
             ],
             [
              0.7777777777777778,
              "#fb9f3a"
             ],
             [
              0.8888888888888888,
              "#fdca26"
             ],
             [
              1,
              "#f0f921"
             ]
            ],
            "type": "histogram2d"
           }
          ],
          "histogram2dcontour": [
           {
            "colorbar": {
             "outlinewidth": 0,
             "ticks": ""
            },
            "colorscale": [
             [
              0,
              "#0d0887"
             ],
             [
              0.1111111111111111,
              "#46039f"
             ],
             [
              0.2222222222222222,
              "#7201a8"
             ],
             [
              0.3333333333333333,
              "#9c179e"
             ],
             [
              0.4444444444444444,
              "#bd3786"
             ],
             [
              0.5555555555555556,
              "#d8576b"
             ],
             [
              0.6666666666666666,
              "#ed7953"
             ],
             [
              0.7777777777777778,
              "#fb9f3a"
             ],
             [
              0.8888888888888888,
              "#fdca26"
             ],
             [
              1,
              "#f0f921"
             ]
            ],
            "type": "histogram2dcontour"
           }
          ],
          "mesh3d": [
           {
            "colorbar": {
             "outlinewidth": 0,
             "ticks": ""
            },
            "type": "mesh3d"
           }
          ],
          "parcoords": [
           {
            "line": {
             "colorbar": {
              "outlinewidth": 0,
              "ticks": ""
             }
            },
            "type": "parcoords"
           }
          ],
          "pie": [
           {
            "automargin": true,
            "type": "pie"
           }
          ],
          "scatter": [
           {
            "marker": {
             "colorbar": {
              "outlinewidth": 0,
              "ticks": ""
             }
            },
            "type": "scatter"
           }
          ],
          "scatter3d": [
           {
            "line": {
             "colorbar": {
              "outlinewidth": 0,
              "ticks": ""
             }
            },
            "marker": {
             "colorbar": {
              "outlinewidth": 0,
              "ticks": ""
             }
            },
            "type": "scatter3d"
           }
          ],
          "scattercarpet": [
           {
            "marker": {
             "colorbar": {
              "outlinewidth": 0,
              "ticks": ""
             }
            },
            "type": "scattercarpet"
           }
          ],
          "scattergeo": [
           {
            "marker": {
             "colorbar": {
              "outlinewidth": 0,
              "ticks": ""
             }
            },
            "type": "scattergeo"
           }
          ],
          "scattergl": [
           {
            "marker": {
             "colorbar": {
              "outlinewidth": 0,
              "ticks": ""
             }
            },
            "type": "scattergl"
           }
          ],
          "scattermapbox": [
           {
            "marker": {
             "colorbar": {
              "outlinewidth": 0,
              "ticks": ""
             }
            },
            "type": "scattermapbox"
           }
          ],
          "scatterpolar": [
           {
            "marker": {
             "colorbar": {
              "outlinewidth": 0,
              "ticks": ""
             }
            },
            "type": "scatterpolar"
           }
          ],
          "scatterpolargl": [
           {
            "marker": {
             "colorbar": {
              "outlinewidth": 0,
              "ticks": ""
             }
            },
            "type": "scatterpolargl"
           }
          ],
          "scatterternary": [
           {
            "marker": {
             "colorbar": {
              "outlinewidth": 0,
              "ticks": ""
             }
            },
            "type": "scatterternary"
           }
          ],
          "surface": [
           {
            "colorbar": {
             "outlinewidth": 0,
             "ticks": ""
            },
            "colorscale": [
             [
              0,
              "#0d0887"
             ],
             [
              0.1111111111111111,
              "#46039f"
             ],
             [
              0.2222222222222222,
              "#7201a8"
             ],
             [
              0.3333333333333333,
              "#9c179e"
             ],
             [
              0.4444444444444444,
              "#bd3786"
             ],
             [
              0.5555555555555556,
              "#d8576b"
             ],
             [
              0.6666666666666666,
              "#ed7953"
             ],
             [
              0.7777777777777778,
              "#fb9f3a"
             ],
             [
              0.8888888888888888,
              "#fdca26"
             ],
             [
              1,
              "#f0f921"
             ]
            ],
            "type": "surface"
           }
          ],
          "table": [
           {
            "cells": {
             "fill": {
              "color": "#EBF0F8"
             },
             "line": {
              "color": "white"
             }
            },
            "header": {
             "fill": {
              "color": "#C8D4E3"
             },
             "line": {
              "color": "white"
             }
            },
            "type": "table"
           }
          ]
         },
         "layout": {
          "annotationdefaults": {
           "arrowcolor": "#2a3f5f",
           "arrowhead": 0,
           "arrowwidth": 1
          },
          "autotypenumbers": "strict",
          "coloraxis": {
           "colorbar": {
            "outlinewidth": 0,
            "ticks": ""
           }
          },
          "colorscale": {
           "diverging": [
            [
             0,
             "#8e0152"
            ],
            [
             0.1,
             "#c51b7d"
            ],
            [
             0.2,
             "#de77ae"
            ],
            [
             0.3,
             "#f1b6da"
            ],
            [
             0.4,
             "#fde0ef"
            ],
            [
             0.5,
             "#f7f7f7"
            ],
            [
             0.6,
             "#e6f5d0"
            ],
            [
             0.7,
             "#b8e186"
            ],
            [
             0.8,
             "#7fbc41"
            ],
            [
             0.9,
             "#4d9221"
            ],
            [
             1,
             "#276419"
            ]
           ],
           "sequential": [
            [
             0,
             "#0d0887"
            ],
            [
             0.1111111111111111,
             "#46039f"
            ],
            [
             0.2222222222222222,
             "#7201a8"
            ],
            [
             0.3333333333333333,
             "#9c179e"
            ],
            [
             0.4444444444444444,
             "#bd3786"
            ],
            [
             0.5555555555555556,
             "#d8576b"
            ],
            [
             0.6666666666666666,
             "#ed7953"
            ],
            [
             0.7777777777777778,
             "#fb9f3a"
            ],
            [
             0.8888888888888888,
             "#fdca26"
            ],
            [
             1,
             "#f0f921"
            ]
           ],
           "sequentialminus": [
            [
             0,
             "#0d0887"
            ],
            [
             0.1111111111111111,
             "#46039f"
            ],
            [
             0.2222222222222222,
             "#7201a8"
            ],
            [
             0.3333333333333333,
             "#9c179e"
            ],
            [
             0.4444444444444444,
             "#bd3786"
            ],
            [
             0.5555555555555556,
             "#d8576b"
            ],
            [
             0.6666666666666666,
             "#ed7953"
            ],
            [
             0.7777777777777778,
             "#fb9f3a"
            ],
            [
             0.8888888888888888,
             "#fdca26"
            ],
            [
             1,
             "#f0f921"
            ]
           ]
          },
          "colorway": [
           "#636efa",
           "#EF553B",
           "#00cc96",
           "#ab63fa",
           "#FFA15A",
           "#19d3f3",
           "#FF6692",
           "#B6E880",
           "#FF97FF",
           "#FECB52"
          ],
          "font": {
           "color": "#2a3f5f"
          },
          "geo": {
           "bgcolor": "white",
           "lakecolor": "white",
           "landcolor": "#E5ECF6",
           "showlakes": true,
           "showland": true,
           "subunitcolor": "white"
          },
          "hoverlabel": {
           "align": "left"
          },
          "hovermode": "closest",
          "mapbox": {
           "style": "light"
          },
          "paper_bgcolor": "white",
          "plot_bgcolor": "#E5ECF6",
          "polar": {
           "angularaxis": {
            "gridcolor": "white",
            "linecolor": "white",
            "ticks": ""
           },
           "bgcolor": "#E5ECF6",
           "radialaxis": {
            "gridcolor": "white",
            "linecolor": "white",
            "ticks": ""
           }
          },
          "scene": {
           "xaxis": {
            "backgroundcolor": "#E5ECF6",
            "gridcolor": "white",
            "gridwidth": 2,
            "linecolor": "white",
            "showbackground": true,
            "ticks": "",
            "zerolinecolor": "white"
           },
           "yaxis": {
            "backgroundcolor": "#E5ECF6",
            "gridcolor": "white",
            "gridwidth": 2,
            "linecolor": "white",
            "showbackground": true,
            "ticks": "",
            "zerolinecolor": "white"
           },
           "zaxis": {
            "backgroundcolor": "#E5ECF6",
            "gridcolor": "white",
            "gridwidth": 2,
            "linecolor": "white",
            "showbackground": true,
            "ticks": "",
            "zerolinecolor": "white"
           }
          },
          "shapedefaults": {
           "line": {
            "color": "#2a3f5f"
           }
          },
          "ternary": {
           "aaxis": {
            "gridcolor": "white",
            "linecolor": "white",
            "ticks": ""
           },
           "baxis": {
            "gridcolor": "white",
            "linecolor": "white",
            "ticks": ""
           },
           "bgcolor": "#E5ECF6",
           "caxis": {
            "gridcolor": "white",
            "linecolor": "white",
            "ticks": ""
           }
          },
          "title": {
           "x": 0.05
          },
          "xaxis": {
           "automargin": true,
           "gridcolor": "white",
           "linecolor": "white",
           "ticks": "",
           "title": {
            "standoff": 15
           },
           "zerolinecolor": "white",
           "zerolinewidth": 2
          },
          "yaxis": {
           "automargin": true,
           "gridcolor": "white",
           "linecolor": "white",
           "ticks": "",
           "title": {
            "standoff": 15
           },
           "zerolinecolor": "white",
           "zerolinewidth": 2
          }
         }
        },
        "width": 800,
        "xaxis": {
         "range": [
          -0.5,
          9.5
         ],
         "tickfont": {
          "size": 12
         }
        },
        "yaxis": {
         "fixedrange": true,
         "range": [
          -0.5,
          9.5
         ]
        }
       }
      }
     },
     "metadata": {},
     "output_type": "display_data"
    }
   ],
   "source": [
    "fig = go.Figure(\n",
    "    data=[\n",
    "        go.Scatter(\n",
    "            x=pieces_coordinates[i][:, 0],\n",
    "            y=pieces_coordinates[i][:, 1],\n",
    "            marker_size=50,\n",
    "            marker_symbol=\"square\",\n",
    "            mode=\"markers\",\n",
    "        )\n",
    "        for i in range(len(pieces_coordinates))\n",
    "    ],\n",
    "    layout=dict(\n",
    "        width=800,\n",
    "        height=800,\n",
    "        yaxis=dict(\n",
    "            range=[-0.5, grid.shape[1]-.5],\n",
    "            fixedrange=True,\n",
    "        ),\n",
    "        xaxis=dict(\n",
    "            range=[-0.5, grid.shape[0]-.5],\n",
    "            tickfont_size=12,\n",
    "        ),\n",
    "    ),\n",
    ")\n",
    "fig.show()"
   ]
  },
  {
   "cell_type": "code",
   "execution_count": null,
   "metadata": {},
   "outputs": [],
   "source": []
  }
 ],
 "metadata": {
  "interpreter": {
   "hash": "2c4f2e9e15b567a0842db5150f86c99ceb8bc3e0d4f7509559569966cbc05143"
  },
  "kernelspec": {
   "display_name": "Python 3.9.4 64-bit ('miniconda3': virtualenv)",
   "name": "python3"
  },
  "language_info": {
   "codemirror_mode": {
    "name": "ipython",
    "version": 3
   },
   "file_extension": ".py",
   "mimetype": "text/x-python",
   "name": "python",
   "nbconvert_exporter": "python",
   "pygments_lexer": "ipython3",
   "version": "3.9.4"
  },
  "orig_nbformat": 2
 },
 "nbformat": 4,
 "nbformat_minor": 2
}