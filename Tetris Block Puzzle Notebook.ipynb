{
 "cells": [
  {
   "cell_type": "markdown",
   "id": "e6455c2a",
   "metadata": {},
   "source": [
    "### CIFO Tetris Block Puzzle\n",
    "\n",
    "Notebook for the development of a working tetris block puzzle representation. The output should be a function or a library that is able to produce pieces, grids, whatever."
   ]
  },
  {
   "cell_type": "markdown",
   "id": "17ec84b8",
   "metadata": {},
   "source": [
    "Fred and I developed a conceptual construction for the problem.\n",
    "First we need a programatical way to represent a solution in the grid.\n",
    "For that, we can define a list with strings containing two elements:\n",
    "\n",
    "Individual: `[<Letter><Number>]`, \n",
    "where letter represents the piece, and the number represents one of the possible 4 rotations of the piece. \n",
    "\n",
    "Given any of these elements, a 2d array representation of it can be built. For example, a square block would occupy the four coordinates `(i,j),(i+1,j),(i,j+1), and (i+1,j+1)`. \n",
    "\n",
    "\"But how do we know what i and j will be?\" This is answered by our proposed approach to filling the grid.\n",
    "Given the specified configuration for each combination of `<Letter><Number>`, the approach is for the program to take each element of the string sequentially, and place it according to its defined configuration in the first available space in the grid for it. \n",
    "\n",
    "Consider an array representation of such a grid, where 0s represent empty spots, and 1 occupied spots. \n",
    "The program will look for the first instance of a configuration of zeroes that can match the shape, and place them there. For the square example above, the program looks for the first zero in the grid, found at (0,0). This will be the i,j for the square. It then searches the given spots, checking for zeroes. If the shape can be placed, then the 0s become ones and the program moves to the next piece. If no configuration of matching 0s can be found, the program skips the piece, until it reaches the end of the individual string.\n",
    "\n",
    "A visualization of this algorithm can be found below:\n",
    "<br>\n",
    "<img src=\"Image1.png\" width=\"550\" title=\"Freds Guide to Teris Block Puzzle Program, Life, and everything\">\n",
    "\n"
   ]
  },
  {
   "cell_type": "code",
   "execution_count": null,
   "id": "ee4ba2ef",
   "metadata": {},
   "outputs": [],
   "source": [
    "# Imports."
   ]
  },
  {
   "cell_type": "code",
   "execution_count": 1,
   "id": "5cb1b758",
   "metadata": {},
   "outputs": [],
   "source": [
    "## Let's begin.\n",
    "\n",
    "# Dict of pieces and the coordinates that they will encode.\n",
    "# A piece will be composed by a number of squares, denoted by that same number of vectors that represents the coordinates of squares \n",
    "# that the piece occupies relative to its first square. \n",
    "\n",
    "t_dict = {\n",
    "    \"I\" : [(0,0),(1,0),(2,0),(3,0)],\n",
    "    \"L\" : [(0,0),(1,0),(2,0),(2,1)]\n",
    "    \n",
    "}\n"
   ]
  },
  {
   "cell_type": "code",
   "execution_count": null,
   "id": "acac3ad8",
   "metadata": {},
   "outputs": [],
   "source": [
    "# Here is the function that will do all the work.\n",
    "\n",
    "def tetrimino_fitter(piece_rotation=\"I1\",size=(4,5)):\n",
    "    \"\"\"\n",
    "    Piece is the code for the piece to try to fit.\n",
    "    Rotation is an integer representing one of four possible rotations for the piece.\n",
    "    Size is the size of the grid, given as a tuple.\n",
    "    \"\"\"\n",
    "    # Transform the corresponding piece into its matrix representation.\n",
    "    # Consider rotation and how that impacts the piece, and apply the corresponding transformation.\n",
    "    \n",
    "    # Initialize the grid.\n",
    "    \n",
    "    # Identify spots that can be filled. \n",
    "    \n",
    "    # For each such spot:\n",
    "    ## Try to fit the piece in this space. \n",
    "    ## If it fits, break loop. Else, keep going. \n",
    "    \n",
    "    \n",
    "    return pass"
   ]
  },
  {
   "cell_type": "code",
   "execution_count": null,
   "id": "cbc7bf8e",
   "metadata": {},
   "outputs": [],
   "source": [
    "# Visual Output for a Grid, and pieces that fill it."
   ]
  },
  {
   "cell_type": "code",
   "execution_count": null,
   "id": "ff8ba1fd",
   "metadata": {},
   "outputs": [],
   "source": []
  },
  {
   "cell_type": "code",
   "execution_count": null,
   "id": "5c2de2b9",
   "metadata": {},
   "outputs": [],
   "source": []
  },
  {
   "cell_type": "code",
   "execution_count": null,
   "id": "7982804d",
   "metadata": {},
   "outputs": [],
   "source": []
  }
 ],
 "metadata": {
  "kernelspec": {
   "display_name": "Python 3",
   "language": "python",
   "name": "python3"
  },
  "language_info": {
   "codemirror_mode": {
    "name": "ipython",
    "version": 3
   },
   "file_extension": ".py",
   "mimetype": "text/x-python",
   "name": "python",
   "nbconvert_exporter": "python",
   "pygments_lexer": "ipython3",
   "version": "3.8.8"
  }
 },
 "nbformat": 4,
 "nbformat_minor": 5
}
